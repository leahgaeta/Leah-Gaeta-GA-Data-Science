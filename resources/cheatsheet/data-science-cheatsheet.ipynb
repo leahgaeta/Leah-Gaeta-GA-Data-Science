{
 "cells": [
  {
   "cell_type": "markdown",
   "metadata": {
    "collapsed": true
   },
   "source": [
    "# Data Science Cheatsheet\n",
    "\n",
    "Python contains several packages and functions that make the process of data science a more enjoyable process than writing many of the functionalities from scratch. In this document, we will explore several of these methods.\n",
    "\n",
    "## Data Science Workflow\n",
    "\n",
    "Recall the data science workflow.\n",
    "\n",
    "![Data Science Workflow](assets/data-science-workflow-final.jpg)\n",
    "\n",
    "## Python packages\n",
    "\n",
    "Python packages contain data structures and methods that people have written to perform repeated tasks. They can be added to the current Python notebook using the command `import package_name`. To import specific methods, use `from package_name import method_name`.\n",
    "\n",
    "We will encounter several packages during the course of our studies. They will be added to this section as and when we encounter them.\n",
    "\n",
    "`numpy` - This package provides two useful data structures, `matrix` and `array`. These data structures are primarily for grouping and working with numbers. Additionally, it provides several methods for these data structures to quickly operate on them.\n",
    "\n",
    "`pandas` - This package contains a very useful data structure for data science `DataFrame`. It is essentially a table with named rows (indices) and columns, for those familiar with Excel. Each column can be a different data type - float, int, string, etc. The package provides high-performance, easy-to-use data structures.\n",
    "\n",
    "`scipy` - A collection of numerical algorithms and domain-specific toolboxes, including signal processing, optimization, statistics and much more.\n",
    "\n",
    "`matplotlib` - A collection of numerical algorithms and domain-specific toolboxes, including signal processing, optimization, statistics and much more.\n",
    "\n",
    "`seaborn` - A collection of pretty visualization methods.\n",
    "\n",
    "`statsmodels` - This is a Python module that provides classes and functions for the estimation of many different statistical models, as well as for conducting statistical tests, and statistical data exploration. An extensive list of result statistics are available for each estimator.\n",
    "\n",
    "Before you dive into the next section, make yourself familiar with Numpy and Pandas through [this notebook](numpy-and-pandas.ipynb).\n"
   ]
  },
  {
   "cell_type": "markdown",
   "metadata": {},
   "source": [
    "# Data Acquisition\n",
    "\n",
    "We will primarily use Pandas for data acquisition. Our data is assumed to be in flat, CSV files. Let's start with some introductory methods to create data frames from our data and get information out of them."
   ]
  },
  {
   "cell_type": "code",
   "execution_count": 4,
   "metadata": {
    "collapsed": false
   },
   "outputs": [
    {
     "data": {
      "text/plain": [
       "'/Users/naumz/Documents/Work/GA/Data Science/repo-instructor/resources/cheatsheet'"
      ]
     },
     "execution_count": 4,
     "metadata": {},
     "output_type": "execute_result"
    }
   ],
   "source": [
    "# get current working directory. Useful if getting errors about file loading.\n",
    "import os\n",
    "\n",
    "os.getcwd()"
   ]
  },
  {
   "cell_type": "code",
   "execution_count": 5,
   "metadata": {
    "collapsed": false
   },
   "outputs": [
    {
     "name": "stdout",
     "output_type": "stream",
     "text": [
      "(153, 6)\n"
     ]
    }
   ],
   "source": [
    "import pandas as pd \n",
    "import numpy as np\n",
    "import matplotlib.pyplot as plt\n",
    "\n",
    "data = pd.read_csv(os.path.join('.', 'assets', 'datasets', 'ozone.csv'))\n",
    "\n",
    "# print dimension of data\n",
    "print data.shape "
   ]
  },
  {
   "cell_type": "markdown",
   "metadata": {},
   "source": [
    "## Accessing data\n",
    "\n",
    "This section adds to the material already contained in [this notebook](numpy-and-pandas.ipynb) for creating data frames, accessing individual entries, spliciing etc."
   ]
  },
  {
   "cell_type": "code",
   "execution_count": 15,
   "metadata": {
    "collapsed": false
   },
   "outputs": [
    {
     "name": "stdout",
     "output_type": "stream",
     "text": [
      "   Ozone  Solar.R  Wind  Temp  Month  Day\n",
      "0   41.0    190.0   7.4    67      5    1\n",
      "1   36.0    118.0   8.0    72      5    2\n",
      "2   12.0    149.0  12.6    74      5    3\n",
      "3   18.0    313.0  11.5    62      5    4\n",
      "4    NaN      NaN  14.3    56      5    5\n",
      "     Ozone  Solar.R  Wind  Temp  Month  Day\n",
      "148   30.0    193.0   6.9    70      9   26\n",
      "149    NaN    145.0  13.2    77      9   27\n",
      "150   14.0    191.0  14.3    75      9   28\n",
      "151   18.0    131.0   8.0    76      9   29\n",
      "152   20.0    223.0  11.5    68      9   30\n"
     ]
    }
   ],
   "source": [
    "# display first 5 lines of data frame. Can show n lines by calling head(n)\n",
    "print data.head()\n",
    "\n",
    "# display last 5 lines of data frame. Can show n lines by calling tail(n)\n",
    "print data.tail()"
   ]
  },
  {
   "cell_type": "code",
   "execution_count": 7,
   "metadata": {
    "collapsed": false
   },
   "outputs": [
    {
     "name": "stdout",
     "output_type": "stream",
     "text": [
      "['Ozone' 'Solar.R' 'Wind' 'Temp' 'Month' 'Day']\n",
      "[  0   1   2   3   4   5   6   7   8   9  10  11  12  13  14  15  16  17\n",
      "  18  19  20  21  22  23  24  25  26  27  28  29  30  31  32  33  34  35\n",
      "  36  37  38  39  40  41  42  43  44  45  46  47  48  49  50  51  52  53\n",
      "  54  55  56  57  58  59  60  61  62  63  64  65  66  67  68  69  70  71\n",
      "  72  73  74  75  76  77  78  79  80  81  82  83  84  85  86  87  88  89\n",
      "  90  91  92  93  94  95  96  97  98  99 100 101 102 103 104 105 106 107\n",
      " 108 109 110 111 112 113 114 115 116 117 118 119 120 121 122 123 124 125\n",
      " 126 127 128 129 130 131 132 133 134 135 136 137 138 139 140 141 142 143\n",
      " 144 145 146 147 148 149 150 151 152]\n"
     ]
    }
   ],
   "source": [
    "# display column names\n",
    "print data.columns.values\n",
    "\n",
    "# display index names\n",
    "print data.index.values"
   ]
  },
  {
   "cell_type": "code",
   "execution_count": 13,
   "metadata": {
    "collapsed": false
   },
   "outputs": [
    {
     "name": "stdout",
     "output_type": "stream",
     "text": [
      "153\n",
      "153\n"
     ]
    }
   ],
   "source": [
    "# print number of rows\n",
    "print len(data)\n",
    "print data.shape[0]"
   ]
  },
  {
   "cell_type": "code",
   "execution_count": 20,
   "metadata": {
    "collapsed": false
   },
   "outputs": [
    {
     "name": "stdout",
     "output_type": "stream",
     "text": [
      "Ozone       NaN\n",
      "Solar.R     NaN\n",
      "Wind       14.3\n",
      "Temp       56.0\n",
      "Month       5.0\n",
      "Day         5.0\n",
      "Name: 4, dtype: float64\n",
      "   Ozone  Solar.R  Wind  Temp  Month  Day\n",
      "4    NaN      NaN  14.3    56      5    5\n",
      "56\n"
     ]
    }
   ],
   "source": [
    "# print 5th row\n",
    "print data.ix[4,]  # starts from 0\n",
    "\n",
    "# print 5th row as a dataframe\n",
    "print data.ix[[4,]]\n",
    "\n",
    "# print value of Temp in 5th row\n",
    "print data.ix[4,'Temp']"
   ]
  },
  {
   "cell_type": "code",
   "execution_count": 23,
   "metadata": {
    "collapsed": false
   },
   "outputs": [
    {
     "name": "stdout",
     "output_type": "stream",
     "text": [
      "37\n",
      "37\n",
      "37\n"
     ]
    }
   ],
   "source": [
    "# get missing values in column 'Ozone'\n",
    "print data['Ozone'].isnull().sum()\n",
    "print pd.isnull(data['Ozone']).sum()  # alternative way of writing first statement\n",
    "print len(data) - len(data['Ozone'].dropna())"
   ]
  },
  {
   "cell_type": "markdown",
   "metadata": {},
   "source": [
    "What is the mean of \"Temp\" when \"Month\" is equal to 6?"
   ]
  },
  {
   "cell_type": "code",
   "execution_count": 27,
   "metadata": {
    "collapsed": false
   },
   "outputs": [
    {
     "name": "stdout",
     "output_type": "stream",
     "text": [
      "79.1\n",
      "79.1\n",
      "79.1\n"
     ]
    }
   ],
   "source": [
    "print data[data['Month'] == 6]['Temp'].mean()\n",
    "print data[ data.Month==6 ]['Temp'].mean()  # notice how we can access the column as a variable instead of an array string index\n",
    "print data[ data.Month==6 ].Temp.mean()  # same here!"
   ]
  },
  {
   "cell_type": "markdown",
   "metadata": {},
   "source": [
    "Extract the subset of rows of the data frame where Ozone values are above 31 and Temp values are above 90. What is the mean of \"Solar.R\" in this subset?"
   ]
  },
  {
   "cell_type": "code",
   "execution_count": 24,
   "metadata": {
    "collapsed": false,
    "scrolled": true
   },
   "outputs": [
    {
     "name": "stdout",
     "output_type": "stream",
     "text": [
      "     Ozone  Solar.R  Wind  Temp  Month  Day\n",
      "68    97.0    267.0   6.3    92      7    8\n",
      "69    97.0    272.0   5.7    92      7    9\n",
      "119   76.0    203.0   9.7    97      8   28\n",
      "120  118.0    225.0   2.3    94      8   29\n",
      "121   84.0    237.0   6.3    96      8   30\n",
      "212.8\n"
     ]
    }
   ],
   "source": [
    "print data[(data.Ozone > 31) & (data.Temp > 90)].head()  # the parantheses around Ozone are important\n",
    "print data[(data.Ozone > 31) & (data.Temp > 90)]['Solar.R'].mean()"
   ]
  },
  {
   "cell_type": "markdown",
   "metadata": {},
   "source": [
    "# Parsing, Mining and Refining the Data\n",
    "\n",
    "In this section, we will explore various exploratory data analysis methods. For data cleaning, refer to the [Pandas and NumPy notebook](numpy-and-pandas.ipynb)."
   ]
  },
  {
   "cell_type": "code",
   "execution_count": 9,
   "metadata": {
    "collapsed": false
   },
   "outputs": [
    {
     "name": "stdout",
     "output_type": "stream",
     "text": [
      "   example1  example2  example3\n",
      "0        18        75        55\n",
      "1        24        87        47\n",
      "2        17        49        38\n",
      "3        21        68        66\n",
      "4        24        75        56\n",
      "5        16        84        64\n",
      "6        29        98        44\n",
      "7        18        92        39\n"
     ]
    }
   ],
   "source": [
    "import pandas as pd \n",
    "import numpy as np\n",
    "import matplotlib.pyplot as plt\n",
    "\n",
    "# Let's create a sample data frame.\n",
    "df = pd.DataFrame({'example1' : [18, 24, 17, 21, 24, 16, 29, 18], 'example2' : [75, 87, 49, 68, 75, 84, 98, 92], 'example3' : [55, 47, 38, 66, 56, 64, 44, 39] })\n",
    "print df"
   ]
  },
  {
   "cell_type": "code",
   "execution_count": 10,
   "metadata": {
    "collapsed": false
   },
   "outputs": [
    {
     "name": "stdout",
     "output_type": "stream",
     "text": [
      "example1    20.875\n",
      "example2    78.500\n",
      "example3    51.125\n",
      "dtype: float64\n",
      "example1    19.5\n",
      "example2    79.5\n",
      "example3    51.0\n",
      "dtype: float64\n",
      "   example1  example2  example3\n",
      "0        18      75.0       NaN\n",
      "1        24       NaN       NaN\n",
      "example1    29\n",
      "example2    98\n",
      "example3    66\n",
      "dtype: int64\n",
      "example1    16\n",
      "example2    49\n",
      "example3    38\n",
      "dtype: int64\n"
     ]
    }
   ],
   "source": [
    "# Now, let's compute various statistics associated with the data.\n",
    "# Each of these statistics is computed for each column separately.\n",
    "# Mean, median and mode are called measures of central tendency.\n",
    "print df.mean()  # mean\n",
    "print df.median()  # median\n",
    "print df.mode()  # mode (notice how the data structure forces some values to be NaN if there are fewer number of modes)\n",
    "print df.max()  # max\n",
    "print df.min()  # min"
   ]
  },
  {
   "cell_type": "code",
   "execution_count": 11,
   "metadata": {
    "collapsed": false
   },
   "outputs": [
    {
     "name": "stdout",
     "output_type": "stream",
     "text": [
      "example1    17.75\n",
      "example2    73.25\n",
      "example3    42.75\n",
      "Name: 0.25, dtype: float64\n",
      "example1    19.5\n",
      "example2    79.5\n",
      "example3    51.0\n",
      "Name: 0.5, dtype: float64\n",
      "example1    24.00\n",
      "example2    88.25\n",
      "example3    58.00\n",
      "Name: 0.75, dtype: float64\n"
     ]
    }
   ],
   "source": [
    "# Let's take a look at quantiles.\n",
    "print df.quantile(0.25)\n",
    "print df.quantile(0.50)  # the median!\n",
    "print df.quantile(0.75)"
   ]
  },
  {
   "cell_type": "code",
   "execution_count": 12,
   "metadata": {
    "collapsed": false
   },
   "outputs": [
    {
     "name": "stdout",
     "output_type": "stream",
     "text": [
      "example1     6.25\n",
      "example2    15.00\n",
      "example3    15.25\n",
      "dtype: float64\n",
      "example1     20.125000\n",
      "example2    238.571429\n",
      "example3    116.125000\n",
      "dtype: float64\n",
      "example1     4.486090\n",
      "example2    15.445758\n",
      "example3    10.776131\n",
      "dtype: float64\n"
     ]
    }
   ],
   "source": [
    "# The following are measures of dispersion.\n",
    "print df.quantile(0.75) - df.quantile(0.25)  # interquartile range\n",
    "print df.var()  # variance\n",
    "print df.std()  # standard deviation"
   ]
  },
  {
   "cell_type": "code",
   "execution_count": 13,
   "metadata": {
    "collapsed": false
   },
   "outputs": [
    {
     "data": {
      "text/plain": [
       "<matplotlib.axes._subplots.AxesSubplot at 0x102ec8c90>"
      ]
     },
     "execution_count": 13,
     "metadata": {},
     "output_type": "execute_result"
    },
    {
     "data": {
      "image/png": "[encoded data removed]",
      "text/plain": [
       "<matplotlib.figure.Figure at 0x10fa58210>"
      ]
     },
     "metadata": {},
     "output_type": "display_data"
    }
   ],
   "source": [
    "# Let's draw a box plot and see what the data looks like.\n",
    "# We first need to import the matplotlib library and call it inline\n",
    "import matplotlib.pyplot as plt\n",
    "%matplotlib inline\n",
    "\n",
    "df.plot(kind=\"box\")  # notice the one outlier in the column example2"
   ]
  },
  {
   "cell_type": "code",
   "execution_count": 14,
   "metadata": {
    "collapsed": false
   },
   "outputs": [
    {
     "data": {
      "text/plain": [
       "<matplotlib.axes._subplots.AxesSubplot at 0x10fa17a90>"
      ]
     },
     "execution_count": 14,
     "metadata": {},
     "output_type": "execute_result"
    },
    {
     "data": {
      "image/png": "[encoded data removed]",
      "text/plain": [
       "<matplotlib.figure.Figure at 0x11010c390>"
      ]
     },
     "metadata": {},
     "output_type": "display_data"
    }
   ],
   "source": [
    "df['example1'].plot(kind=\"box\")  # to plot just one column"
   ]
  },
  {
   "cell_type": "code",
   "execution_count": 15,
   "metadata": {
    "collapsed": false
   },
   "outputs": [
    {
     "name": "stdout",
     "output_type": "stream",
     "text": [
      "       example1   example2   example3\n",
      "count   8.00000   8.000000   8.000000\n",
      "mean   20.87500  78.500000  51.125000\n",
      "std     4.48609  15.445758  10.776131\n",
      "min    16.00000  49.000000  38.000000\n",
      "25%    17.75000  73.250000  42.750000\n",
      "50%    19.50000  79.500000  51.000000\n",
      "75%    24.00000  88.250000  58.000000\n",
      "max    29.00000  98.000000  66.000000\n"
     ]
    }
   ],
   "source": [
    "# short cut to many of the above functions!\n",
    "print df.describe()"
   ]
  },
  {
   "cell_type": "code",
   "execution_count": 16,
   "metadata": {
    "collapsed": false
   },
   "outputs": [
    {
     "data": {
      "text/html": [
       "<div>\n",
       "<table border=\"1\" class=\"dataframe\">\n",
       "  <thead>\n",
       "    <tr style=\"text-align: right;\">\n",
       "      <th></th>\n",
       "      <th>example1</th>\n",
       "      <th>example2</th>\n",
       "      <th>example3</th>\n",
       "    </tr>\n",
       "  </thead>\n",
       "  <tbody>\n",
       "    <tr>\n",
       "      <th>example1</th>\n",
       "      <td>1.000000</td>\n",
       "      <td>0.477283</td>\n",
       "      <td>-0.123745</td>\n",
       "    </tr>\n",
       "    <tr>\n",
       "      <th>example2</th>\n",
       "      <td>0.477283</td>\n",
       "      <td>1.000000</td>\n",
       "      <td>-0.057076</td>\n",
       "    </tr>\n",
       "    <tr>\n",
       "      <th>example3</th>\n",
       "      <td>-0.123745</td>\n",
       "      <td>-0.057076</td>\n",
       "      <td>1.000000</td>\n",
       "    </tr>\n",
       "  </tbody>\n",
       "</table>\n",
       "</div>"
      ],
      "text/plain": [
       "          example1  example2  example3\n",
       "example1  1.000000  0.477283 -0.123745\n",
       "example2  0.477283  1.000000 -0.057076\n",
       "example3 -0.123745 -0.057076  1.000000"
      ]
     },
     "execution_count": 16,
     "metadata": {},
     "output_type": "execute_result"
    }
   ],
   "source": [
    "# correlation between columns\n",
    "df.corr()"
   ]
  },
  {
   "cell_type": "code",
   "execution_count": 27,
   "metadata": {
    "collapsed": false
   },
   "outputs": [
    {
     "data": {
      "text/plain": [
       "array([[<matplotlib.axes._subplots.AxesSubplot object at 0x11052f350>,\n",
       "        <matplotlib.axes._subplots.AxesSubplot object at 0x11368dd50>,\n",
       "        <matplotlib.axes._subplots.AxesSubplot object at 0x113711f50>,\n",
       "        <matplotlib.axes._subplots.AxesSubplot object at 0x11374e690>],\n",
       "       [<matplotlib.axes._subplots.AxesSubplot object at 0x1137d2890>,\n",
       "        <matplotlib.axes._subplots.AxesSubplot object at 0x113845350>,\n",
       "        <matplotlib.axes._subplots.AxesSubplot object at 0x1138ca550>,\n",
       "        <matplotlib.axes._subplots.AxesSubplot object at 0x11393e0d0>],\n",
       "       [<matplotlib.axes._subplots.AxesSubplot object at 0x1139c1550>,\n",
       "        <matplotlib.axes._subplots.AxesSubplot object at 0x1139cfa10>,\n",
       "        <matplotlib.axes._subplots.AxesSubplot object at 0x113ab9490>,\n",
       "        <matplotlib.axes._subplots.AxesSubplot object at 0x113b3e410>],\n",
       "       [<matplotlib.axes._subplots.AxesSubplot object at 0x113bb0210>,\n",
       "        <matplotlib.axes._subplots.AxesSubplot object at 0x113c36290>,\n",
       "        <matplotlib.axes._subplots.AxesSubplot object at 0x113c9cb10>,\n",
       "        <matplotlib.axes._subplots.AxesSubplot object at 0x113d21c50>]], dtype=object)"
      ]
     },
     "execution_count": 27,
     "metadata": {},
     "output_type": "execute_result"
    },
    {
     "data": {
      "image/png": "[encoded data removed]",
      "text/plain": [
       "<matplotlib.figure.Figure at 0x112214690>"
      ]
     },
     "metadata": {},
     "output_type": "display_data"
    }
   ],
   "source": [
    "# Here is a graphical output to show correlational scatter plots\n",
    "# Before we do that, let's get some better data to show the plots better.\n",
    "data = pd.read_csv('http://www-bcf.usc.edu/~gareth/ISL/Advertising.csv', index_col=0)\n",
    "pd.scatter_matrix(data)  # notice how the diagnoals contain histograms."
   ]
  },
  {
   "cell_type": "code",
   "execution_count": 18,
   "metadata": {
    "collapsed": false
   },
   "outputs": [
    {
     "data": {
      "text/plain": [
       "<matplotlib.axes._subplots.AxesSubplot at 0x1119c0950>"
      ]
     },
     "execution_count": 18,
     "metadata": {},
     "output_type": "execute_result"
    },
    {
     "data": {
      "image/png": "[encoded data removed]",
      "text/plain": [
       "<matplotlib.figure.Figure at 0x1119c0110>"
      ]
     },
     "metadata": {},
     "output_type": "display_data"
    }
   ],
   "source": [
    "# Woah! Those plots are complicated to determine correlations. Can we have a better visualization?\n",
    "# Yes! After all, good visualization is very important to convey results. Let's look at a heatmap for this.\n",
    "# To use that, we will need another package, `seaborn`\n",
    "import seaborn as sns\n",
    "sns.heatmap(data.corr(), cmap=sns.diverging_palette(220, 10, as_cmap=True))  #cmap sets the color map to use"
   ]
  },
  {
   "cell_type": "code",
   "execution_count": 19,
   "metadata": {
    "collapsed": false
   },
   "outputs": [],
   "source": [
    "# Before we explore other measures of dispersion (skewness and kurtosis),\n",
    "# let's load a dataset that can explain these concepts more clearly.\n",
    "norm_data = np.random.normal(size=100000)\n",
    "skewed_data = np.concatenate((np.random.normal(size=35000)+2, \n",
    "                             np.random.exponential(size=65000)), \n",
    "                             axis=0)\n",
    "uniform_data = np.random.uniform(0,2, size=100000)\n",
    "peaked_data = np.concatenate((np.random.exponential(size=50000),\n",
    "                             np.random.exponential(size=50000)*(-1)),\n",
    "                             axis=0)\n",
    "\n",
    "data_df = pd.DataFrame({\"norm\":norm_data,\n",
    "                       \"skewed\":skewed_data,\n",
    "                       \"uniform\":uniform_data,\n",
    "                       \"peaked\":peaked_data})"
   ]
  },
  {
   "cell_type": "code",
   "execution_count": 20,
   "metadata": {
    "collapsed": false
   },
   "outputs": [
    {
     "data": {
      "text/plain": [
       "<matplotlib.axes._subplots.AxesSubplot at 0x1119a9f50>"
      ]
     },
     "execution_count": 20,
     "metadata": {},
     "output_type": "execute_result"
    },
    {
     "data": {
      "image/png": "[encoded data removed]",
      "text/plain": [
       "<matplotlib.figure.Figure at 0x111acccd0>"
      ]
     },
     "metadata": {},
     "output_type": "display_data"
    }
   ],
   "source": [
    "# Let's have a look at their probability densities\n",
    "data_df[\"norm\"].plot(kind=\"density\", xlim=(-5,5))"
   ]
  },
  {
   "cell_type": "code",
   "execution_count": 21,
   "metadata": {
    "collapsed": false
   },
   "outputs": [
    {
     "data": {
      "text/plain": [
       "<matplotlib.axes._subplots.AxesSubplot at 0x11210ef10>"
      ]
     },
     "execution_count": 21,
     "metadata": {},
     "output_type": "execute_result"
    },
    {
     "data": {
      "image/png": "[encoded data removed]",
      "text/plain": [
       "<matplotlib.figure.Figure at 0x1121213d0>"
      ]
     },
     "metadata": {},
     "output_type": "display_data"
    }
   ],
   "source": [
    "data_df[\"skewed\"].plot(kind=\"density\", xlim=(-5,5))"
   ]
  },
  {
   "cell_type": "code",
   "execution_count": 22,
   "metadata": {
    "collapsed": false
   },
   "outputs": [
    {
     "data": {
      "text/plain": [
       "<matplotlib.axes._subplots.AxesSubplot at 0x11214c310>"
      ]
     },
     "execution_count": 22,
     "metadata": {},
     "output_type": "execute_result"
    },
    {
     "data": {
      "image/png": "[encoded data removed]",
      "text/plain": [
       "<matplotlib.figure.Figure at 0x1120d6210>"
      ]
     },
     "metadata": {},
     "output_type": "display_data"
    }
   ],
   "source": [
    "data_df[\"uniform\"].plot(kind=\"density\", xlim=(-5,5))"
   ]
  },
  {
   "cell_type": "code",
   "execution_count": 23,
   "metadata": {
    "collapsed": false
   },
   "outputs": [
    {
     "data": {
      "text/plain": [
       "<matplotlib.axes._subplots.AxesSubplot at 0x111c2af50>"
      ]
     },
     "execution_count": 23,
     "metadata": {},
     "output_type": "execute_result"
    },
    {
     "data": {
      "image/png": "[encoded data removed]",
      "text/plain": [
       "<matplotlib.figure.Figure at 0x111bb6590>"
      ]
     },
     "metadata": {},
     "output_type": "display_data"
    }
   ],
   "source": [
    "data_df[\"peaked\"].plot(kind=\"density\", xlim=(-5,5))"
   ]
  },
  {
   "cell_type": "code",
   "execution_count": 25,
   "metadata": {
    "collapsed": false
   },
   "outputs": [
    {
     "name": "stdout",
     "output_type": "stream",
     "text": [
      "norm      -0.007127\n",
      "peaked     0.019226\n",
      "skewed     1.014525\n",
      "uniform    0.001749\n",
      "dtype: float64\n",
      "norm       0.009963\n",
      "peaked     2.888525\n",
      "skewed     1.317572\n",
      "uniform   -1.197782\n",
      "dtype: float64\n"
     ]
    }
   ],
   "source": [
    "#Now, let's look at skewness and kurtosis for these distributions\n",
    "print data_df.skew()  # skew\n",
    "print data_df.kurt()  # kurtosis"
   ]
  },
  {
   "cell_type": "markdown",
   "metadata": {},
   "source": [
    "## Additional Plotting Resources\n",
    "\n",
    "An exhaustive list of Pandas visualization (using matplotlib) can be found at the [Pandas Visualization page](http://pandas.pydata.org/pandas-docs/stable/visualization.html)\n",
    "\n",
    "Also, check out the [Data Visualization Lab](./data-visualization-lab.ipynb) from one of our lessons."
   ]
  },
  {
   "cell_type": "markdown",
   "metadata": {},
   "source": [
    "## Working with categorical data"
   ]
  },
  {
   "cell_type": "code",
   "execution_count": 30,
   "metadata": {
    "collapsed": false
   },
   "outputs": [
    {
     "name": "stdout",
     "output_type": "stream",
     "text": [
      "      TV  Radio  Newspaper  Sales   Size\n",
      "1  230.1   37.8       69.2   22.1  large\n",
      "2   44.5   39.3       45.1   10.4  small\n",
      "3   17.2   45.9       69.3    9.3  small\n",
      "4  151.5   41.3       58.5   18.5  small\n",
      "5  180.8   10.8       58.4   12.9  large\n"
     ]
    }
   ],
   "source": [
    "# Let's get back our advertising data and add a categorical variable to it, which can take two values.\n",
    "data = pd.read_csv('http://www-bcf.usc.edu/~gareth/ISL/Advertising.csv', index_col=0)\n",
    "# set a seed for reproducibility\n",
    "np.random.seed(12345)\n",
    "# create a Series of booleans in which roughly half are True\n",
    "nums = np.random.rand(len(data))\n",
    "mask_large = nums > 0.5\n",
    "# initially set Size to small, then change roughly half to be large\n",
    "data['Size'] = 'small'\n",
    "data.loc[mask_large, 'Size'] = 'large'\n",
    "print data.head()"
   ]
  },
  {
   "cell_type": "code",
   "execution_count": 31,
   "metadata": {
    "collapsed": false
   },
   "outputs": [
    {
     "name": "stdout",
     "output_type": "stream",
     "text": [
      "      TV  Radio  Newspaper  Sales   Size  IsLarge\n",
      "1  230.1   37.8       69.2   22.1  large        1\n",
      "2   44.5   39.3       45.1   10.4  small        0\n",
      "3   17.2   45.9       69.3    9.3  small        0\n",
      "4  151.5   41.3       58.5   18.5  small        0\n",
      "5  180.8   10.8       58.4   12.9  large        1\n"
     ]
    }
   ],
   "source": [
    "# For scikit-learn, which we will use to build some models, data has to be numerical.\n",
    "# So we will convert the `Size` column to be numerical by using the function map().\n",
    "# create a new Series called IsLarge\n",
    "data['IsLarge'] = data.Size.map({'small':0, 'large':1})\n",
    "print data.head()"
   ]
  },
  {
   "cell_type": "code",
   "execution_count": 33,
   "metadata": {
    "collapsed": false,
    "scrolled": true
   },
   "outputs": [
    {
     "name": "stdout",
     "output_type": "stream",
     "text": [
      "      TV  Radio  Newspaper  Sales   Size  IsLarge      Area\n",
      "1  230.1   37.8       69.2   22.1  large        1     rural\n",
      "2   44.5   39.3       45.1   10.4  small        0     urban\n",
      "3   17.2   45.9       69.3    9.3  small        0     rural\n",
      "4  151.5   41.3       58.5   18.5  small        0     urban\n",
      "5  180.8   10.8       58.4   12.9  large        1  suburban\n",
      "      TV  Radio  Newspaper  Sales   Size  IsLarge      Area  Area_suburban  \\\n",
      "1  230.1   37.8       69.2   22.1  large        1     rural              0   \n",
      "2   44.5   39.3       45.1   10.4  small        0     urban              0   \n",
      "3   17.2   45.9       69.3    9.3  small        0     rural              0   \n",
      "4  151.5   41.3       58.5   18.5  small        0     urban              0   \n",
      "5  180.8   10.8       58.4   12.9  large        1  suburban              1   \n",
      "\n",
      "   Area_urban  \n",
      "1           0  \n",
      "2           1  \n",
      "3           0  \n",
      "4           1  \n",
      "5           0  \n"
     ]
    }
   ],
   "source": [
    "# What if the categorical variable can take more than two variables?\n",
    "# We use the get_dummies() method.\n",
    "# Adding the extra categorical variable\n",
    "np.random.seed(123456)\n",
    "# assign roughly one third of observations to each group\n",
    "nums = np.random.rand(len(data))\n",
    "mask_suburban = (nums > 0.33) & (nums < 0.66)\n",
    "mask_urban = nums > 0.66\n",
    "data['Area'] = 'rural'\n",
    "data.loc[mask_suburban, 'Area'] = 'suburban'\n",
    "data.loc[mask_urban, 'Area'] = 'urban'\n",
    "print data.head()\n",
    "# using get_dummies() to create the necessary n-1 columns\n",
    "# create three dummy variables using get_dummies, then exclude the first dummy column\n",
    "area_dummies = pd.get_dummies(data.Area, prefix='Area').iloc[:, 1:]\n",
    "# concatenate the dummy variable columns onto the original DataFrame (axis=0 means rows, axis=1 means columns)\n",
    "data = pd.concat([data, area_dummies], axis=1)\n",
    "print data.head()"
   ]
  },
  {
   "cell_type": "markdown",
   "metadata": {},
   "source": [
    "# Central Limit Theorem\n",
    "\n",
    "We assume normal distributions in a lot of model building. This makes sense due to the Central Limit Thoerem. To read up more about it, check out the [Central Limit Theorem notebook](./central-limit-theorem.ipynb)."
   ]
  },
  {
   "cell_type": "markdown",
   "metadata": {},
   "source": [
    "# Building a Model\n",
    "\n",
    "## Hypothesis Testing\n",
    "\n",
    "We will test hypothesis testing as it relates to linear modeling. We'll dive into how to do linear regression models in later classes. To do this, we will use the `statsmodels` package. Details about the package can be found on the [documentation page](http://www.statsmodels.org/stable/index.html)"
   ]
  },
  {
   "cell_type": "code",
   "execution_count": 1,
   "metadata": {
    "collapsed": false
   },
   "outputs": [
    {
     "data": {
      "text/plain": [
       "<matplotlib.axes._subplots.AxesSubplot at 0x114b40250>"
      ]
     },
     "execution_count": 1,
     "metadata": {},
     "output_type": "execute_result"
    },
    {
     "data": {
      "image/png": "[encoded data removed]",
      "text/plain": [
       "<matplotlib.figure.Figure at 0x109b20a10>"
      ]
     },
     "metadata": {},
     "output_type": "display_data"
    }
   ],
   "source": [
    "# imports\n",
    "import pandas as pd\n",
    "import matplotlib.pyplot as plt\n",
    "# this allows plots to appear directly in the notebook\n",
    "%matplotlib inline\n",
    "\n",
    "# let's start with our advertising data.\n",
    "data = pd.read_csv('http://www-bcf.usc.edu/~gareth/ISL/Advertising.csv', index_col=0)\n",
    "\n",
    "# another way to visualize the scatter plots. This time, we will display on the same plot.\n",
    "# visualize the relationship between the features and the response using scatterplots\n",
    "fig, axs = plt.subplots(1, 3, sharey=True)\n",
    "data.plot(kind='scatter', x='TV', y='Sales', ax=axs[0], figsize=(16, 8))\n",
    "data.plot(kind='scatter', x='Radio', y='Sales', ax=axs[1])\n",
    "data.plot(kind='scatter', x='Newspaper', y='Sales', ax=axs[2])"
   ]
  },
  {
   "cell_type": "markdown",
   "metadata": {},
   "source": [
    "Let's use `Statsmodels` to estimate the associations between advertising efforts and sales. "
   ]
  },
  {
   "cell_type": "code",
   "execution_count": 2,
   "metadata": {
    "collapsed": false
   },
   "outputs": [
    {
     "data": {
      "text/html": [
       "<table class=\"simpletable\">\n",
       "<caption>OLS Regression Results</caption>\n",
       "<tr>\n",
       "  <th>Dep. Variable:</th>          <td>Sales</td>      <th>  R-squared:         </th> <td>   0.612</td>\n",
       "</tr>\n",
       "<tr>\n",
       "  <th>Model:</th>                   <td>OLS</td>       <th>  Adj. R-squared:    </th> <td>   0.610</td>\n",
       "</tr>\n",
       "<tr>\n",
       "  <th>Method:</th>             <td>Least Squares</td>  <th>  F-statistic:       </th> <td>   312.1</td>\n",
       "</tr>\n",
       "<tr>\n",
       "  <th>Date:</th>             <td>Sun, 21 May 2017</td> <th>  Prob (F-statistic):</th> <td>1.47e-42</td>\n",
       "</tr>\n",
       "<tr>\n",
       "  <th>Time:</th>                 <td>21:25:40</td>     <th>  Log-Likelihood:    </th> <td> -519.05</td>\n",
       "</tr>\n",
       "<tr>\n",
       "  <th>No. Observations:</th>      <td>   200</td>      <th>  AIC:               </th> <td>   1042.</td>\n",
       "</tr>\n",
       "<tr>\n",
       "  <th>Df Residuals:</th>          <td>   198</td>      <th>  BIC:               </th> <td>   1049.</td>\n",
       "</tr>\n",
       "<tr>\n",
       "  <th>Df Model:</th>              <td>     1</td>      <th>                     </th>     <td> </td>   \n",
       "</tr>\n",
       "<tr>\n",
       "  <th>Covariance Type:</th>      <td>nonrobust</td>    <th>                     </th>     <td> </td>   \n",
       "</tr>\n",
       "</table>\n",
       "<table class=\"simpletable\">\n",
       "<tr>\n",
       "      <td></td>         <th>coef</th>     <th>std err</th>      <th>t</th>      <th>P>|t|</th> <th>[95.0% Conf. Int.]</th> \n",
       "</tr>\n",
       "<tr>\n",
       "  <th>Intercept</th> <td>    7.0326</td> <td>    0.458</td> <td>   15.360</td> <td> 0.000</td> <td>    6.130     7.935</td>\n",
       "</tr>\n",
       "<tr>\n",
       "  <th>TV</th>        <td>    0.0475</td> <td>    0.003</td> <td>   17.668</td> <td> 0.000</td> <td>    0.042     0.053</td>\n",
       "</tr>\n",
       "</table>\n",
       "<table class=\"simpletable\">\n",
       "<tr>\n",
       "  <th>Omnibus:</th>       <td> 0.531</td> <th>  Durbin-Watson:     </th> <td>   1.935</td>\n",
       "</tr>\n",
       "<tr>\n",
       "  <th>Prob(Omnibus):</th> <td> 0.767</td> <th>  Jarque-Bera (JB):  </th> <td>   0.669</td>\n",
       "</tr>\n",
       "<tr>\n",
       "  <th>Skew:</th>          <td>-0.089</td> <th>  Prob(JB):          </th> <td>   0.716</td>\n",
       "</tr>\n",
       "<tr>\n",
       "  <th>Kurtosis:</th>      <td> 2.779</td> <th>  Cond. No.          </th> <td>    338.</td>\n",
       "</tr>\n",
       "</table>"
      ],
      "text/plain": [
       "<class 'statsmodels.iolib.summary.Summary'>\n",
       "\"\"\"\n",
       "                            OLS Regression Results                            \n",
       "==============================================================================\n",
       "Dep. Variable:                  Sales   R-squared:                       0.612\n",
       "Model:                            OLS   Adj. R-squared:                  0.610\n",
       "Method:                 Least Squares   F-statistic:                     312.1\n",
       "Date:                Sun, 21 May 2017   Prob (F-statistic):           1.47e-42\n",
       "Time:                        21:25:40   Log-Likelihood:                -519.05\n",
       "No. Observations:                 200   AIC:                             1042.\n",
       "Df Residuals:                     198   BIC:                             1049.\n",
       "Df Model:                           1                                         \n",
       "Covariance Type:            nonrobust                                         \n",
       "==============================================================================\n",
       "                 coef    std err          t      P>|t|      [95.0% Conf. Int.]\n",
       "------------------------------------------------------------------------------\n",
       "Intercept      7.0326      0.458     15.360      0.000         6.130     7.935\n",
       "TV             0.0475      0.003     17.668      0.000         0.042     0.053\n",
       "==============================================================================\n",
       "Omnibus:                        0.531   Durbin-Watson:                   1.935\n",
       "Prob(Omnibus):                  0.767   Jarque-Bera (JB):                0.669\n",
       "Skew:                          -0.089   Prob(JB):                        0.716\n",
       "Kurtosis:                       2.779   Cond. No.                         338.\n",
       "==============================================================================\n",
       "\n",
       "Warnings:\n",
       "[1] Standard Errors assume that the covariance matrix of the errors is correctly specified.\n",
       "\"\"\""
      ]
     },
     "execution_count": 2,
     "metadata": {},
     "output_type": "execute_result"
    }
   ],
   "source": [
    "# this is the standard import if you're using \"formula notation\" (similar to R)\n",
    "import statsmodels.formula.api as smf\n",
    "\n",
    "# create a fitted model in one line\n",
    "# formula notiation is the equivalent to writting out our models such that 'outcome = predictor'\n",
    "# with the follwing syntax formula = 'outcome ~ predictor1 + predictor2 ... predictorN'\n",
    "lm = smf.ols(formula='Sales ~ TV', data=data).fit()\n",
    "\n",
    "#print the full summary\n",
    "lm.summary()"
   ]
  },
  {
   "cell_type": "code",
   "execution_count": 3,
   "metadata": {
    "collapsed": false
   },
   "outputs": [
    {
     "data": {
      "text/plain": [
       "Intercept    7.032594\n",
       "TV           0.047537\n",
       "dtype: float64"
      ]
     },
     "execution_count": 3,
     "metadata": {},
     "output_type": "execute_result"
    }
   ],
   "source": [
    "# print the coefficients\n",
    "lm.params"
   ]
  },
  {
   "cell_type": "markdown",
   "metadata": {},
   "source": [
    "## Interpreting Model Coefficients\n",
    "\n",
    "How do we interpret the TV coefficient ($\\beta_1$)?\n",
    "- A \"unit\" increase in TV ad spending is **associated with** a 0.047537 \"unit\" increase in Sales.\n",
    "- Or more clearly: An additional $1,000 spent on TV ads is **associated with** an increase in sales of 47.537 widgets.\n",
    "\n",
    "Note that if an increase in TV ad spending was associated with a **decrease** in sales, $\\beta_1$ would be **negative**.\n",
    "\n",
    "## Using the Model for Prediction\n",
    "\n",
    "Let's say that there was a new market where the TV advertising spend was **$50,000**. What would we predict for the Sales in that market?\n",
    "\n",
    "$$y = \\beta_0 + \\beta_1x$$\n",
    "$$y = 7.032594 + 0.047537 \\times 50000$$"
   ]
  },
  {
   "cell_type": "code",
   "execution_count": 45,
   "metadata": {
    "collapsed": false
   },
   "outputs": [
    {
     "data": {
      "text/plain": [
       "2383.882594"
      ]
     },
     "execution_count": 45,
     "metadata": {},
     "output_type": "execute_result"
    }
   ],
   "source": [
    "# manually calculate the prediction\n",
    "7.032594 + 0.047537*50000"
   ]
  },
  {
   "cell_type": "markdown",
   "metadata": {},
   "source": [
    "Thus, we would predict Sales of **2,383 widgets** in that market.\n",
    "\n",
    "Of course, we can also use Statsmodels to make the prediction:"
   ]
  },
  {
   "cell_type": "code",
   "execution_count": 46,
   "metadata": {
    "collapsed": false
   },
   "outputs": [
    {
     "data": {
      "text/html": [
       "<div>\n",
       "<table border=\"1\" class=\"dataframe\">\n",
       "  <thead>\n",
       "    <tr style=\"text-align: right;\">\n",
       "      <th></th>\n",
       "      <th>TV</th>\n",
       "    </tr>\n",
       "  </thead>\n",
       "  <tbody>\n",
       "    <tr>\n",
       "      <th>0</th>\n",
       "      <td>50000</td>\n",
       "    </tr>\n",
       "  </tbody>\n",
       "</table>\n",
       "</div>"
      ],
      "text/plain": [
       "      TV\n",
       "0  50000"
      ]
     },
     "execution_count": 46,
     "metadata": {},
     "output_type": "execute_result"
    }
   ],
   "source": [
    "# you have to create a DataFrame since the Statsmodels formula interface expects it\n",
    "X_new = pd.DataFrame({'TV': [50000]})\n",
    "X_new.head()"
   ]
  },
  {
   "cell_type": "code",
   "execution_count": 47,
   "metadata": {
    "collapsed": false
   },
   "outputs": [
    {
     "data": {
      "text/plain": [
       "array([ 2383.8646152])"
      ]
     },
     "execution_count": 47,
     "metadata": {},
     "output_type": "execute_result"
    }
   ],
   "source": [
    "# use the model to make predictions on a new value\n",
    "lm.predict(X_new)  # same value as before!"
   ]
  },
  {
   "cell_type": "code",
   "execution_count": 48,
   "metadata": {
    "collapsed": false
   },
   "outputs": [
    {
     "name": "stdout",
     "output_type": "stream",
     "text": [
      "Intercept    1.406300e-35\n",
      "TV           1.467390e-42\n",
      "dtype: float64\n",
      "                  0         1\n",
      "Intercept  6.129719  7.935468\n",
      "TV         0.042231  0.052843\n"
     ]
    }
   ],
   "source": [
    "# determine confidence in our model\n",
    "print lm.pvalues\n",
    "print lm.conf_int()"
   ]
  },
  {
   "cell_type": "markdown",
   "metadata": {
    "collapsed": true
   },
   "source": [
    "## Statistical Tests\n",
    "\n",
    "There are a few good statistical tests for A/B testing:\n",
    "* [ANOVA](https://en.wikipedia.org/wiki/Analysis_of_variance)\n",
    "* [Welch's t-test](https://en.wikipedia.org/wiki/Welch's_t-test)\n",
    "* [Mann-Whitney test](https://en.wikipedia.org/wiki/Mann%E2%80%93Whitney_U_test)\n",
    "\n",
    "Each test makes various assumptions:\n",
    "* ANOVA assumes normal distributions and equal variances in the two data sets\n",
    "* The Welch t-test assumes normal distributions but not necessarily equal variances, and accounts for small sample sizes better\n",
    "* The Mann-Whitney test assumes nothing about the distributions but requires at least 20 data points in each set, and produces a weaker p-value\n",
    "\n",
    "Typically you need to choose the most appropriate test. Tests that make more assumptions are more discriminating (stronger p-values) but can be misleading on data sets that don't satisfy the assumptions."
   ]
  },
  {
   "cell_type": "markdown",
   "metadata": {},
   "source": [
    "All of these tests are available in the `scipy` library, a stats library for python:\n",
    "* [ANOVA](http://docs.scipy.org/doc/scipy-0.17.0/reference/generated/scipy.stats.f_oneway.html)\n",
    "* [Welch's t-test](http://docs.scipy.org/doc/scipy/reference/generated/scipy.stats.ttest_ind.html)\n",
    "* [Mann-Whitney](http://docs.scipy.org/doc/scipy-0.17.0/reference/generated/scipy.stats.mannwhitneyu.html)"
   ]
  },
  {
   "cell_type": "markdown",
   "metadata": {},
   "source": [
    "#For example, to use ANOVA\n",
    "\n",
    "`statistic, pvalue = stats.f_oneway(df[\"A\"], df[\"B\"])`\n",
    "\n",
    "`print pvalue`"
   ]
  },
  {
   "cell_type": "markdown",
   "metadata": {},
   "source": [
    "# Regression\n",
    "\n",
    "Regression is used to analyze and/or predict continuous outcome variables. In Python, this can be done using the `sklearn` (scikit-learn) or `statsmodels` package. Here we look at both approaches.\n",
    "\n",
    "\n",
    "Before we do that, though, it will be useful to outline the steps to follow in a regression problem."
   ]
  },
  {
   "cell_type": "markdown",
   "metadata": {},
   "source": [
    "### Regression Workflow"
   ]
  },
  {
   "cell_type": "markdown",
   "metadata": {},
   "source": [
    "**Step 0** Conduct exploratory data analysis to identify missing data, outliers, truncation, data censoring etc. using visual and descriptive statistics (refer to the sections above). Determine how to handle missing data and outliers. Remember that outliers should not be removed unless there is a non-statistical reason for doing so.\n",
    "\n",
    "**Step 1** Adjust variables for abnormally large or small ranges compared to other variables if needed using quadratic, cubic, logarithmic transform etc. This can also be done at the end in the formula when passing the variables in the model formulation step. Adjust variables for centering and scaling if desired to have interpretable coefficients. Functions that can be used to visualize these issues include `sns.lmplot` and `sns.pairplot`.\n",
    "\n",
    "**Step 2** Plot the variables against one another to identify relationships (correlations between independent and dependent variables are good; correlations between independent variables is not good - multicollinearity). Functions that can be used here include `sns.pairplot`.\n",
    "\n",
    "**Step 3** Address multicollinearity betweeen independent variables by excluding some of the variables or determining to use regularization methods such as LASSO, Ridge or Elastic Net.\n",
    "\n",
    "**Step 4** Convert categorical variables to discrete variables. Functions that can be used here include `pd.get_dummies` (important: note its `prefix` option - very handy!). Remember to remove one of the generated columns (values of the variable) to avoid potential multicollinearity issues!\n",
    "\n",
    "**Step 5** Prepare the data to build the model. If using `statsmodels`, remember that the intercept has to be passed explicitly. This can be done using `np.vander(X, 2)` or `sm.add_constant(X)`. This is not needed when using the `sklearn` functions.\n",
    "\n",
    "**Step 6** Use the model building functions in `statsmodels` or `sklearn` to build the desired model. Functions include `sm.OLS` or `smf.OLS` in `statsmodels` and `linear_model.LinearRegression()`. Note that `sm` is used to pass the model data as variables and `smf` is used to pass the model data as a formula.\n",
    "\n",
    "**Step 7** Analyze the model results - adjusted R-squared, p-values and mean squared error. Also, look out for anomalous values of coefficients. Determine whether model assumptions (normality, homoscedasticity, independence) have been met. Functions to perform this include `.fit()` followed by `.summary()` in `statsmodels` models. In the `sklearn` package, it is a bit more complicated. Functions include `pvalues = feature_selection.f_regression(X, y)`, `residuals = (y-algo.predict(X)).values`, `coefficients = algo.coef_`, `y-intercept = algo.intercept_`, `r-squared = algo.score(X,y)`.\n",
    "\n",
    "**Step 8** Determine whether the model is a good one or needs to be improved upon by regularization, cross-validation methods. Functions to do this include `sklearn` package's `cross_validation.KFold` for cross-validation, and `Lasso()`, `Ridge()`, `ElasticNet()` for regularization.\n",
    "\n",
    "**Step 8** Alternatively, build the model using gradient descent and grid search to work quickly with large amounts of data and complex models. Functions to do this include `SGDRegressor()` and `grid_search.GridSearchCV()` in `sklearn` package."
   ]
  },
  {
   "cell_type": "markdown",
   "metadata": {},
   "source": [
    "### Regression model examples\n",
    "\n",
    "Check worked out linear regression examples using both `sklearn` and `statsmodels` package in the [Linear Regression notebook](./linear-regression.ipynb)."
   ]
  },
  {
   "cell_type": "markdown",
   "metadata": {
    "collapsed": true
   },
   "source": [
    "### Regularization\n",
    "\n",
    "Regularization is used to trade-off bias error for generalized error. Essentially, adding regularization to a model helps reduce the degree of overfitting by forcing the model to be simpler.\n",
    "\n",
    "This can be done in many different ways. Two popular ways to do it are L1 and L2 regularization. Lasso (or LASSO) Regression uses the L1 penalty function and Ridge Regression uses L2 regularization. Elastic Net uses a combination of the two.\n",
    "\n",
    "Lasso regression forces coefficients to actually become zero. Consequently, it is preferred in situations where there are many features, to reduce the number of features used in the model. Ridge regression reduces the values of the coefficients. Consequently, it builds models where the outcome variables does not depend too heavily on some of the feature variables.\n",
    "\n",
    "It is important from the above discussion to note that Lasso regression does feature selection as well as parameter (coefficient) shrinkage (reduction), whereas Ridge regression only does parameter shrinkage. For high-dimensional problems, therefore, Lasso is preferred.\n",
    "\n",
    "All three regularization techniques can be  performed using the `sklearn` package. For a demonstration of these and other regularization techniques, check out the [Regularization notebook](./regularization.ipynb)."
   ]
  },
  {
   "cell_type": "code",
   "execution_count": null,
   "metadata": {
    "collapsed": true
   },
   "outputs": [],
   "source": []
  }
 ],
 "metadata": {
  "kernelspec": {
   "display_name": "Python 2",
   "language": "python",
   "name": "python2"
  },
  "language_info": {
   "codemirror_mode": {
    "name": "ipython",
    "version": 2
   },
   "file_extension": ".py",
   "mimetype": "text/x-python",
   "name": "python",
   "nbconvert_exporter": "python",
   "pygments_lexer": "ipython2",
   "version": "2.7.13"
  }
 },
 "nbformat": 4,
 "nbformat_minor": 0
}
