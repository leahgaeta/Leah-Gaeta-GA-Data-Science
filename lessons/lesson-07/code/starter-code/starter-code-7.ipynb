{
 "cells": [
  {
   "cell_type": "markdown",
   "metadata": {},
   "source": [
    "### Class 7- Starter code\n"
   ]
  },
  {
   "cell_type": "markdown",
   "metadata": {},
   "source": [
    "## Demo: Residual Error (15 mins)"
   ]
  },
  {
   "cell_type": "code",
   "execution_count": 1,
   "metadata": {},
   "outputs": [
    {
     "name": "stdout",
     "output_type": "stream",
     "text": [
      "P Values: [  9.15540205e-26]\n",
      "Coefficients: [ 0.00096395]\n",
      "y-intercept: 0.0859173102936\n",
      "R-Squared: 0.871949198087\n",
      "Mean squared error: 0.119901525171\n"
     ]
    },
    {
     "data": {
      "image/png": "[encoded data removed]",
      "text/plain": [
       "<matplotlib.figure.Figure at 0x11291c050>"
      ]
     },
     "metadata": {},
     "output_type": "display_data"
    }
   ],
   "source": [
    "%matplotlib inline\n",
    "import numpy as np\n",
    "import pandas as pd\n",
    "from matplotlib import pyplot as plt\n",
    "import seaborn as sns\n",
    "sns.set_style(\"darkgrid\")\n",
    "from sklearn import linear_model, metrics\n",
    "\n",
    "# read in the mammal dataset\n",
    "wd = '../dataset/msleep/'\n",
    "mammals = pd.read_csv(wd+'msleep.csv')\n",
    "mammals = mammals[mammals.brainwt.notnull()].copy()\n",
    "\n",
    "from sklearn import feature_selection, linear_model\n",
    "\n",
    "def get_linear_model_metrics(X, y, algo):\n",
    "    # get the pvalue of X given y. Ignore f-stat for now.\n",
    "    pvals = feature_selection.f_regression(X, y)[1]\n",
    "    # start with an empty linear regression object\n",
    "    # .fit() runs the linear regression function on X and y\n",
    "    algo.fit(X,y)\n",
    "    residuals = (y-algo.predict(X)).values\n",
    "\n",
    "    # print the necessary values\n",
    "    print 'P Values:', pvals\n",
    "    print 'Coefficients:', algo.coef_\n",
    "    print 'y-intercept:', algo.intercept_\n",
    "    print 'R-Squared:', algo.score(X,y)\n",
    "    print 'Mean squared error:', metrics.mean_squared_error(y, algo.predict(X))\n",
    "    plt.figure()\n",
    "    plt.hist(residuals, bins=int(np.ceil(np.sqrt(len(y)))))\n",
    "    \n",
    "    # keep the model\n",
    "    return algo\n",
    "\n",
    "\n",
    "X = mammals[['bodywt']]\n",
    "y = mammals['brainwt']\n",
    "lm = linear_model.LinearRegression()\n",
    "lm = get_linear_model_metrics(X, y, lm)\n"
   ]
  },
  {
   "cell_type": "markdown",
   "metadata": {},
   "source": [
    "## Cross validation\n",
    "#### Intro to cross validation with bike share data from last time. We will be modeling casual ridership. "
   ]
  },
  {
   "cell_type": "code",
   "execution_count": 2,
   "metadata": {},
   "outputs": [
    {
     "name": "stderr",
     "output_type": "stream",
     "text": [
      "/Users/leahgaeta/anaconda2/lib/python2.7/site-packages/sklearn/cross_validation.py:41: DeprecationWarning: This module was deprecated in version 0.18 in favor of the model_selection module into which all the refactored classes and functions are moved. Also note that the interface of the new CV iterators are different from that of this module. This module will be removed in 0.20.\n",
      "  \"This module will be removed in 0.20.\", DeprecationWarning)\n"
     ]
    }
   ],
   "source": [
    "from sklearn import cross_validation\n",
    "wd = '../dataset/'\n",
    "bikeshare = pd.read_csv(wd + 'bikeshare.csv')"
   ]
  },
  {
   "cell_type": "markdown",
   "metadata": {},
   "source": [
    "####Create dummy variables and set outcome (dependent) variable"
   ]
  },
  {
   "cell_type": "code",
   "execution_count": 3,
   "metadata": {
    "collapsed": true
   },
   "outputs": [],
   "source": [
    "weather = pd.get_dummies(bikeshare.weathersit, prefix='weather')  # alternative short-cut way!\n",
    "modeldata = bikeshare[['temp', 'hum']].join(weather[['weather_1', 'weather_2', 'weather_3']])\n",
    "y = bikeshare.casual "
   ]
  },
  {
   "cell_type": "code",
   "execution_count": 5,
   "metadata": {},
   "outputs": [
    {
     "data": {
      "text/html": [
       "<div>\n",
       "<style>\n",
       "    .dataframe thead tr:only-child th {\n",
       "        text-align: right;\n",
       "    }\n",
       "\n",
       "    .dataframe thead th {\n",
       "        text-align: left;\n",
       "    }\n",
       "\n",
       "    .dataframe tbody tr th {\n",
       "        vertical-align: top;\n",
       "    }\n",
       "</style>\n",
       "<table border=\"1\" class=\"dataframe\">\n",
       "  <thead>\n",
       "    <tr style=\"text-align: right;\">\n",
       "      <th></th>\n",
       "      <th>temp</th>\n",
       "      <th>hum</th>\n",
       "      <th>weather_1</th>\n",
       "      <th>weather_2</th>\n",
       "      <th>weather_3</th>\n",
       "    </tr>\n",
       "  </thead>\n",
       "  <tbody>\n",
       "    <tr>\n",
       "      <th>0</th>\n",
       "      <td>0.24</td>\n",
       "      <td>0.81</td>\n",
       "      <td>1</td>\n",
       "      <td>0</td>\n",
       "      <td>0</td>\n",
       "    </tr>\n",
       "    <tr>\n",
       "      <th>1</th>\n",
       "      <td>0.22</td>\n",
       "      <td>0.80</td>\n",
       "      <td>1</td>\n",
       "      <td>0</td>\n",
       "      <td>0</td>\n",
       "    </tr>\n",
       "    <tr>\n",
       "      <th>2</th>\n",
       "      <td>0.22</td>\n",
       "      <td>0.80</td>\n",
       "      <td>1</td>\n",
       "      <td>0</td>\n",
       "      <td>0</td>\n",
       "    </tr>\n",
       "    <tr>\n",
       "      <th>3</th>\n",
       "      <td>0.24</td>\n",
       "      <td>0.75</td>\n",
       "      <td>1</td>\n",
       "      <td>0</td>\n",
       "      <td>0</td>\n",
       "    </tr>\n",
       "    <tr>\n",
       "      <th>4</th>\n",
       "      <td>0.24</td>\n",
       "      <td>0.75</td>\n",
       "      <td>1</td>\n",
       "      <td>0</td>\n",
       "      <td>0</td>\n",
       "    </tr>\n",
       "  </tbody>\n",
       "</table>\n",
       "</div>"
      ],
      "text/plain": [
       "   temp   hum  weather_1  weather_2  weather_3\n",
       "0  0.24  0.81          1          0          0\n",
       "1  0.22  0.80          1          0          0\n",
       "2  0.22  0.80          1          0          0\n",
       "3  0.24  0.75          1          0          0\n",
       "4  0.24  0.75          1          0          0"
      ]
     },
     "execution_count": 5,
     "metadata": {},
     "output_type": "execute_result"
    }
   ],
   "source": [
    "modeldata.head()"
   ]
  },
  {
   "cell_type": "markdown",
   "metadata": {},
   "source": [
    "#### Create a cross valiation with 5 folds"
   ]
  },
  {
   "cell_type": "code",
   "execution_count": 6,
   "metadata": {
    "collapsed": true
   },
   "outputs": [],
   "source": [
    "kf = cross_validation.KFold(len(modeldata), n_folds=5, shuffle=True)"
   ]
  },
  {
   "cell_type": "code",
   "execution_count": 7,
   "metadata": {},
   "outputs": [
    {
     "data": {
      "text/plain": [
       "sklearn.cross_validation.KFold(n=17379, n_folds=5, shuffle=True, random_state=None)"
      ]
     },
     "execution_count": 7,
     "metadata": {},
     "output_type": "execute_result"
    }
   ],
   "source": [
    "kf"
   ]
  },
  {
   "cell_type": "code",
   "execution_count": 23,
   "metadata": {},
   "outputs": [
    {
     "name": "stdout",
     "output_type": "stream",
     "text": [
      "~~~~ CROSS VALIDATION each fold ~~~~\n",
      "Model 1\n",
      "MSE: 1675.36956007\n",
      "R2: 0.31187671319\n",
      "Model 2\n",
      "MSE: 1760.63709037\n",
      "R2: 0.311866248622\n",
      "Model 3\n",
      "MSE: 1644.87187767\n",
      "R2: 0.311894176931\n",
      "Model 4\n",
      "MSE: 1649.04519654\n",
      "R2: 0.311888958325\n",
      "Model 5\n",
      "MSE: 1638.42192164\n",
      "R2: 0.311897508303\n",
      "~~~~ SUMMARY OF CROSS VALIDATION ~~~~\n",
      "Mean of MSE for all folds: 1673.66912926\n",
      "Mean of R2 for all folds: 0.311884721074\n"
     ]
    }
   ],
   "source": [
    "mse_values = []\n",
    "scores = []\n",
    "n= 0\n",
    "print \"~~~~ CROSS VALIDATION each fold ~~~~\"\n",
    "for train_index, test_index in kf:\n",
    "    lm = linear_model.LinearRegression().fit(modeldata.iloc[train_index], y.iloc[train_index])\n",
    "    mse_values.append(metrics.mean_squared_error(y.iloc[test_index], lm.predict(modeldata.iloc[test_index])))\n",
    "    scores.append(lm.score(modeldata, y))\n",
    "    n+=1\n",
    "    print 'Model', n\n",
    "    print 'MSE:', mse_values[n-1]\n",
    "    print 'R2:', scores[n-1]\n",
    "\n",
    "\n",
    "print \"~~~~ SUMMARY OF CROSS VALIDATION ~~~~\"\n",
    "print 'Mean of MSE for all folds:', np.mean(mse_values)\n",
    "print 'Mean of R2 for all folds:', np.mean(scores)"
   ]
  },
  {
   "cell_type": "code",
   "execution_count": 12,
   "metadata": {},
   "outputs": [],
   "source": [
    "kfolds = range(2,51,2)\n",
    "mean_mse = []\n",
    "mean_r2 = []\n",
    "for each_fold in kfolds:\n",
    "    kf = cross_validation.KFold(len(modeldata), n_folds=each_fold, shuffle=True)\n",
    "    mse_values = []\n",
    "    scores = []\n",
    "    n= 0\n",
    "    for train_index, test_index in kf:\n",
    "        lm = linear_model.LinearRegression().fit(modeldata.iloc[train_index], y.iloc[train_index])\n",
    "        mse_values.append(metrics.mean_squared_error(y.iloc[test_index], lm.predict(modeldata.iloc[test_index])))\n",
    "        scores.append(lm.score(modeldata, y))\n",
    "        n+=1\n",
    "\n",
    "\n",
    "# stores the mean of the MSE and R2\n",
    "    mean_mse.append(np.mean(mse_values))\n",
    "    mean_r2.append(np.mean(scores))"
   ]
  },
  {
   "cell_type": "code",
   "execution_count": 13,
   "metadata": {},
   "outputs": [
    {
     "name": "stdout",
     "output_type": "stream",
     "text": [
      "[1673.9350143342863, 1673.0953788185643, 1673.5780143290356, 1673.2706418019266, 1673.5184050817566, 1673.2316989024946, 1673.4435782201344, 1673.6024166050859, 1673.2355450251714, 1673.5830712924956, 1673.5436960242378, 1673.8174180410881, 1673.5275165509618, 1673.5486668708515, 1673.4912963342795, 1673.6611660826802, 1673.2060437289026, 1673.4094958648993, 1673.3477650054913, 1673.4913060585045, 1673.4387315393428, 1673.6174225182797, 1673.4686095531799, 1673.3633340343797, 1673.4735465243291]\n",
      "[0.3117484949422738, 0.31190459950245397, 0.31189731147281669, 0.31191567466848824, 0.31191422643265759, 0.31192281363000279, 0.3119214920721986, 0.31192106565612476, 0.31192675287731747, 0.31192408782432046, 0.31192540716159006, 0.31192373208363183, 0.31192719733138902, 0.31192690425382746, 0.31192824157945748, 0.31192728389103763, 0.31193041160254087, 0.31192967882015527, 0.31193025844360833, 0.3119302915217933, 0.31193064147414507, 0.31192970159248568, 0.31193038862181127, 0.3119312069446829, 0.31193097928906333]\n"
     ]
    }
   ],
   "source": [
    "print mean_mse\n",
    "print mean_r2"
   ]
  },
  {
   "cell_type": "code",
   "execution_count": 12,
   "metadata": {},
   "outputs": [
    {
     "name": "stdout",
     "output_type": "stream",
     "text": [
      "~~~~ Single Model ~~~~\n",
      "MSE of single model: 1672.58110765\n",
      "R2:  0.311934605989\n"
     ]
    }
   ],
   "source": [
    "lm = linear_model.LinearRegression().fit(modeldata, y)\n",
    "print \"~~~~ Single Model ~~~~\"\n",
    "print 'MSE of single model:', metrics.mean_squared_error(y, lm.predict(modeldata))\n",
    "print 'R2: ', lm.score(modeldata, y)"
   ]
  },
  {
   "cell_type": "markdown",
   "metadata": {},
   "source": [
    "### Check\n",
    "While the cross validated approach here generated more overall error, which of the two approaches would predict new data more accurately: the single model or the cross validated, averaged one? Why?\n"
   ]
  },
  {
   "cell_type": "markdown",
   "metadata": {},
   "source": [
    "Answer: "
   ]
  },
  {
   "cell_type": "markdown",
   "metadata": {},
   "source": [
    "### There are ways to improve our model with regularization. \n",
    "Let's check out the effects on MSE and R2"
   ]
  },
  {
   "cell_type": "code",
   "execution_count": 15,
   "metadata": {},
   "outputs": [
    {
     "name": "stdout",
     "output_type": "stream",
     "text": [
      "~~~ OLS ~~~\n",
      "OLS MSE:  1672.58110765\n",
      "OLS R2: 0.311934605989\n",
      "~~~ Lasso ~~~\n",
      "Lasso MSE:  1725.41581608\n",
      "Lasso R2: 0.290199495922\n",
      "~~~ Ridge ~~~\n",
      "Ridge MSE:  1672.60490113\n",
      "Ridge R2: 0.311924817843\n"
     ]
    }
   ],
   "source": [
    "lm = linear_model.LinearRegression().fit(modeldata, y)\n",
    "print \"~~~ OLS ~~~\"\n",
    "print 'OLS MSE: ', metrics.mean_squared_error(y, lm.predict(modeldata))\n",
    "print 'OLS R2:', lm.score(modeldata, y)\n",
    "\n",
    "lm = linear_model.Lasso().fit(modeldata, y)\n",
    "print \"~~~ Lasso ~~~\"\n",
    "print 'Lasso MSE: ', metrics.mean_squared_error(y, lm.predict(modeldata))\n",
    "print 'Lasso R2:', lm.score(modeldata, y)\n",
    "\n",
    "lm = linear_model.Ridge().fit(modeldata, y)\n",
    "print \"~~~ Ridge ~~~\"\n",
    "print 'Ridge MSE: ', metrics.mean_squared_error(y, lm.predict(modeldata))\n",
    "print 'Ridge R2:', lm.score(modeldata, y)\n",
    "\n",
    "# OLS = Ordinary Least Squares"
   ]
  },
  {
   "cell_type": "markdown",
   "metadata": {},
   "source": [
    "### Figuring out the alphas can be done by \"hand\""
   ]
  },
  {
   "cell_type": "code",
   "execution_count": 16,
   "metadata": {},
   "outputs": [
    {
     "name": "stdout",
     "output_type": "stream",
     "text": [
      "Alpha: 1e-10\n",
      "[ 112.67353849  -83.99400867  -14.13184385  -10.45474561  -11.1736308 ]\n",
      "1672.60030785\n",
      "Alpha: 1e-09\n",
      "[ 112.67353845  -83.99400863  -14.13183603  -10.45473779  -11.17362296]\n",
      "1672.60030788\n",
      "Alpha: 1e-08\n"
     ]
    },
    {
     "name": "stderr",
     "output_type": "stream",
     "text": [
      "/Users/leahgaeta/anaconda2/lib/python2.7/site-packages/sklearn/linear_model/coordinate_descent.py:491: ConvergenceWarning: Objective did not converge. You might want to increase the number of iterations. Fitting data with very small alpha may cause precision problems.\n",
      "  ConvergenceWarning)\n"
     ]
    },
    {
     "name": "stdout",
     "output_type": "stream",
     "text": [
      "[ 112.67353812  -83.99400832  -14.13175774  -10.45465952  -11.17354466]\n",
      "1672.60030816\n",
      "Alpha: 1e-07\n",
      "[ 112.67353477  -83.99400521  -14.13097487  -10.4538768   -11.17276161]\n",
      "1672.60031101\n",
      "Alpha: 1e-06\n",
      "[ 112.67350128  -83.99397405  -14.12314614  -10.4460497   -11.16493108]\n",
      "1672.60033951\n",
      "Alpha: 1e-05\n",
      "[ 112.67316634  -83.9936625   -14.04485887  -10.36777861  -11.08662579]\n",
      "1672.60062569\n",
      "Alpha: 0.0001\n",
      "[ 112.66981758  -83.99054765  -13.26239352   -9.58547483  -10.30397994]\n",
      "1672.60360255\n",
      "Alpha: 0.001\n",
      "[ 112.63635975  -83.9594323    -5.45806601   -1.78275411   -2.49783247]\n",
      "1672.64489673\n",
      "Alpha: 0.01\n",
      "[ 112.39077334  -83.66325507   -2.90812399    0.66752444   -0.        ]\n",
      "1672.66932453\n",
      "Alpha: 0.1\n",
      "[ 109.93593998  -80.45002088   -1.82328187    0.77974702   -0.        ]\n",
      "1673.39565389\n",
      "Alpha: 1.0\n",
      "[ 86.81079432 -55.76414394   0.          -0.          -0.        ]\n",
      "1725.41581608\n",
      "Alpha: 10.0\n",
      "[ 0. -0.  0. -0. -0.]\n",
      "2430.84614081\n",
      "Alpha: 100.0\n",
      "[ 0. -0.  0. -0. -0.]\n",
      "2430.84614081\n",
      "Alpha: 1000.0\n",
      "[ 0. -0.  0. -0. -0.]\n",
      "2430.84614081\n",
      "Alpha: 10000.0\n",
      "[ 0. -0.  0. -0. -0.]\n",
      "2430.84614081\n",
      "Alpha: 100000.0\n",
      "[ 0. -0.  0. -0. -0.]\n",
      "2430.84614081\n",
      "Alpha: 1000000.0\n",
      "[ 0. -0.  0. -0. -0.]\n",
      "2430.84614081\n",
      "Alpha: 10000000.0\n",
      "[ 0. -0.  0. -0. -0.]\n",
      "2430.84614081\n",
      "Alpha: 100000000.0\n",
      "[ 0. -0.  0. -0. -0.]\n",
      "2430.84614081\n",
      "Alpha: 1000000000.0\n",
      "[ 0. -0.  0. -0. -0.]\n",
      "2430.84614081\n",
      "Alpha: 10000000000.0\n",
      "[ 0. -0.  0. -0. -0.]\n",
      "2430.84614081\n"
     ]
    }
   ],
   "source": [
    "alphas = np.logspace(-10, 10, 21)\n",
    "# logspace generates list of observations from 10^-10 to 10^10\n",
    "for a in alphas:\n",
    "    print 'Alpha:', a\n",
    "    lm = linear_model.Lasso(alpha=a)\n",
    "    lm.fit(modeldata, y)\n",
    "    print lm.coef_\n",
    "    print metrics.mean_squared_error(y, lm.predict(modeldata))"
   ]
  },
  {
   "cell_type": "markdown",
   "metadata": {},
   "source": [
    "Using Lasso, all of a sudden at a certain point, the coefficients become zero and the penalty is too strong.  Note that using all of the data in a training set, there's no test set."
   ]
  },
  {
   "cell_type": "code",
   "execution_count": 18,
   "metadata": {},
   "outputs": [
    {
     "name": "stdout",
     "output_type": "stream",
     "text": [
      "Alpha: 1e-10\n",
      "[ 112.68901765  -84.01121684  -24.68489063  -21.00314493  -21.71893628]\n",
      "1672.58110765\n",
      "Alpha: 1e-09\n",
      "[ 112.68901765  -84.01121684  -24.68489061  -21.00314491  -21.71893626]\n",
      "1672.58110765\n",
      "Alpha: 1e-08\n",
      "[ 112.68901765  -84.01121684  -24.6848904   -21.00314471  -21.71893606]\n",
      "1672.58110765\n",
      "Alpha: 1e-07\n",
      "[ 112.68901763  -84.01121682  -24.68488837  -21.00314268  -21.71893403]\n",
      "1672.58110765\n",
      "Alpha: 1e-06\n",
      "[ 112.68901745  -84.01121667  -24.68486804  -21.00312237  -21.71891373]\n",
      "1672.58110765\n",
      "Alpha: 1e-05\n",
      "[ 112.68901562  -84.01121509  -24.68466472  -21.00291929  -21.71871079]\n",
      "1672.58110765\n",
      "Alpha: 0.0001\n",
      "[ 112.68899732  -84.01119938  -24.68263174  -21.00088873  -21.71668162]\n",
      "1672.58110765\n",
      "Alpha: 0.001\n",
      "[ 112.68881437  -84.01104228  -24.66232204  -20.98060316  -21.69640993]\n",
      "1672.58110774\n",
      "Alpha: 0.01\n",
      "[ 112.68698753  -84.00947323  -24.46121539  -20.77973778  -21.49568404]\n",
      "1672.58111645\n",
      "Alpha: 0.1\n",
      "[ 112.66896732  -83.99396383  -22.63109556  -18.95202277  -19.66942371]\n",
      "1672.58185208\n",
      "Alpha: 1.0\n",
      "[ 112.50129738  -83.84805622  -13.38214934   -9.72671278  -10.46162477]\n",
      "1672.60490113\n",
      "Alpha: 10.0\n",
      "[ 110.96062533  -82.49604961   -3.94431741   -0.51765034   -1.45024412]\n",
      "1672.83347262\n",
      "Alpha: 100.0\n",
      "[ 97.69060562 -71.17602377  -0.31585194   1.18284675  -1.33281591]\n",
      "1686.31830362\n",
      "Alpha: 1000.0\n",
      "[ 44.59923075 -30.85843772   5.07876321   0.05369643  -5.107457  ]\n",
      "1937.81576044\n",
      "Alpha: 10000.0\n",
      "[ 7.03007064 -5.07733082  3.29039029 -1.2136063  -2.06842808]\n",
      "2314.83675678\n",
      "Alpha: 100000.0\n",
      "[ 0.75195708 -0.56490872  0.52067881 -0.25075496 -0.26895254]\n",
      "2415.77806566\n",
      "Alpha: 1000000.0\n",
      "[ 0.07576571 -0.05727511  0.05520142 -0.0273591  -0.02774349]\n",
      "2429.28026459\n",
      "Alpha: 10000000.0\n",
      "[ 0.00758239 -0.00573569  0.0055535  -0.00276043 -0.00278317]\n",
      "2430.68891798\n",
      "Alpha: 100000000.0\n",
      "[ 0.0007583  -0.00057365  0.00055569 -0.00027629 -0.00027841]\n",
      "2430.83041212\n",
      "Alpha: 1000000000.0\n",
      "[  7.58303020e-05  -5.73659720e-05   5.55719458e-05  -2.76314619e-05\n",
      "  -2.78414555e-05]\n",
      "2430.84456787\n",
      "Alpha: 10000000000.0\n",
      "[  7.58303603e-06  -5.73660542e-06   5.55722818e-06  -2.76317091e-06\n",
      "  -2.78415441e-06]\n",
      "2430.84598351\n"
     ]
    }
   ],
   "source": [
    "alphas = np.logspace(-10, 10, 21)\n",
    "# logspace generates list of observations from 10^-10 to 10^10\n",
    "for a in alphas:\n",
    "    print 'Alpha:', a\n",
    "    lm = linear_model.Ridge(alpha=a)\n",
    "    lm.fit(modeldata, y)\n",
    "    print lm.coef_\n",
    "    print metrics.mean_squared_error(y, lm.predict(modeldata))"
   ]
  },
  {
   "cell_type": "markdown",
   "metadata": {},
   "source": [
    "Can see that the effect isn't as dramatic with Ridge"
   ]
  },
  {
   "cell_type": "markdown",
   "metadata": {},
   "source": [
    "### Or we can use grid search to make this faster"
   ]
  },
  {
   "cell_type": "code",
   "execution_count": 20,
   "metadata": {},
   "outputs": [
    {
     "data": {
      "text/plain": [
       "GridSearchCV(cv=None, error_score='raise',\n",
       "       estimator=Ridge(alpha=1.0, copy_X=True, fit_intercept=True, max_iter=None,\n",
       "   normalize=False, random_state=None, solver='auto', tol=0.001),\n",
       "       fit_params={}, iid=True, n_jobs=1,\n",
       "       param_grid={'alpha': array([  1.00000e-10,   1.00000e-09,   1.00000e-08,   1.00000e-07,\n",
       "         1.00000e-06,   1.00000e-05,   1.00000e-04,   1.00000e-03,\n",
       "         1.00000e-02,   1.00000e-01,   1.00000e+00,   1.00000e+01,\n",
       "         1.00000e+02,   1.00000e+03,   1.00000e+04,   1.00000e+05,\n",
       "         1.00000e+06,   1.00000e+07,   1.00000e+08,   1.00000e+09,\n",
       "         1.00000e+10])},\n",
       "       pre_dispatch='2*n_jobs', refit=True,\n",
       "       scoring='neg_mean_squared_error', verbose=0)"
      ]
     },
     "execution_count": 20,
     "metadata": {},
     "output_type": "execute_result"
    }
   ],
   "source": [
    "from sklearn import grid_search\n",
    "\n",
    "alphas = np.logspace(-10, 10, 21)\n",
    "gs = grid_search.GridSearchCV(\n",
    "    estimator=linear_model.Ridge(),\n",
    "    param_grid={'alpha': alphas},\n",
    "    scoring='neg_mean_squared_error')\n",
    "\n",
    "gs.fit(modeldata, y)\n"
   ]
  },
  {
   "cell_type": "markdown",
   "metadata": {},
   "source": [
    "Testing different powers of alpha from 10^-10 to 10^10.  Syntax wise, the 'gs= is' the initialization, then the 'gs.fit' is fitting the model for overall data set (does the cross validation internally, default is 3 fold"
   ]
  },
  {
   "cell_type": "markdown",
   "metadata": {},
   "source": [
    "##### Best score "
   ]
  },
  {
   "cell_type": "code",
   "execution_count": 21,
   "metadata": {},
   "outputs": [
    {
     "name": "stdout",
     "output_type": "stream",
     "text": [
      "-1814.09369133\n"
     ]
    }
   ],
   "source": [
    "print gs.best_score_ "
   ]
  },
  {
   "cell_type": "markdown",
   "metadata": {},
   "source": [
    "##### mean squared error here comes in negative, so let's make it positive."
   ]
  },
  {
   "cell_type": "code",
   "execution_count": 22,
   "metadata": {},
   "outputs": [
    {
     "name": "stdout",
     "output_type": "stream",
     "text": [
      "1814.09369133\n"
     ]
    }
   ],
   "source": [
    "print -gs.best_score_ "
   ]
  },
  {
   "cell_type": "markdown",
   "metadata": {},
   "source": [
    "##### explains which grid_search setup worked best"
   ]
  },
  {
   "cell_type": "code",
   "execution_count": 23,
   "metadata": {},
   "outputs": [
    {
     "name": "stdout",
     "output_type": "stream",
     "text": [
      "Ridge(alpha=10.0, copy_X=True, fit_intercept=True, max_iter=None,\n",
      "   normalize=False, random_state=None, solver='auto', tol=0.001)\n"
     ]
    }
   ],
   "source": [
    "print gs.best_estimator_ "
   ]
  },
  {
   "cell_type": "markdown",
   "metadata": {},
   "source": [
    "##### shows all the grid pairings and their performances."
   ]
  },
  {
   "cell_type": "code",
   "execution_count": 24,
   "metadata": {},
   "outputs": [
    {
     "name": "stdout",
     "output_type": "stream",
     "text": [
      "[mean: -1817.58711, std: 542.14315, params: {'alpha': 1e-10}, mean: -1817.58711, std: 542.14315, params: {'alpha': 1.0000000000000001e-09}, mean: -1817.58711, std: 542.14315, params: {'alpha': 1e-08}, mean: -1817.58711, std: 542.14315, params: {'alpha': 9.9999999999999995e-08}, mean: -1817.58711, std: 542.14315, params: {'alpha': 9.9999999999999995e-07}, mean: -1817.58711, std: 542.14317, params: {'alpha': 1.0000000000000001e-05}, mean: -1817.58707, std: 542.14331, params: {'alpha': 0.0001}, mean: -1817.58663, std: 542.14477, params: {'alpha': 0.001}, mean: -1817.58230, std: 542.15933, params: {'alpha': 0.01}, mean: -1817.54318, std: 542.30102, params: {'alpha': 0.10000000000000001}, mean: -1817.20111, std: 543.63587, params: {'alpha': 1.0}, mean: -1814.09369, std: 556.35563, params: {'alpha': 10.0}, mean: -1818.51694, std: 653.68607, params: {'alpha': 100.0}, mean: -2125.58777, std: 872.45270, params: {'alpha': 1000.0}, mean: -2458.08836, std: 951.30428, params: {'alpha': 10000.0}, mean: -2532.21151, std: 962.80083, params: {'alpha': 100000.0}, mean: -2541.38479, std: 963.98339, params: {'alpha': 1000000.0}, mean: -2542.32833, std: 964.10141, params: {'alpha': 10000000.0}, mean: -2542.42296, std: 964.11321, params: {'alpha': 100000000.0}, mean: -2542.43242, std: 964.11439, params: {'alpha': 1000000000.0}, mean: -2542.43337, std: 964.11450, params: {'alpha': 10000000000.0}]\n"
     ]
    }
   ],
   "source": [
    "print gs.grid_scores_ "
   ]
  },
  {
   "cell_type": "markdown",
   "metadata": {},
   "source": [
    "We are given both mean and std from each alpha because the cross validation will come from 3 different data sets (in turn impacts the mean and std"
   ]
  },
  {
   "cell_type": "code",
   "execution_count": 27,
   "metadata": {},
   "outputs": [
    {
     "data": {
      "text/plain": [
       "GridSearchCV(cv=None, error_score='raise',\n",
       "       estimator=Ridge(alpha=1.0, copy_X=True, fit_intercept=True, max_iter=None,\n",
       "   normalize=False, random_state=None, solver='auto', tol=0.001),\n",
       "       fit_params={}, iid=True, n_jobs=1,\n",
       "       param_grid={'alpha': array([  1.00000e-10,   1.00000e-09,   1.00000e-08,   1.00000e-07,\n",
       "         1.00000e-06,   1.00000e-05,   1.00000e-04,   1.00000e-03,\n",
       "         1.00000e-02,   1.00000e-01,   1.00000e+00,   1.00000e+01,\n",
       "         1.00000e+02,   1.00000e+03,   1.00000e+04,   1.00000e+05,\n",
       "         1.00000e+06,   1.00000e+07,   1.00000e+08,   1.00000e+09,\n",
       "         1.00000e+10]), 'fit_intercept': [True, False]},\n",
       "       pre_dispatch='2*n_jobs', refit=True,\n",
       "       scoring='neg_mean_squared_error', verbose=0)"
      ]
     },
     "execution_count": 27,
     "metadata": {},
     "output_type": "execute_result"
    }
   ],
   "source": [
    "# now going to see what happens when not just the alpha varies\n",
    "from sklearn import grid_search\n",
    "\n",
    "alphas = np.logspace(-10, 10, 21)\n",
    "gs = grid_search.GridSearchCV(\n",
    "    estimator=linear_model.Ridge(),\n",
    "    param_grid={'fit_intercept': [True, False], 'alpha': alphas},\n",
    "    scoring='neg_mean_squared_error')\n",
    "\n",
    "gs.fit(modeldata, y)"
   ]
  },
  {
   "cell_type": "code",
   "execution_count": 28,
   "metadata": {},
   "outputs": [
    {
     "name": "stdout",
     "output_type": "stream",
     "text": [
      "-1813.60700073\n"
     ]
    }
   ],
   "source": [
    "print gs.best_score_ "
   ]
  },
  {
   "cell_type": "code",
   "execution_count": 29,
   "metadata": {},
   "outputs": [
    {
     "name": "stdout",
     "output_type": "stream",
     "text": [
      "1813.60700073\n"
     ]
    }
   ],
   "source": [
    "print -gs.best_score_"
   ]
  },
  {
   "cell_type": "code",
   "execution_count": 30,
   "metadata": {
    "scrolled": true
   },
   "outputs": [
    {
     "name": "stdout",
     "output_type": "stream",
     "text": [
      "Ridge(alpha=10.0, copy_X=True, fit_intercept=False, max_iter=None,\n",
      "   normalize=False, random_state=None, solver='auto', tol=0.001)\n"
     ]
    }
   ],
   "source": [
    "print gs.best_estimator_ "
   ]
  },
  {
   "cell_type": "markdown",
   "metadata": {},
   "source": [
    "Turns out this is a slightly better model than the previous one since it's telling us above that the fit_intercept = False is best (since the default is always True), also know that alpha = 10 is best.  We know this is a better model since the best score is lower"
   ]
  },
  {
   "cell_type": "code",
   "execution_count": 35,
   "metadata": {
    "collapsed": true
   },
   "outputs": [],
   "source": [
    "# Then use the model on entire data set, just copy the above part\n",
    "production_model = linear_model.Ridge(alpha=10.0, copy_X=True, fit_intercept=False, max_iter=None,\n",
    "   normalize=False, random_state=None, solver='auto', tol=0.001)"
   ]
  },
  {
   "cell_type": "code",
   "execution_count": 36,
   "metadata": {},
   "outputs": [
    {
     "data": {
      "text/plain": [
       "Ridge(alpha=10.0, copy_X=True, fit_intercept=False, max_iter=None,\n",
       "   normalize=False, random_state=None, solver='auto', tol=0.001)"
      ]
     },
     "execution_count": 36,
     "metadata": {},
     "output_type": "execute_result"
    }
   ],
   "source": [
    "production_model.fit(modeldata,y)"
   ]
  },
  {
   "cell_type": "code",
   "execution_count": 37,
   "metadata": {},
   "outputs": [
    {
     "data": {
      "text/plain": [
       "array([ 111.77826824,  -81.01023379,   29.87386401,   33.10029496,\n",
       "         31.83025872])"
      ]
     },
     "execution_count": 37,
     "metadata": {},
     "output_type": "execute_result"
    }
   ],
   "source": [
    "production_model.coef_"
   ]
  },
  {
   "cell_type": "code",
   "execution_count": 31,
   "metadata": {},
   "outputs": [
    {
     "name": "stdout",
     "output_type": "stream",
     "text": [
      "[mean: -1817.58711, std: 542.14315, params: {'alpha': 1e-10, 'fit_intercept': True}, mean: -1818.23138, std: 542.35715, params: {'alpha': 1e-10, 'fit_intercept': False}, mean: -1817.58711, std: 542.14315, params: {'alpha': 1.0000000000000001e-09, 'fit_intercept': True}, mean: -1818.23138, std: 542.35715, params: {'alpha': 1.0000000000000001e-09, 'fit_intercept': False}, mean: -1817.58711, std: 542.14315, params: {'alpha': 1e-08, 'fit_intercept': True}, mean: -1818.23138, std: 542.35715, params: {'alpha': 1e-08, 'fit_intercept': False}, mean: -1817.58711, std: 542.14315, params: {'alpha': 9.9999999999999995e-08, 'fit_intercept': True}, mean: -1818.23138, std: 542.35715, params: {'alpha': 9.9999999999999995e-08, 'fit_intercept': False}, mean: -1817.58711, std: 542.14315, params: {'alpha': 9.9999999999999995e-07, 'fit_intercept': True}, mean: -1818.23138, std: 542.35715, params: {'alpha': 9.9999999999999995e-07, 'fit_intercept': False}, mean: -1817.58711, std: 542.14317, params: {'alpha': 1.0000000000000001e-05, 'fit_intercept': True}, mean: -1818.23137, std: 542.35717, params: {'alpha': 1.0000000000000001e-05, 'fit_intercept': False}, mean: -1817.58707, std: 542.14331, params: {'alpha': 0.0001, 'fit_intercept': True}, mean: -1818.23132, std: 542.35733, params: {'alpha': 0.0001, 'fit_intercept': False}, mean: -1817.58663, std: 542.14477, params: {'alpha': 0.001, 'fit_intercept': True}, mean: -1818.23082, std: 542.35893, params: {'alpha': 0.001, 'fit_intercept': False}, mean: -1817.58230, std: 542.15933, params: {'alpha': 0.01, 'fit_intercept': True}, mean: -1818.22575, std: 542.37494, params: {'alpha': 0.01, 'fit_intercept': False}, mean: -1817.54318, std: 542.30102, params: {'alpha': 0.10000000000000001, 'fit_intercept': True}, mean: -1818.17522, std: 542.53495, params: {'alpha': 0.10000000000000001, 'fit_intercept': False}, mean: -1817.20111, std: 543.63587, params: {'alpha': 1.0, 'fit_intercept': True}, mean: -1817.67959, std: 544.12728, params: {'alpha': 1.0, 'fit_intercept': False}, mean: -1814.09369, std: 556.35563, params: {'alpha': 10.0, 'fit_intercept': True}, mean: -1813.60700, std: 559.32644, params: {'alpha': 10.0, 'fit_intercept': False}, mean: -1818.51694, std: 653.68607, params: {'alpha': 100.0, 'fit_intercept': True}, mean: -1818.35148, std: 667.66552, params: {'alpha': 100.0, 'fit_intercept': False}, mean: -2125.58777, std: 872.45270, params: {'alpha': 1000.0, 'fit_intercept': True}, mean: -2119.08968, std: 931.63445, params: {'alpha': 1000.0, 'fit_intercept': False}, mean: -2458.08836, std: 951.30428, params: {'alpha': 10000.0, 'fit_intercept': True}, mean: -2610.42174, std: 1254.33864, params: {'alpha': 10000.0, 'fit_intercept': False}, mean: -2532.21151, std: 962.80083, params: {'alpha': 100000.0, 'fit_intercept': True}, mean: -3406.29559, std: 1498.68320, params: {'alpha': 100000.0, 'fit_intercept': False}, mean: -2541.38479, std: 963.98339, params: {'alpha': 1000000.0, 'fit_intercept': True}, mean: -3668.33888, std: 1536.01988, params: {'alpha': 1000000.0, 'fit_intercept': False}, mean: -2542.32833, std: 964.10141, params: {'alpha': 10000000.0, 'fit_intercept': True}, mean: -3700.04265, std: 1539.74582, params: {'alpha': 10000000.0, 'fit_intercept': False}, mean: -2542.42296, std: 964.11321, params: {'alpha': 100000000.0, 'fit_intercept': True}, mean: -3703.27842, std: 1540.11751, params: {'alpha': 100000000.0, 'fit_intercept': False}, mean: -2542.43242, std: 964.11439, params: {'alpha': 1000000000.0, 'fit_intercept': True}, mean: -3703.60267, std: 1540.15466, params: {'alpha': 1000000000.0, 'fit_intercept': False}, mean: -2542.43337, std: 964.11450, params: {'alpha': 10000000000.0, 'fit_intercept': True}, mean: -3703.63510, std: 1540.15838, params: {'alpha': 10000000000.0, 'fit_intercept': False}]\n"
     ]
    }
   ],
   "source": [
    "print gs.grid_scores_"
   ]
  },
  {
   "cell_type": "markdown",
   "metadata": {},
   "source": [
    "## Gradient Descent"
   ]
  },
  {
   "cell_type": "code",
   "execution_count": 2,
   "metadata": {},
   "outputs": [
    {
     "name": "stdout",
     "output_type": "stream",
     "text": [
      "5.2 is better than 6.2\n",
      "found better solution! using 5.2\n",
      "4.2 is better than 5.2\n",
      "found better solution! using 4.2\n",
      "3.2 is better than 4.2\n",
      "found better solution! using 3.2\n",
      "2.2 is better than 3.2\n",
      "found better solution! using 2.2\n",
      "1.2 is better than 2.2\n",
      "found better solution! using 1.2\n",
      "0.2 is better than 1.2\n",
      "found better solution! using 0.2\n",
      "6.0 is closest to 6.2\n"
     ]
    }
   ],
   "source": [
    "import numpy as np\n",
    "\n",
    "num_to_approach, start, steps, optimized = 6.2, 0., [-1, 1], False\n",
    "while not optimized:\n",
    "    current_distance = num_to_approach - start\n",
    "    got_better = False\n",
    "    next_steps = [start + i for i in steps]\n",
    "    for n in next_steps:\n",
    "        distance = np.abs(num_to_approach - n)\n",
    "        if distance < current_distance:\n",
    "            got_better = True\n",
    "            print distance, 'is better than', current_distance\n",
    "            current_distance = distance\n",
    "            start = n\n",
    "    if got_better:\n",
    "        print 'found better solution! using', current_distance\n",
    "        n += 1\n",
    "    else:\n",
    "        optimized = True\n",
    "        print start, 'is closest to', num_to_approach\n"
   ]
  },
  {
   "cell_type": "markdown",
   "metadata": {},
   "source": [
    "### Bonus: \n",
    "implement a stopping point, similar to what n_iter would do in gradient descent when we've reached \"good enough\""
   ]
  },
  {
   "cell_type": "code",
   "execution_count": null,
   "metadata": {},
   "outputs": [],
   "source": [
    "\n",
    "\n"
   ]
  },
  {
   "cell_type": "markdown",
   "metadata": {},
   "source": [
    "## Demo: Application of Gradient Descent "
   ]
  },
  {
   "cell_type": "code",
   "execution_count": 38,
   "metadata": {},
   "outputs": [
    {
     "name": "stdout",
     "output_type": "stream",
     "text": [
      "Gradient Descent R2: 0.30853010829\n",
      "Gradient Descent MSE: 1680.85691775\n"
     ]
    },
    {
     "name": "stderr",
     "output_type": "stream",
     "text": [
      "/Users/leahgaeta/anaconda2/lib/python2.7/site-packages/sklearn/linear_model/stochastic_gradient.py:84: FutureWarning: max_iter and tol parameters have been added in <class 'sklearn.linear_model.stochastic_gradient.SGDRegressor'> in 0.19. If both are left unset, they default to max_iter=5 and tol=None. If tol is not None, max_iter defaults to max_iter=1000. From 0.21, default max_iter will be 1000, and default tol will be 1e-3.\n",
      "  \"and default tol will be 1e-3.\" % type(self), FutureWarning)\n"
     ]
    }
   ],
   "source": [
    "lm = linear_model.SGDRegressor()\n",
    "lm.fit(modeldata, y)\n",
    "print \"Gradient Descent R2:\", lm.score(modeldata, y)\n",
    "print \"Gradient Descent MSE:\", metrics.mean_squared_error(y, lm.predict(modeldata))"
   ]
  },
  {
   "cell_type": "code",
   "execution_count": 40,
   "metadata": {
    "collapsed": true
   },
   "outputs": [],
   "source": [
    "# Check the parameters\n",
    "?linear_model.SGDRegressor()"
   ]
  },
  {
   "cell_type": "markdown",
   "metadata": {},
   "source": [
    "### Check: Untuned, how well did gradient descent perform compared to OLS?"
   ]
  },
  {
   "cell_type": "markdown",
   "metadata": {},
   "source": [
    "Answer: "
   ]
  },
  {
   "cell_type": "markdown",
   "metadata": {},
   "source": [
    "# Independent Practice: Bike data revisited\n",
    "\n",
    "There are tons of ways to approach a regression problem. The regularization techniques appended to ordinary least squares optimizes the size of coefficients to best account for error. Gradient Descent also introduces learning rate (how aggressively do we solve the problem), epsilon (at what point do we say the error margin is acceptable), and iterations (when should we stop no matter what?)\n",
    "\n",
    "For this deliverable, our goals are to:\n",
    "\n",
    "- implement the gradient descent approach to our bike-share modeling problem,\n",
    "- show how gradient descent solves and optimizes the solution,\n",
    "- demonstrate the grid_search module!\n",
    "\n",
    "While exploring the Gradient Descent regressor object, you'll build a grid search using the stochastic gradient descent estimator for the bike-share data set. Continue with either the model you evaluated last class or the simpler one from today. In particular, be sure to implement the \"param_grid\" in the grid search to get answers for the following questions:\n",
    "\n",
    "- With a set of alpha values between 10^-10 and 10^-1, how does the mean squared error change?\n",
    "- Based on the data, we know when to properly use l1 vs l2 regularization. By using a grid search with l1_ratios between 0 and 1 (increasing every 0.05), does that statement hold true? If not, did gradient descent have enough iterations?\n",
    "- How do these results change when you alter the learning rate (eta0)?\n",
    "\n",
    "**Bonus**: Can you see the advantages and disadvantages of using gradient descent after finishing this exercise?"
   ]
  },
  {
   "cell_type": "markdown",
   "metadata": {},
   "source": [
    "### Starter Code"
   ]
  },
  {
   "cell_type": "markdown",
   "metadata": {},
   "source": [
    "First Part: with alpha values between 10^-10 and 10^-1"
   ]
  },
  {
   "cell_type": "code",
   "execution_count": 47,
   "metadata": {},
   "outputs": [
    {
     "name": "stdout",
     "output_type": "stream",
     "text": [
      "BEST ESTIMATOR\n",
      "1689.33221393\n",
      "SGDRegressor(alpha=0.0001, average=False, epsilon=0.1, eta0=0.01,\n",
      "       fit_intercept=True, l1_ratio=0.15, learning_rate='invscaling',\n",
      "       loss='squared_loss', max_iter=5, n_iter=None, penalty='l2',\n",
      "       power_t=0.25, random_state=None, shuffle=True, tol=None, verbose=0,\n",
      "       warm_start=False)\n",
      "ALL ESTIMATORS\n",
      "[mean: -1690.80900, std: 80.71223, params: {'alpha': 1e-10}, mean: -1693.21715, std: 81.85468, params: {'alpha': 1.0000000000000001e-09}, mean: -1691.19607, std: 83.03051, params: {'alpha': 1e-08}, mean: -1690.54550, std: 75.85777, params: {'alpha': 9.9999999999999995e-08}, mean: -1689.69077, std: 79.40989, params: {'alpha': 9.9999999999999995e-07}, mean: -1689.79079, std: 81.40292, params: {'alpha': 1.0000000000000001e-05}, mean: -1689.33221, std: 77.89600, params: {'alpha': 0.0001}, mean: -1694.06725, std: 83.20342, params: {'alpha': 0.001}, mean: -1730.50957, std: 83.93514, params: {'alpha': 0.01}, mean: -2054.13392, std: 98.92744, params: {'alpha': 0.10000000000000001}]\n"
     ]
    }
   ],
   "source": [
    "alphas = np.logspace(-10, -1, 10) #10 is how many values we want between 10^-10 to 10^-1\n",
    "params = {'alpha': alphas} # put your gradient descent parameters here\n",
    "gs = grid_search.GridSearchCV(\n",
    "    estimator=linear_model.SGDRegressor(),\n",
    "    cv=cross_validation.KFold(len(modeldata), n_folds=5, shuffle=True),\n",
    "    param_grid=params,\n",
    "    scoring='neg_mean_squared_error',\n",
    "    )\n",
    "\n",
    "gs.fit(modeldata, y)\n",
    "\n",
    "print 'BEST ESTIMATOR'\n",
    "print -gs.best_score_\n",
    "print gs.best_estimator_\n",
    "print 'ALL ESTIMATORS'\n",
    "print gs.grid_scores_"
   ]
  },
  {
   "cell_type": "markdown",
   "metadata": {},
   "source": [
    "Second Part: the penalties l1, l2, and elasticnet"
   ]
  },
  {
   "cell_type": "code",
   "execution_count": 48,
   "metadata": {},
   "outputs": [
    {
     "name": "stdout",
     "output_type": "stream",
     "text": [
      "BEST ESTIMATOR\n",
      "1687.90821689\n",
      "SGDRegressor(alpha=9.9999999999999995e-07, average=False, epsilon=0.1,\n",
      "       eta0=0.01, fit_intercept=True, l1_ratio=0.15,\n",
      "       learning_rate='invscaling', loss='squared_loss', max_iter=5,\n",
      "       n_iter=None, penalty='elasticnet', power_t=0.25, random_state=None,\n",
      "       shuffle=True, tol=None, verbose=0, warm_start=False)\n",
      "ALL ESTIMATORS\n",
      "[mean: -1693.17464, std: 180.16667, params: {'penalty': 'l1', 'alpha': 1e-10}, mean: -1690.11178, std: 176.85981, params: {'penalty': 'l2', 'alpha': 1e-10}, mean: -1689.98744, std: 178.91626, params: {'penalty': 'elasticnet', 'alpha': 1e-10}, mean: -1692.05048, std: 179.58969, params: {'penalty': 'l1', 'alpha': 1.0000000000000001e-09}, mean: -1689.49369, std: 178.79644, params: {'penalty': 'l2', 'alpha': 1.0000000000000001e-09}, mean: -1691.21571, std: 174.57599, params: {'penalty': 'elasticnet', 'alpha': 1.0000000000000001e-09}, mean: -1689.60777, std: 176.39585, params: {'penalty': 'l1', 'alpha': 1e-08}, mean: -1691.93164, std: 171.90596, params: {'penalty': 'l2', 'alpha': 1e-08}, mean: -1691.17071, std: 181.13501, params: {'penalty': 'elasticnet', 'alpha': 1e-08}, mean: -1689.58734, std: 175.44023, params: {'penalty': 'l1', 'alpha': 9.9999999999999995e-08}, mean: -1688.41318, std: 174.85971, params: {'penalty': 'l2', 'alpha': 9.9999999999999995e-08}, mean: -1689.08752, std: 176.56588, params: {'penalty': 'elasticnet', 'alpha': 9.9999999999999995e-08}, mean: -1688.98314, std: 175.34321, params: {'penalty': 'l1', 'alpha': 9.9999999999999995e-07}, mean: -1691.22503, std: 176.30266, params: {'penalty': 'l2', 'alpha': 9.9999999999999995e-07}, mean: -1687.90822, std: 176.46629, params: {'penalty': 'elasticnet', 'alpha': 9.9999999999999995e-07}, mean: -1691.84279, std: 175.24063, params: {'penalty': 'l1', 'alpha': 1.0000000000000001e-05}, mean: -1688.75503, std: 178.32567, params: {'penalty': 'l2', 'alpha': 1.0000000000000001e-05}, mean: -1692.72289, std: 181.18563, params: {'penalty': 'elasticnet', 'alpha': 1.0000000000000001e-05}, mean: -1690.49192, std: 176.19523, params: {'penalty': 'l1', 'alpha': 0.0001}, mean: -1695.00367, std: 175.54132, params: {'penalty': 'l2', 'alpha': 0.0001}, mean: -1692.14781, std: 175.77961, params: {'penalty': 'elasticnet', 'alpha': 0.0001}, mean: -1693.43245, std: 176.37064, params: {'penalty': 'l1', 'alpha': 0.001}, mean: -1691.79427, std: 180.05550, params: {'penalty': 'l2', 'alpha': 0.001}, mean: -1696.07695, std: 176.12175, params: {'penalty': 'elasticnet', 'alpha': 0.001}, mean: -1695.57140, std: 174.75276, params: {'penalty': 'l1', 'alpha': 0.01}, mean: -1733.40995, std: 180.50884, params: {'penalty': 'l2', 'alpha': 0.01}, mean: -1721.88631, std: 182.06481, params: {'penalty': 'elasticnet', 'alpha': 0.01}, mean: -1694.51553, std: 177.37169, params: {'penalty': 'l1', 'alpha': 0.10000000000000001}, mean: -2052.78280, std: 200.69727, params: {'penalty': 'l2', 'alpha': 0.10000000000000001}, mean: -2019.80175, std: 200.79484, params: {'penalty': 'elasticnet', 'alpha': 0.10000000000000001}]\n"
     ]
    }
   ],
   "source": [
    "alphas = np.logspace(-10, -1, 10) #10 is how many values we want between 10^-10 to 10^-1\n",
    "params = {'alpha': alphas, 'penalty': ['l1','l2','elasticnet']} # put your gradient descent parameters here\n",
    "gs = grid_search.GridSearchCV(\n",
    "    estimator=linear_model.SGDRegressor(),\n",
    "    cv=cross_validation.KFold(len(modeldata), n_folds=5, shuffle=True),\n",
    "    param_grid=params,\n",
    "    scoring='neg_mean_squared_error',\n",
    "    )\n",
    "\n",
    "gs.fit(modeldata, y)\n",
    "\n",
    "print 'BEST ESTIMATOR'\n",
    "print -gs.best_score_\n",
    "print gs.best_estimator_\n",
    "print 'ALL ESTIMATORS'\n",
    "print gs.grid_scores_"
   ]
  },
  {
   "cell_type": "markdown",
   "metadata": {},
   "source": [
    "Third Part: eta is 0"
   ]
  },
  {
   "cell_type": "code",
   "execution_count": 51,
   "metadata": {},
   "outputs": [
    {
     "name": "stdout",
     "output_type": "stream",
     "text": [
      "BEST ESTIMATOR\n",
      "1674.17063516\n",
      "SGDRegressor(alpha=1e-08, average=False, epsilon=0.1,\n",
      "       eta0=0.031582350167557775, fit_intercept=True, l1_ratio=0.15,\n",
      "       learning_rate='invscaling', loss='squared_loss', max_iter=5,\n",
      "       n_iter=None, penalty='l1', power_t=0.25, random_state=None,\n",
      "       shuffle=True, tol=None, verbose=0, warm_start=False)\n",
      "ALL ESTIMATORS\n",
      "[mean: -2133.11160, std: 124.39279, params: {'penalty': 'l1', 'alpha': 1e-10, 'eta0': 0.001}, mean: -2132.90176, std: 124.41139, params: {'penalty': 'l2', 'alpha': 1e-10, 'eta0': 0.001}, mean: -2133.78473, std: 124.14461, params: {'penalty': 'elasticnet', 'alpha': 1e-10, 'eta0': 0.001}, mean: -1980.81076, std: 119.19294, params: {'penalty': 'l1', 'alpha': 1e-10, 'eta0': 0.001994751906790116}, mean: -1981.16627, std: 118.56242, params: {'penalty': 'l2', 'alpha': 1e-10, 'eta0': 0.001994751906790116}, mean: -1981.24937, std: 118.09588, params: {'penalty': 'elasticnet', 'alpha': 1e-10, 'eta0': 0.001994751906790116}, mean: -1815.15455, std: 110.96620, params: {'penalty': 'l1', 'alpha': 1e-10, 'eta0': 0.0039790351696428038}, mean: -1815.35524, std: 110.73762, params: {'penalty': 'l2', 'alpha': 1e-10, 'eta0': 0.0039790351696428038}, mean: -1815.96779, std: 110.71959, params: {'penalty': 'elasticnet', 'alpha': 1e-10, 'eta0': 0.0039790351696428038}, mean: -1706.41825, std: 102.43883, params: {'penalty': 'l1', 'alpha': 1e-10, 'eta0': 0.0079371879918299151}, mean: -1705.34432, std: 102.67614, params: {'penalty': 'l2', 'alpha': 1e-10, 'eta0': 0.0079371879918299151}, mean: -1706.12630, std: 103.06466, params: {'penalty': 'elasticnet', 'alpha': 1e-10, 'eta0': 0.0079371879918299151}, mean: -1675.27226, std: 96.94827, params: {'penalty': 'l1', 'alpha': 1e-10, 'eta0': 0.015832720881254335}, mean: -1676.31926, std: 96.05486, params: {'penalty': 'l2', 'alpha': 1e-10, 'eta0': 0.015832720881254335}, mean: -1676.81102, std: 97.32851, params: {'penalty': 'elasticnet', 'alpha': 1e-10, 'eta0': 0.015832720881254335}, mean: -1676.08015, std: 97.58763, params: {'penalty': 'l1', 'alpha': 1e-10, 'eta0': 0.031582350167557775}, mean: -1680.86649, std: 97.55347, params: {'penalty': 'l2', 'alpha': 1e-10, 'eta0': 0.031582350167557775}, mean: -1676.63873, std: 96.74398, params: {'penalty': 'elasticnet', 'alpha': 1e-10, 'eta0': 0.031582350167557775}, mean: -1678.45459, std: 90.62277, params: {'penalty': 'l1', 'alpha': 1e-10, 'eta0': 0.062998953217649006}, mean: -1678.92902, std: 94.78863, params: {'penalty': 'l2', 'alpha': 1e-10, 'eta0': 0.062998953217649006}, mean: -1680.88566, std: 88.31831, params: {'penalty': 'elasticnet', 'alpha': 1e-10, 'eta0': 0.062998953217649006}, mean: -1689.00602, std: 90.62652, params: {'penalty': 'l1', 'alpha': 1e-10, 'eta0': 0.12566728205668667}, mean: -1699.19567, std: 105.00039, params: {'penalty': 'l2', 'alpha': 1e-10, 'eta0': 0.12566728205668667}, mean: -1700.94645, std: 113.18655, params: {'penalty': 'elasticnet', 'alpha': 1e-10, 'eta0': 0.12566728205668667}, mean: -1697.93820, std: 96.39702, params: {'penalty': 'l1', 'alpha': 1e-10, 'eta0': 0.25067505050370709}, mean: -1760.70800, std: 150.98534, params: {'penalty': 'l2', 'alpha': 1e-10, 'eta0': 0.25067505050370709}, mean: -1733.42691, std: 127.35368, params: {'penalty': 'elasticnet', 'alpha': 1e-10, 'eta0': 0.25067505050370709}, mean: -1723.96162, std: 94.09251, params: {'penalty': 'l1', 'alpha': 1e-10, 'eta0': 0.50003453497697847}, mean: -1744.83345, std: 154.12195, params: {'penalty': 'l2', 'alpha': 1e-10, 'eta0': 0.50003453497697847}, mean: -1784.54981, std: 47.28594, params: {'penalty': 'elasticnet', 'alpha': 1e-10, 'eta0': 0.50003453497697847}, mean: -2132.95782, std: 124.38440, params: {'penalty': 'l1', 'alpha': 1.0000000000000001e-09, 'eta0': 0.001}, mean: -2133.43691, std: 124.73408, params: {'penalty': 'l2', 'alpha': 1.0000000000000001e-09, 'eta0': 0.001}, mean: -2133.37284, std: 124.48448, params: {'penalty': 'elasticnet', 'alpha': 1.0000000000000001e-09, 'eta0': 0.001}, mean: -1981.70158, std: 118.37296, params: {'penalty': 'l1', 'alpha': 1.0000000000000001e-09, 'eta0': 0.001994751906790116}, mean: -1981.57787, std: 119.28588, params: {'penalty': 'l2', 'alpha': 1.0000000000000001e-09, 'eta0': 0.001994751906790116}, mean: -1981.16256, std: 118.77757, params: {'penalty': 'elasticnet', 'alpha': 1.0000000000000001e-09, 'eta0': 0.001994751906790116}, mean: -1816.36161, std: 109.75784, params: {'penalty': 'l1', 'alpha': 1.0000000000000001e-09, 'eta0': 0.0039790351696428038}, mean: -1815.05276, std: 111.13507, params: {'penalty': 'l2', 'alpha': 1.0000000000000001e-09, 'eta0': 0.0039790351696428038}, mean: -1815.94132, std: 111.92626, params: {'penalty': 'elasticnet', 'alpha': 1.0000000000000001e-09, 'eta0': 0.0039790351696428038}, mean: -1707.01567, std: 102.98288, params: {'penalty': 'l1', 'alpha': 1.0000000000000001e-09, 'eta0': 0.0079371879918299151}, mean: -1705.40004, std: 102.88296, params: {'penalty': 'l2', 'alpha': 1.0000000000000001e-09, 'eta0': 0.0079371879918299151}, mean: -1705.46653, std: 102.35757, params: {'penalty': 'elasticnet', 'alpha': 1.0000000000000001e-09, 'eta0': 0.0079371879918299151}, mean: -1676.39252, std: 95.93887, params: {'penalty': 'l1', 'alpha': 1.0000000000000001e-09, 'eta0': 0.015832720881254335}, mean: -1680.66953, std: 100.44505, params: {'penalty': 'l2', 'alpha': 1.0000000000000001e-09, 'eta0': 0.015832720881254335}, mean: -1677.04449, std: 96.88406, params: {'penalty': 'elasticnet', 'alpha': 1.0000000000000001e-09, 'eta0': 0.015832720881254335}, mean: -1675.99127, std: 96.97388, params: {'penalty': 'l1', 'alpha': 1.0000000000000001e-09, 'eta0': 0.031582350167557775}, mean: -1676.51290, std: 96.06123, params: {'penalty': 'l2', 'alpha': 1.0000000000000001e-09, 'eta0': 0.031582350167557775}, mean: -1677.05334, std: 96.54977, params: {'penalty': 'elasticnet', 'alpha': 1.0000000000000001e-09, 'eta0': 0.031582350167557775}, mean: -1683.91245, std: 100.31820, params: {'penalty': 'l1', 'alpha': 1.0000000000000001e-09, 'eta0': 0.062998953217649006}, mean: -1680.93305, std: 97.33471, params: {'penalty': 'l2', 'alpha': 1.0000000000000001e-09, 'eta0': 0.062998953217649006}, mean: -1686.83929, std: 91.93521, params: {'penalty': 'elasticnet', 'alpha': 1.0000000000000001e-09, 'eta0': 0.062998953217649006}, mean: -1702.19589, std: 109.71417, params: {'penalty': 'l1', 'alpha': 1.0000000000000001e-09, 'eta0': 0.12566728205668667}, mean: -1686.40672, std: 92.12132, params: {'penalty': 'l2', 'alpha': 1.0000000000000001e-09, 'eta0': 0.12566728205668667}, mean: -1686.05079, std: 94.06373, params: {'penalty': 'elasticnet', 'alpha': 1.0000000000000001e-09, 'eta0': 0.12566728205668667}, mean: -1677.92607, std: 100.41963, params: {'penalty': 'l1', 'alpha': 1.0000000000000001e-09, 'eta0': 0.25067505050370709}, mean: -1696.54509, std: 82.31760, params: {'penalty': 'l2', 'alpha': 1.0000000000000001e-09, 'eta0': 0.25067505050370709}, mean: -1712.29681, std: 99.94452, params: {'penalty': 'elasticnet', 'alpha': 1.0000000000000001e-09, 'eta0': 0.25067505050370709}, mean: -1728.50772, std: 77.24100, params: {'penalty': 'l1', 'alpha': 1.0000000000000001e-09, 'eta0': 0.50003453497697847}, mean: -1714.31782, std: 94.37941, params: {'penalty': 'l2', 'alpha': 1.0000000000000001e-09, 'eta0': 0.50003453497697847}, mean: -1724.68423, std: 121.01763, params: {'penalty': 'elasticnet', 'alpha': 1.0000000000000001e-09, 'eta0': 0.50003453497697847}, mean: -2133.29462, std: 124.65504, params: {'penalty': 'l1', 'alpha': 1e-08, 'eta0': 0.001}, mean: -2133.09086, std: 124.44896, params: {'penalty': 'l2', 'alpha': 1e-08, 'eta0': 0.001}, mean: -2133.28013, std: 123.65963, params: {'penalty': 'elasticnet', 'alpha': 1e-08, 'eta0': 0.001}, mean: -1981.33687, std: 118.70546, params: {'penalty': 'l1', 'alpha': 1e-08, 'eta0': 0.001994751906790116}, mean: -1980.64453, std: 118.84919, params: {'penalty': 'l2', 'alpha': 1e-08, 'eta0': 0.001994751906790116}, mean: -1980.67633, std: 118.29647, params: {'penalty': 'elasticnet', 'alpha': 1e-08, 'eta0': 0.001994751906790116}, mean: -1815.25383, std: 111.52034, params: {'penalty': 'l1', 'alpha': 1e-08, 'eta0': 0.0039790351696428038}, mean: -1814.84282, std: 111.34999, params: {'penalty': 'l2', 'alpha': 1e-08, 'eta0': 0.0039790351696428038}, mean: -1814.60746, std: 111.10041, params: {'penalty': 'elasticnet', 'alpha': 1e-08, 'eta0': 0.0039790351696428038}, mean: -1705.84301, std: 103.08438, params: {'penalty': 'l1', 'alpha': 1e-08, 'eta0': 0.0079371879918299151}, mean: -1706.23928, std: 102.54900, params: {'penalty': 'l2', 'alpha': 1e-08, 'eta0': 0.0079371879918299151}, mean: -1707.56274, std: 103.67706, params: {'penalty': 'elasticnet', 'alpha': 1e-08, 'eta0': 0.0079371879918299151}, mean: -1678.55465, std: 98.97368, params: {'penalty': 'l1', 'alpha': 1e-08, 'eta0': 0.015832720881254335}, mean: -1678.15747, std: 95.22849, params: {'penalty': 'l2', 'alpha': 1e-08, 'eta0': 0.015832720881254335}, mean: -1679.15841, std: 95.53722, params: {'penalty': 'elasticnet', 'alpha': 1e-08, 'eta0': 0.015832720881254335}, mean: -1674.17064, std: 95.31619, params: {'penalty': 'l1', 'alpha': 1e-08, 'eta0': 0.031582350167557775}, mean: -1674.30243, std: 96.37362, params: {'penalty': 'l2', 'alpha': 1e-08, 'eta0': 0.031582350167557775}, mean: -1678.91034, std: 94.98125, params: {'penalty': 'elasticnet', 'alpha': 1e-08, 'eta0': 0.031582350167557775}, mean: -1682.44836, std: 101.62652, params: {'penalty': 'l1', 'alpha': 1e-08, 'eta0': 0.062998953217649006}, mean: -1682.63957, std: 96.52532, params: {'penalty': 'l2', 'alpha': 1e-08, 'eta0': 0.062998953217649006}, mean: -1680.92524, std: 98.16439, params: {'penalty': 'elasticnet', 'alpha': 1e-08, 'eta0': 0.062998953217649006}, mean: -1704.19382, std: 101.49968, params: {'penalty': 'l1', 'alpha': 1e-08, 'eta0': 0.12566728205668667}, mean: -1697.11230, std: 79.65954, params: {'penalty': 'l2', 'alpha': 1e-08, 'eta0': 0.12566728205668667}, mean: -1701.63402, std: 115.40732, params: {'penalty': 'elasticnet', 'alpha': 1e-08, 'eta0': 0.12566728205668667}, mean: -1707.00192, std: 91.66427, params: {'penalty': 'l1', 'alpha': 1e-08, 'eta0': 0.25067505050370709}, mean: -1737.12428, std: 129.36699, params: {'penalty': 'l2', 'alpha': 1e-08, 'eta0': 0.25067505050370709}, mean: -1693.63370, std: 98.42032, params: {'penalty': 'elasticnet', 'alpha': 1e-08, 'eta0': 0.25067505050370709}, mean: -1727.95860, std: 109.05717, params: {'penalty': 'l1', 'alpha': 1e-08, 'eta0': 0.50003453497697847}, mean: -1717.31427, std: 85.70730, params: {'penalty': 'l2', 'alpha': 1e-08, 'eta0': 0.50003453497697847}, mean: -1753.90184, std: 112.99599, params: {'penalty': 'elasticnet', 'alpha': 1e-08, 'eta0': 0.50003453497697847}, mean: -2133.50213, std: 124.39428, params: {'penalty': 'l1', 'alpha': 9.9999999999999995e-08, 'eta0': 0.001}, mean: -2133.51293, std: 124.34245, params: {'penalty': 'l2', 'alpha': 9.9999999999999995e-08, 'eta0': 0.001}, mean: -2133.33249, std: 123.72907, params: {'penalty': 'elasticnet', 'alpha': 9.9999999999999995e-08, 'eta0': 0.001}, mean: -1981.29542, std: 118.54723, params: {'penalty': 'l1', 'alpha': 9.9999999999999995e-08, 'eta0': 0.001994751906790116}, mean: -1981.29382, std: 118.24785, params: {'penalty': 'l2', 'alpha': 9.9999999999999995e-08, 'eta0': 0.001994751906790116}, mean: -1980.77132, std: 118.76772, params: {'penalty': 'elasticnet', 'alpha': 9.9999999999999995e-08, 'eta0': 0.001994751906790116}, mean: -1815.56653, std: 110.98054, params: {'penalty': 'l1', 'alpha': 9.9999999999999995e-08, 'eta0': 0.0039790351696428038}, mean: -1814.91502, std: 111.10872, params: {'penalty': 'l2', 'alpha': 9.9999999999999995e-08, 'eta0': 0.0039790351696428038}, mean: -1815.00666, std: 111.45523, params: {'penalty': 'elasticnet', 'alpha': 9.9999999999999995e-08, 'eta0': 0.0039790351696428038}, mean: -1706.11914, std: 103.01696, params: {'penalty': 'l1', 'alpha': 9.9999999999999995e-08, 'eta0': 0.0079371879918299151}, mean: -1705.19447, std: 102.44730, params: {'penalty': 'l2', 'alpha': 9.9999999999999995e-08, 'eta0': 0.0079371879918299151}, mean: -1705.49545, std: 101.91932, params: {'penalty': 'elasticnet', 'alpha': 9.9999999999999995e-08, 'eta0': 0.0079371879918299151}, mean: -1677.39489, std: 96.84800, params: {'penalty': 'l1', 'alpha': 9.9999999999999995e-08, 'eta0': 0.015832720881254335}, mean: -1675.12376, std: 97.15312, params: {'penalty': 'l2', 'alpha': 9.9999999999999995e-08, 'eta0': 0.015832720881254335}, mean: -1677.13888, std: 96.22441, params: {'penalty': 'elasticnet', 'alpha': 9.9999999999999995e-08, 'eta0': 0.015832720881254335}, mean: -1677.28663, std: 91.57238, params: {'penalty': 'l1', 'alpha': 9.9999999999999995e-08, 'eta0': 0.031582350167557775}, mean: -1676.77273, std: 96.80179, params: {'penalty': 'l2', 'alpha': 9.9999999999999995e-08, 'eta0': 0.031582350167557775}, mean: -1679.32181, std: 94.75853, params: {'penalty': 'elasticnet', 'alpha': 9.9999999999999995e-08, 'eta0': 0.031582350167557775}, mean: -1679.66308, std: 91.15204, params: {'penalty': 'l1', 'alpha': 9.9999999999999995e-08, 'eta0': 0.062998953217649006}, mean: -1680.76957, std: 102.14797, params: {'penalty': 'l2', 'alpha': 9.9999999999999995e-08, 'eta0': 0.062998953217649006}, mean: -1689.35525, std: 97.51820, params: {'penalty': 'elasticnet', 'alpha': 9.9999999999999995e-08, 'eta0': 0.062998953217649006}, mean: -1684.44857, std: 92.34365, params: {'penalty': 'l1', 'alpha': 9.9999999999999995e-08, 'eta0': 0.12566728205668667}, mean: -1701.72535, std: 99.12882, params: {'penalty': 'l2', 'alpha': 9.9999999999999995e-08, 'eta0': 0.12566728205668667}, mean: -1689.21097, std: 95.37682, params: {'penalty': 'elasticnet', 'alpha': 9.9999999999999995e-08, 'eta0': 0.12566728205668667}, mean: -1746.08744, std: 55.26251, params: {'penalty': 'l1', 'alpha': 9.9999999999999995e-08, 'eta0': 0.25067505050370709}, mean: -1693.57912, std: 94.34184, params: {'penalty': 'l2', 'alpha': 9.9999999999999995e-08, 'eta0': 0.25067505050370709}, mean: -1707.61350, std: 101.75429, params: {'penalty': 'elasticnet', 'alpha': 9.9999999999999995e-08, 'eta0': 0.25067505050370709}, mean: -1780.76269, std: 128.10359, params: {'penalty': 'l1', 'alpha': 9.9999999999999995e-08, 'eta0': 0.50003453497697847}, mean: -1687.09096, std: 92.26512, params: {'penalty': 'l2', 'alpha': 9.9999999999999995e-08, 'eta0': 0.50003453497697847}, mean: -1703.63610, std: 99.71679, params: {'penalty': 'elasticnet', 'alpha': 9.9999999999999995e-08, 'eta0': 0.50003453497697847}, mean: -2133.38463, std: 124.41720, params: {'penalty': 'l1', 'alpha': 9.9999999999999995e-07, 'eta0': 0.001}, mean: -2133.44906, std: 124.29524, params: {'penalty': 'l2', 'alpha': 9.9999999999999995e-07, 'eta0': 0.001}, mean: -2132.97487, std: 124.09267, params: {'penalty': 'elasticnet', 'alpha': 9.9999999999999995e-07, 'eta0': 0.001}, mean: -1980.61143, std: 119.47849, params: {'penalty': 'l1', 'alpha': 9.9999999999999995e-07, 'eta0': 0.001994751906790116}, mean: -1981.45768, std: 118.43801, params: {'penalty': 'l2', 'alpha': 9.9999999999999995e-07, 'eta0': 0.001994751906790116}, mean: -1980.40668, std: 119.04920, params: {'penalty': 'elasticnet', 'alpha': 9.9999999999999995e-07, 'eta0': 0.001994751906790116}, mean: -1814.92874, std: 111.63513, params: {'penalty': 'l1', 'alpha': 9.9999999999999995e-07, 'eta0': 0.0039790351696428038}, mean: -1814.45826, std: 111.23206, params: {'penalty': 'l2', 'alpha': 9.9999999999999995e-07, 'eta0': 0.0039790351696428038}, mean: -1814.47922, std: 110.66255, params: {'penalty': 'elasticnet', 'alpha': 9.9999999999999995e-07, 'eta0': 0.0039790351696428038}, mean: -1706.67243, std: 103.21814, params: {'penalty': 'l1', 'alpha': 9.9999999999999995e-07, 'eta0': 0.0079371879918299151}, mean: -1705.90290, std: 102.88271, params: {'penalty': 'l2', 'alpha': 9.9999999999999995e-07, 'eta0': 0.0079371879918299151}, mean: -1706.18217, std: 101.88964, params: {'penalty': 'elasticnet', 'alpha': 9.9999999999999995e-07, 'eta0': 0.0079371879918299151}, mean: -1677.31558, std: 96.42329, params: {'penalty': 'l1', 'alpha': 9.9999999999999995e-07, 'eta0': 0.015832720881254335}, mean: -1677.17644, std: 97.41007, params: {'penalty': 'l2', 'alpha': 9.9999999999999995e-07, 'eta0': 0.015832720881254335}, mean: -1676.86576, std: 97.79945, params: {'penalty': 'elasticnet', 'alpha': 9.9999999999999995e-07, 'eta0': 0.015832720881254335}, mean: -1684.35299, std: 92.11945, params: {'penalty': 'l1', 'alpha': 9.9999999999999995e-07, 'eta0': 0.031582350167557775}, mean: -1675.05109, std: 94.15525, params: {'penalty': 'l2', 'alpha': 9.9999999999999995e-07, 'eta0': 0.031582350167557775}, mean: -1681.27978, std: 96.53490, params: {'penalty': 'elasticnet', 'alpha': 9.9999999999999995e-07, 'eta0': 0.031582350167557775}, mean: -1679.91706, std: 96.30793, params: {'penalty': 'l1', 'alpha': 9.9999999999999995e-07, 'eta0': 0.062998953217649006}, mean: -1678.39166, std: 94.52258, params: {'penalty': 'l2', 'alpha': 9.9999999999999995e-07, 'eta0': 0.062998953217649006}, mean: -1680.23438, std: 95.46149, params: {'penalty': 'elasticnet', 'alpha': 9.9999999999999995e-07, 'eta0': 0.062998953217649006}, mean: -1679.83999, std: 97.69417, params: {'penalty': 'l1', 'alpha': 9.9999999999999995e-07, 'eta0': 0.12566728205668667}, mean: -1699.28055, std: 91.74107, params: {'penalty': 'l2', 'alpha': 9.9999999999999995e-07, 'eta0': 0.12566728205668667}, mean: -1688.56163, std: 99.35818, params: {'penalty': 'elasticnet', 'alpha': 9.9999999999999995e-07, 'eta0': 0.12566728205668667}, mean: -1712.83918, std: 83.40828, params: {'penalty': 'l1', 'alpha': 9.9999999999999995e-07, 'eta0': 0.25067505050370709}, mean: -1689.63906, std: 80.08307, params: {'penalty': 'l2', 'alpha': 9.9999999999999995e-07, 'eta0': 0.25067505050370709}, mean: -1704.28993, std: 103.89917, params: {'penalty': 'elasticnet', 'alpha': 9.9999999999999995e-07, 'eta0': 0.25067505050370709}, mean: -1763.23803, std: 115.53244, params: {'penalty': 'l1', 'alpha': 9.9999999999999995e-07, 'eta0': 0.50003453497697847}, mean: -1793.78659, std: 68.40411, params: {'penalty': 'l2', 'alpha': 9.9999999999999995e-07, 'eta0': 0.50003453497697847}, mean: -1750.94700, std: 126.10935, params: {'penalty': 'elasticnet', 'alpha': 9.9999999999999995e-07, 'eta0': 0.50003453497697847}, mean: -2133.19921, std: 123.95575, params: {'penalty': 'l1', 'alpha': 1.0000000000000001e-05, 'eta0': 0.001}, mean: -2133.28357, std: 124.49527, params: {'penalty': 'l2', 'alpha': 1.0000000000000001e-05, 'eta0': 0.001}, mean: -2132.73912, std: 124.43954, params: {'penalty': 'elasticnet', 'alpha': 1.0000000000000001e-05, 'eta0': 0.001}, mean: -1981.38215, std: 119.26597, params: {'penalty': 'l1', 'alpha': 1.0000000000000001e-05, 'eta0': 0.001994751906790116}, mean: -1981.04834, std: 118.23764, params: {'penalty': 'l2', 'alpha': 1.0000000000000001e-05, 'eta0': 0.001994751906790116}, mean: -1980.67815, std: 119.15778, params: {'penalty': 'elasticnet', 'alpha': 1.0000000000000001e-05, 'eta0': 0.001994751906790116}, mean: -1815.66101, std: 112.12002, params: {'penalty': 'l1', 'alpha': 1.0000000000000001e-05, 'eta0': 0.0039790351696428038}, mean: -1815.99780, std: 111.28014, params: {'penalty': 'l2', 'alpha': 1.0000000000000001e-05, 'eta0': 0.0039790351696428038}, mean: -1815.36220, std: 110.66952, params: {'penalty': 'elasticnet', 'alpha': 1.0000000000000001e-05, 'eta0': 0.0039790351696428038}, mean: -1706.31313, std: 102.69017, params: {'penalty': 'l1', 'alpha': 1.0000000000000001e-05, 'eta0': 0.0079371879918299151}, mean: -1708.95597, std: 102.36293, params: {'penalty': 'l2', 'alpha': 1.0000000000000001e-05, 'eta0': 0.0079371879918299151}, mean: -1706.07239, std: 101.83268, params: {'penalty': 'elasticnet', 'alpha': 1.0000000000000001e-05, 'eta0': 0.0079371879918299151}, mean: -1678.95144, std: 97.12891, params: {'penalty': 'l1', 'alpha': 1.0000000000000001e-05, 'eta0': 0.015832720881254335}, mean: -1676.09420, std: 96.70524, params: {'penalty': 'l2', 'alpha': 1.0000000000000001e-05, 'eta0': 0.015832720881254335}, mean: -1677.35222, std: 98.11397, params: {'penalty': 'elasticnet', 'alpha': 1.0000000000000001e-05, 'eta0': 0.015832720881254335}, mean: -1677.91240, std: 93.49568, params: {'penalty': 'l1', 'alpha': 1.0000000000000001e-05, 'eta0': 0.031582350167557775}, mean: -1677.36705, std: 94.93074, params: {'penalty': 'l2', 'alpha': 1.0000000000000001e-05, 'eta0': 0.031582350167557775}, mean: -1681.90865, std: 89.71867, params: {'penalty': 'elasticnet', 'alpha': 1.0000000000000001e-05, 'eta0': 0.031582350167557775}, mean: -1679.78856, std: 93.14461, params: {'penalty': 'l1', 'alpha': 1.0000000000000001e-05, 'eta0': 0.062998953217649006}, mean: -1679.75318, std: 93.30121, params: {'penalty': 'l2', 'alpha': 1.0000000000000001e-05, 'eta0': 0.062998953217649006}, mean: -1681.15329, std: 91.08429, params: {'penalty': 'elasticnet', 'alpha': 1.0000000000000001e-05, 'eta0': 0.062998953217649006}, mean: -1680.56433, std: 95.72614, params: {'penalty': 'l1', 'alpha': 1.0000000000000001e-05, 'eta0': 0.12566728205668667}, mean: -1690.10317, std: 101.22709, params: {'penalty': 'l2', 'alpha': 1.0000000000000001e-05, 'eta0': 0.12566728205668667}, mean: -1688.01091, std: 94.72754, params: {'penalty': 'elasticnet', 'alpha': 1.0000000000000001e-05, 'eta0': 0.12566728205668667}, mean: -1703.56465, std: 82.43895, params: {'penalty': 'l1', 'alpha': 1.0000000000000001e-05, 'eta0': 0.25067505050370709}, mean: -1724.98978, std: 138.38114, params: {'penalty': 'l2', 'alpha': 1.0000000000000001e-05, 'eta0': 0.25067505050370709}, mean: -1692.79296, std: 92.29499, params: {'penalty': 'elasticnet', 'alpha': 1.0000000000000001e-05, 'eta0': 0.25067505050370709}, mean: -1716.94173, std: 90.87580, params: {'penalty': 'l1', 'alpha': 1.0000000000000001e-05, 'eta0': 0.50003453497697847}, mean: -1714.59141, std: 108.33874, params: {'penalty': 'l2', 'alpha': 1.0000000000000001e-05, 'eta0': 0.50003453497697847}, mean: -1747.75467, std: 128.41250, params: {'penalty': 'elasticnet', 'alpha': 1.0000000000000001e-05, 'eta0': 0.50003453497697847}, mean: -2133.29748, std: 124.27408, params: {'penalty': 'l1', 'alpha': 0.0001, 'eta0': 0.001}, mean: -2133.18888, std: 124.28104, params: {'penalty': 'l2', 'alpha': 0.0001, 'eta0': 0.001}, mean: -2133.70204, std: 124.28435, params: {'penalty': 'elasticnet', 'alpha': 0.0001, 'eta0': 0.001}, mean: -1981.33879, std: 118.68341, params: {'penalty': 'l1', 'alpha': 0.0001, 'eta0': 0.001994751906790116}, mean: -1980.95571, std: 118.65034, params: {'penalty': 'l2', 'alpha': 0.0001, 'eta0': 0.001994751906790116}, mean: -1981.06419, std: 118.26872, params: {'penalty': 'elasticnet', 'alpha': 0.0001, 'eta0': 0.001994751906790116}, mean: -1814.85700, std: 111.06045, params: {'penalty': 'l1', 'alpha': 0.0001, 'eta0': 0.0039790351696428038}, mean: -1815.26458, std: 110.41229, params: {'penalty': 'l2', 'alpha': 0.0001, 'eta0': 0.0039790351696428038}, mean: -1814.75695, std: 111.02312, params: {'penalty': 'elasticnet', 'alpha': 0.0001, 'eta0': 0.0039790351696428038}, mean: -1708.66861, std: 99.19795, params: {'penalty': 'l1', 'alpha': 0.0001, 'eta0': 0.0079371879918299151}, mean: -1706.11103, std: 102.43743, params: {'penalty': 'l2', 'alpha': 0.0001, 'eta0': 0.0079371879918299151}, mean: -1707.88806, std: 102.53542, params: {'penalty': 'elasticnet', 'alpha': 0.0001, 'eta0': 0.0079371879918299151}, mean: -1677.56228, std: 96.94673, params: {'penalty': 'l1', 'alpha': 0.0001, 'eta0': 0.015832720881254335}, mean: -1678.03257, std: 97.61892, params: {'penalty': 'l2', 'alpha': 0.0001, 'eta0': 0.015832720881254335}, mean: -1678.52893, std: 95.46426, params: {'penalty': 'elasticnet', 'alpha': 0.0001, 'eta0': 0.015832720881254335}, mean: -1677.32696, std: 95.08713, params: {'penalty': 'l1', 'alpha': 0.0001, 'eta0': 0.031582350167557775}, mean: -1674.84273, std: 94.82829, params: {'penalty': 'l2', 'alpha': 0.0001, 'eta0': 0.031582350167557775}, mean: -1682.77541, std: 95.71093, params: {'penalty': 'elasticnet', 'alpha': 0.0001, 'eta0': 0.031582350167557775}, mean: -1684.83748, std: 92.96819, params: {'penalty': 'l1', 'alpha': 0.0001, 'eta0': 0.062998953217649006}, mean: -1676.97200, std: 91.28797, params: {'penalty': 'l2', 'alpha': 0.0001, 'eta0': 0.062998953217649006}, mean: -1677.20679, std: 94.60411, params: {'penalty': 'elasticnet', 'alpha': 0.0001, 'eta0': 0.062998953217649006}, mean: -1687.50606, std: 93.59782, params: {'penalty': 'l1', 'alpha': 0.0001, 'eta0': 0.12566728205668667}, mean: -1677.57868, std: 94.70171, params: {'penalty': 'l2', 'alpha': 0.0001, 'eta0': 0.12566728205668667}, mean: -1688.24661, std: 101.71673, params: {'penalty': 'elasticnet', 'alpha': 0.0001, 'eta0': 0.12566728205668667}, mean: -1709.28119, std: 99.77174, params: {'penalty': 'l1', 'alpha': 0.0001, 'eta0': 0.25067505050370709}, mean: -1710.97144, std: 101.86266, params: {'penalty': 'l2', 'alpha': 0.0001, 'eta0': 0.25067505050370709}, mean: -1713.89914, std: 112.09875, params: {'penalty': 'elasticnet', 'alpha': 0.0001, 'eta0': 0.25067505050370709}, mean: -1755.24957, std: 127.09244, params: {'penalty': 'l1', 'alpha': 0.0001, 'eta0': 0.50003453497697847}, mean: -1721.60766, std: 110.53898, params: {'penalty': 'l2', 'alpha': 0.0001, 'eta0': 0.50003453497697847}, mean: -1717.48942, std: 95.58065, params: {'penalty': 'elasticnet', 'alpha': 0.0001, 'eta0': 0.50003453497697847}, mean: -2133.20105, std: 124.08523, params: {'penalty': 'l1', 'alpha': 0.001, 'eta0': 0.001}, mean: -2133.98605, std: 124.31368, params: {'penalty': 'l2', 'alpha': 0.001, 'eta0': 0.001}, mean: -2133.55367, std: 123.86391, params: {'penalty': 'elasticnet', 'alpha': 0.001, 'eta0': 0.001}, mean: -1981.49336, std: 119.18960, params: {'penalty': 'l1', 'alpha': 0.001, 'eta0': 0.001994751906790116}, mean: -1982.48786, std: 118.86806, params: {'penalty': 'l2', 'alpha': 0.001, 'eta0': 0.001994751906790116}, mean: -1982.78114, std: 118.27952, params: {'penalty': 'elasticnet', 'alpha': 0.001, 'eta0': 0.001994751906790116}, mean: -1814.71548, std: 111.46443, params: {'penalty': 'l1', 'alpha': 0.001, 'eta0': 0.0039790351696428038}, mean: -1818.63588, std: 111.89774, params: {'penalty': 'l2', 'alpha': 0.001, 'eta0': 0.0039790351696428038}, mean: -1817.38737, std: 111.17091, params: {'penalty': 'elasticnet', 'alpha': 0.001, 'eta0': 0.0039790351696428038}, mean: -1706.38671, std: 103.53095, params: {'penalty': 'l1', 'alpha': 0.001, 'eta0': 0.0079371879918299151}, mean: -1711.13920, std: 103.76730, params: {'penalty': 'l2', 'alpha': 0.001, 'eta0': 0.0079371879918299151}, mean: -1709.18508, std: 103.11715, params: {'penalty': 'elasticnet', 'alpha': 0.001, 'eta0': 0.0079371879918299151}, mean: -1678.42990, std: 97.84979, params: {'penalty': 'l1', 'alpha': 0.001, 'eta0': 0.015832720881254335}, mean: -1682.65227, std: 100.73204, params: {'penalty': 'l2', 'alpha': 0.001, 'eta0': 0.015832720881254335}, mean: -1678.46723, std: 97.20861, params: {'penalty': 'elasticnet', 'alpha': 0.001, 'eta0': 0.015832720881254335}, mean: -1675.89366, std: 95.07995, params: {'penalty': 'l1', 'alpha': 0.001, 'eta0': 0.031582350167557775}, mean: -1677.40788, std: 97.75537, params: {'penalty': 'l2', 'alpha': 0.001, 'eta0': 0.031582350167557775}, mean: -1680.45278, std: 93.02515, params: {'penalty': 'elasticnet', 'alpha': 0.001, 'eta0': 0.031582350167557775}, mean: -1678.19692, std: 93.52297, params: {'penalty': 'l1', 'alpha': 0.001, 'eta0': 0.062998953217649006}, mean: -1674.78783, std: 97.99316, params: {'penalty': 'l2', 'alpha': 0.001, 'eta0': 0.062998953217649006}, mean: -1678.64796, std: 92.95970, params: {'penalty': 'elasticnet', 'alpha': 0.001, 'eta0': 0.062998953217649006}, mean: -1692.65748, std: 98.05730, params: {'penalty': 'l1', 'alpha': 0.001, 'eta0': 0.12566728205668667}, mean: -1716.09253, std: 61.45146, params: {'penalty': 'l2', 'alpha': 0.001, 'eta0': 0.12566728205668667}, mean: -1685.53214, std: 99.73155, params: {'penalty': 'elasticnet', 'alpha': 0.001, 'eta0': 0.12566728205668667}, mean: -1686.63170, std: 104.84817, params: {'penalty': 'l1', 'alpha': 0.001, 'eta0': 0.25067505050370709}, mean: -1715.58567, std: 107.28099, params: {'penalty': 'l2', 'alpha': 0.001, 'eta0': 0.25067505050370709}, mean: -1703.76320, std: 108.83609, params: {'penalty': 'elasticnet', 'alpha': 0.001, 'eta0': 0.25067505050370709}, mean: -1761.12375, std: 110.69443, params: {'penalty': 'l1', 'alpha': 0.001, 'eta0': 0.50003453497697847}, mean: -1763.53874, std: 159.15320, params: {'penalty': 'l2', 'alpha': 0.001, 'eta0': 0.50003453497697847}, mean: -1716.77718, std: 112.26820, params: {'penalty': 'elasticnet', 'alpha': 0.001, 'eta0': 0.50003453497697847}, mean: -2133.83697, std: 124.05882, params: {'penalty': 'l1', 'alpha': 0.01, 'eta0': 0.001}, mean: -2138.84866, std: 124.33519, params: {'penalty': 'l2', 'alpha': 0.01, 'eta0': 0.001}, mean: -2138.49067, std: 124.80034, params: {'penalty': 'elasticnet', 'alpha': 0.01, 'eta0': 0.001}, mean: -1981.68039, std: 118.67135, params: {'penalty': 'l1', 'alpha': 0.01, 'eta0': 0.001994751906790116}, mean: -1996.82553, std: 119.71836, params: {'penalty': 'l2', 'alpha': 0.01, 'eta0': 0.001994751906790116}, mean: -1994.48121, std: 119.45192, params: {'penalty': 'elasticnet', 'alpha': 0.01, 'eta0': 0.001994751906790116}, mean: -1817.15429, std: 111.82825, params: {'penalty': 'l1', 'alpha': 0.01, 'eta0': 0.0039790351696428038}, mean: -1847.69500, std: 112.26173, params: {'penalty': 'l2', 'alpha': 0.01, 'eta0': 0.0039790351696428038}, mean: -1842.44837, std: 112.72898, params: {'penalty': 'elasticnet', 'alpha': 0.01, 'eta0': 0.0039790351696428038}, mean: -1707.67668, std: 102.24177, params: {'penalty': 'l1', 'alpha': 0.01, 'eta0': 0.0079371879918299151}, mean: -1746.93514, std: 107.11573, params: {'penalty': 'l2', 'alpha': 0.01, 'eta0': 0.0079371879918299151}, mean: -1741.75665, std: 106.05759, params: {'penalty': 'elasticnet', 'alpha': 0.01, 'eta0': 0.0079371879918299151}, mean: -1677.32956, std: 97.57805, params: {'penalty': 'l1', 'alpha': 0.01, 'eta0': 0.015832720881254335}, mean: -1714.45521, std: 102.27448, params: {'penalty': 'l2', 'alpha': 0.01, 'eta0': 0.015832720881254335}, mean: -1706.06430, std: 104.36312, params: {'penalty': 'elasticnet', 'alpha': 0.01, 'eta0': 0.015832720881254335}, mean: -1676.71457, std: 95.67080, params: {'penalty': 'l1', 'alpha': 0.01, 'eta0': 0.031582350167557775}, mean: -1712.42923, std: 107.97381, params: {'penalty': 'l2', 'alpha': 0.01, 'eta0': 0.031582350167557775}, mean: -1703.46904, std: 102.65344, params: {'penalty': 'elasticnet', 'alpha': 0.01, 'eta0': 0.031582350167557775}, mean: -1685.51526, std: 87.72556, params: {'penalty': 'l1', 'alpha': 0.01, 'eta0': 0.062998953217649006}, mean: -1718.85500, std: 97.80695, params: {'penalty': 'l2', 'alpha': 0.01, 'eta0': 0.062998953217649006}, mean: -1704.58955, std: 100.37618, params: {'penalty': 'elasticnet', 'alpha': 0.01, 'eta0': 0.062998953217649006}, mean: -1686.84185, std: 100.18043, params: {'penalty': 'l1', 'alpha': 0.01, 'eta0': 0.12566728205668667}, mean: -1729.16655, std: 115.08290, params: {'penalty': 'l2', 'alpha': 0.01, 'eta0': 0.12566728205668667}, mean: -1705.25168, std: 99.79996, params: {'penalty': 'elasticnet', 'alpha': 0.01, 'eta0': 0.12566728205668667}, mean: -1696.12538, std: 75.40221, params: {'penalty': 'l1', 'alpha': 0.01, 'eta0': 0.25067505050370709}, mean: -1713.73063, std: 101.84650, params: {'penalty': 'l2', 'alpha': 0.01, 'eta0': 0.25067505050370709}, mean: -1724.33187, std: 92.74419, params: {'penalty': 'elasticnet', 'alpha': 0.01, 'eta0': 0.25067505050370709}, mean: -1713.67947, std: 121.94017, params: {'penalty': 'l1', 'alpha': 0.01, 'eta0': 0.50003453497697847}, mean: -1790.91465, std: 144.27649, params: {'penalty': 'l2', 'alpha': 0.01, 'eta0': 0.50003453497697847}, mean: -1714.94848, std: 96.48460, params: {'penalty': 'elasticnet', 'alpha': 0.01, 'eta0': 0.50003453497697847}, mean: -2140.18180, std: 124.78534, params: {'penalty': 'l1', 'alpha': 0.10000000000000001, 'eta0': 0.001}, mean: -2185.62913, std: 127.43906, params: {'penalty': 'l2', 'alpha': 0.10000000000000001, 'eta0': 0.001}, mean: -2179.43112, std: 126.95002, params: {'penalty': 'elasticnet', 'alpha': 0.10000000000000001, 'eta0': 0.001}, mean: -1989.35781, std: 119.92882, params: {'penalty': 'l1', 'alpha': 0.10000000000000001, 'eta0': 0.001994751906790116}, mean: -2110.97078, std: 125.32343, params: {'penalty': 'l2', 'alpha': 0.10000000000000001, 'eta0': 0.001994751906790116}, mean: -2095.94752, std: 124.65082, params: {'penalty': 'elasticnet', 'alpha': 0.10000000000000001, 'eta0': 0.001994751906790116}, mean: -1823.01679, std: 112.27032, params: {'penalty': 'l1', 'alpha': 0.10000000000000001, 'eta0': 0.0039790351696428038}, mean: -2064.43870, std: 123.46562, params: {'penalty': 'l2', 'alpha': 0.10000000000000001, 'eta0': 0.0039790351696428038}, mean: -2038.53402, std: 122.24328, params: {'penalty': 'elasticnet', 'alpha': 0.10000000000000001, 'eta0': 0.0039790351696428038}, mean: -1711.38322, std: 103.32947, params: {'penalty': 'l1', 'alpha': 0.10000000000000001, 'eta0': 0.0079371879918299151}, mean: -2054.17485, std: 124.14834, params: {'penalty': 'l2', 'alpha': 0.10000000000000001, 'eta0': 0.0079371879918299151}, mean: -2021.50010, std: 121.54987, params: {'penalty': 'elasticnet', 'alpha': 0.10000000000000001, 'eta0': 0.0079371879918299151}, mean: -1680.84882, std: 97.75915, params: {'penalty': 'l1', 'alpha': 0.10000000000000001, 'eta0': 0.015832720881254335}, mean: -2053.93499, std: 121.63807, params: {'penalty': 'l2', 'alpha': 0.10000000000000001, 'eta0': 0.015832720881254335}, mean: -2021.37550, std: 122.50252, params: {'penalty': 'elasticnet', 'alpha': 0.10000000000000001, 'eta0': 0.015832720881254335}, mean: -1677.46973, std: 96.85454, params: {'penalty': 'l1', 'alpha': 0.10000000000000001, 'eta0': 0.031582350167557775}, mean: -2056.97244, std: 120.37248, params: {'penalty': 'l2', 'alpha': 0.10000000000000001, 'eta0': 0.031582350167557775}, mean: -2022.18808, std: 124.70488, params: {'penalty': 'elasticnet', 'alpha': 0.10000000000000001, 'eta0': 0.031582350167557775}, mean: -1675.89670, std: 95.58203, params: {'penalty': 'l1', 'alpha': 0.10000000000000001, 'eta0': 0.062998953217649006}, mean: -2061.31373, std: 125.31457, params: {'penalty': 'l2', 'alpha': 0.10000000000000001, 'eta0': 0.062998953217649006}, mean: -2034.50600, std: 128.60206, params: {'penalty': 'elasticnet', 'alpha': 0.10000000000000001, 'eta0': 0.062998953217649006}, mean: -1680.47441, std: 96.47390, params: {'penalty': 'l1', 'alpha': 0.10000000000000001, 'eta0': 0.12566728205668667}, mean: -2083.26001, std: 136.97219, params: {'penalty': 'l2', 'alpha': 0.10000000000000001, 'eta0': 0.12566728205668667}, mean: -2037.33318, std: 131.77321, params: {'penalty': 'elasticnet', 'alpha': 0.10000000000000001, 'eta0': 0.12566728205668667}, mean: -1721.08414, std: 145.65359, params: {'penalty': 'l1', 'alpha': 0.10000000000000001, 'eta0': 0.25067505050370709}, mean: -2136.33410, std: 107.24893, params: {'penalty': 'l2', 'alpha': 0.10000000000000001, 'eta0': 0.25067505050370709}, mean: -2050.02769, std: 142.08658, params: {'penalty': 'elasticnet', 'alpha': 0.10000000000000001, 'eta0': 0.25067505050370709}, mean: -1710.30052, std: 100.49735, params: {'penalty': 'l1', 'alpha': 0.10000000000000001, 'eta0': 0.50003453497697847}, mean: -2121.74672, std: 191.71628, params: {'penalty': 'l2', 'alpha': 0.10000000000000001, 'eta0': 0.50003453497697847}, mean: -2053.09111, std: 92.01126, params: {'penalty': 'elasticnet', 'alpha': 0.10000000000000001, 'eta0': 0.50003453497697847}]\n"
     ]
    }
   ],
   "source": [
    "alphas = np.logspace(-10, -1, 10) #10 is how many values we want between 10^-10 to 10^-1\n",
    "params = {'alpha': alphas, 'penalty': ['l1','l2','elasticnet'], 'eta0': np.logspace(-3, -0.301, 10)} # put your gradient descent parameters here\n",
    "#-3 is associated with 0.001, then -0.301 is log of 0.5\n",
    "gs = grid_search.GridSearchCV(\n",
    "    estimator=linear_model.SGDRegressor(),\n",
    "    cv=cross_validation.KFold(len(modeldata), n_folds=5, shuffle=True),\n",
    "    param_grid=params,\n",
    "    scoring='neg_mean_squared_error',\n",
    "    )\n",
    "\n",
    "gs.fit(modeldata, y)\n",
    "\n",
    "print 'BEST ESTIMATOR'\n",
    "print -gs.best_score_\n",
    "print gs.best_estimator_\n",
    "print 'ALL ESTIMATORS'\n",
    "print gs.grid_scores_"
   ]
  },
  {
   "cell_type": "code",
   "execution_count": null,
   "metadata": {
    "collapsed": true
   },
   "outputs": [],
   "source": []
  }
 ],
 "metadata": {
  "kernelspec": {
   "display_name": "Python 2",
   "language": "python",
   "name": "python2"
  },
  "language_info": {
   "codemirror_mode": {
    "name": "ipython",
    "version": 2
   },
   "file_extension": ".py",
   "mimetype": "text/x-python",
   "name": "python",
   "nbconvert_exporter": "python",
   "pygments_lexer": "ipython2",
   "version": "2.7.13"
  }
 },
 "nbformat": 4,
 "nbformat_minor": 1
}
