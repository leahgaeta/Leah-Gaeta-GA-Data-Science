{
 "cells": [
  {
   "cell_type": "code",
   "execution_count": 1,
   "metadata": {
    "collapsed": true
   },
   "outputs": [],
   "source": [
    "from __future__ import division\n",
    "import pandas as pd\n",
    "import numpy as np\n",
    "import matplotlib.pyplot as plt\n",
    "import pylab as pl\n",
    "import numpy as np\n",
    "%matplotlib inline"
   ]
  },
  {
   "cell_type": "code",
   "execution_count": 11,
   "metadata": {},
   "outputs": [
    {
     "name": "stdout",
     "output_type": "stream",
     "text": [
      "   year league_id team_id franchise_id div_id  rank    g  ghome   w   l  \\\n",
      "0  1960        AL     BAL          BAL    NaN     2  154     77  89  65   \n",
      "1  1960        AL     BOS          BOS    NaN     7  154     77  65  89   \n",
      "2  1960        AL     CHA          CHW    NaN     3  154     77  87  67   \n",
      "3  1960        NL     CHN          CHC    NaN     7  156     79  60  94   \n",
      "4  1960        NL     CIN          CIN    NaN     6  154     77  67  87   \n",
      "\n",
      "       ...         dp    fp               name              park  attendance  \\\n",
      "0      ...        172  0.98  Baltimore Orioles  Memorial Stadium     1187849   \n",
      "1      ...        156  0.97     Boston Red Sox    Fenway Park II     1129866   \n",
      "2      ...        175  0.98  Chicago White Sox     Comiskey Park     1644460   \n",
      "3      ...        133  0.97       Chicago Cubs     Wrigley Field      809770   \n",
      "4      ...        155  0.97    Cincinnati Reds     Crosley Field      663486   \n",
      "\n",
      "   bpf  ppf  team_id_br  team_id_lahman45  team_id_retro  \n",
      "0   99   98         BAL               BAL            BAL  \n",
      "1  103  103         BOS               BOS            BOS  \n",
      "2  100   98         CHW               CHA            CHA  \n",
      "3   99  100         CHC               CHN            CHN  \n",
      "4  102  102         CIN               CIN            CIN  \n",
      "\n",
      "[5 rows x 48 columns]\n"
     ]
    }
   ],
   "source": [
    "df_team = pd.read_csv(\"../../../../../Desktop/team_data.csv\")\n",
    "print df_team.head()"
   ]
  },
  {
   "cell_type": "code",
   "execution_count": null,
   "metadata": {
    "collapsed": true
   },
   "outputs": [],
   "source": []
  }
 ],
 "metadata": {
  "kernelspec": {
   "display_name": "Python 2",
   "language": "python",
   "name": "python2"
  },
  "language_info": {
   "codemirror_mode": {
    "name": "ipython",
    "version": 2
   },
   "file_extension": ".py",
   "mimetype": "text/x-python",
   "name": "python",
   "nbconvert_exporter": "python",
   "pygments_lexer": "ipython2",
   "version": "2.7.13"
  }
 },
 "nbformat": 4,
 "nbformat_minor": 2
}
