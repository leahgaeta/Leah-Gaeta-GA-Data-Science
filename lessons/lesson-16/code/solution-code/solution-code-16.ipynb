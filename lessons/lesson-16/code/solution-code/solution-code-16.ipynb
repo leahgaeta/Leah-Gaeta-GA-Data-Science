{
 "cells": [
  {
   "cell_type": "code",
   "execution_count": 1,
   "metadata": {},
   "outputs": [],
   "source": [
    "import pandas as pd\n",
    "import numpy as np\n",
    "\n",
    "%matplotlib inline"
   ]
  },
  {
   "cell_type": "markdown",
   "metadata": {},
   "source": [
    "### Walmart Sales Data\n",
    "\n",
    "For the independent practice, we will analyze the weekly sales data from Walmart over a two year period from 2010 to 2012.\n",
    "\n",
    "The data is again separated by store and by department, but we will focus on analyzing one store for simplicity.\n",
    "\n",
    "The data includes:\n",
    "\n",
    "- Store - the store number\n",
    "- Dept - the department number\n",
    "- Date - the week\n",
    "- Weekly_Sales -  sales for the given department in the given store\n",
    "- IsHoliday - whether the week is a special holiday week\n"
   ]
  },
  {
   "cell_type": "markdown",
   "metadata": {},
   "source": [
    "#### Loading the data and setting the DateTimeIndex"
   ]
  },
  {
   "cell_type": "code",
   "execution_count": 8,
   "metadata": {},
   "outputs": [
    {
     "data": {
      "text/html": [
       "<div>\n",
       "<style scoped>\n",
       "    .dataframe tbody tr th:only-of-type {\n",
       "        vertical-align: middle;\n",
       "    }\n",
       "\n",
       "    .dataframe tbody tr th {\n",
       "        vertical-align: top;\n",
       "    }\n",
       "\n",
       "    .dataframe thead th {\n",
       "        text-align: right;\n",
       "    }\n",
       "</style>\n",
       "<table border=\"1\" class=\"dataframe\">\n",
       "  <thead>\n",
       "    <tr style=\"text-align: right;\">\n",
       "      <th></th>\n",
       "      <th>Store</th>\n",
       "      <th>Dept</th>\n",
       "      <th>Weekly_Sales</th>\n",
       "      <th>IsHoliday</th>\n",
       "    </tr>\n",
       "    <tr>\n",
       "      <th>Date</th>\n",
       "      <th></th>\n",
       "      <th></th>\n",
       "      <th></th>\n",
       "      <th></th>\n",
       "    </tr>\n",
       "  </thead>\n",
       "  <tbody>\n",
       "    <tr>\n",
       "      <th>2010-02-05</th>\n",
       "      <td>1</td>\n",
       "      <td>1</td>\n",
       "      <td>24924.50</td>\n",
       "      <td>False</td>\n",
       "    </tr>\n",
       "    <tr>\n",
       "      <th>2010-02-12</th>\n",
       "      <td>1</td>\n",
       "      <td>1</td>\n",
       "      <td>46039.49</td>\n",
       "      <td>True</td>\n",
       "    </tr>\n",
       "    <tr>\n",
       "      <th>2010-02-19</th>\n",
       "      <td>1</td>\n",
       "      <td>1</td>\n",
       "      <td>41595.55</td>\n",
       "      <td>False</td>\n",
       "    </tr>\n",
       "    <tr>\n",
       "      <th>2010-02-26</th>\n",
       "      <td>1</td>\n",
       "      <td>1</td>\n",
       "      <td>19403.54</td>\n",
       "      <td>False</td>\n",
       "    </tr>\n",
       "    <tr>\n",
       "      <th>2010-03-05</th>\n",
       "      <td>1</td>\n",
       "      <td>1</td>\n",
       "      <td>21827.90</td>\n",
       "      <td>False</td>\n",
       "    </tr>\n",
       "  </tbody>\n",
       "</table>\n",
       "</div>"
      ],
      "text/plain": [
       "            Store  Dept  Weekly_Sales  IsHoliday\n",
       "Date                                            \n",
       "2010-02-05      1     1      24924.50      False\n",
       "2010-02-12      1     1      46039.49       True\n",
       "2010-02-19      1     1      41595.55      False\n",
       "2010-02-26      1     1      19403.54      False\n",
       "2010-03-05      1     1      21827.90      False"
      ]
     },
     "execution_count": 8,
     "metadata": {},
     "output_type": "execute_result"
    }
   ],
   "source": [
    "data = pd.read_csv('../dataset/train.csv')\n",
    "data['Date'] = pd.to_datetime(data['Date'])\n",
    "data.set_index('Date', inplace=True)\n",
    "data.head()"
   ]
  },
  {
   "cell_type": "markdown",
   "metadata": {},
   "source": [
    "#### Filter the dataframe to Store 1 sales and aggregate over departments to compute the total sales per store."
   ]
  },
  {
   "cell_type": "code",
   "execution_count": 9,
   "metadata": {},
   "outputs": [
    {
     "data": {
      "text/html": [
       "<div>\n",
       "<style scoped>\n",
       "    .dataframe tbody tr th:only-of-type {\n",
       "        vertical-align: middle;\n",
       "    }\n",
       "\n",
       "    .dataframe tbody tr th {\n",
       "        vertical-align: top;\n",
       "    }\n",
       "\n",
       "    .dataframe thead th {\n",
       "        text-align: right;\n",
       "    }\n",
       "</style>\n",
       "<table border=\"1\" class=\"dataframe\">\n",
       "  <thead>\n",
       "    <tr style=\"text-align: right;\">\n",
       "      <th></th>\n",
       "      <th>Weekly_Sales</th>\n",
       "    </tr>\n",
       "    <tr>\n",
       "      <th>Date</th>\n",
       "      <th></th>\n",
       "    </tr>\n",
       "  </thead>\n",
       "  <tbody>\n",
       "    <tr>\n",
       "      <th>2010-02-07</th>\n",
       "      <td>1643690.90</td>\n",
       "    </tr>\n",
       "    <tr>\n",
       "      <th>2010-02-14</th>\n",
       "      <td>1641957.44</td>\n",
       "    </tr>\n",
       "    <tr>\n",
       "      <th>2010-02-21</th>\n",
       "      <td>1611968.17</td>\n",
       "    </tr>\n",
       "    <tr>\n",
       "      <th>2010-02-28</th>\n",
       "      <td>1409727.59</td>\n",
       "    </tr>\n",
       "    <tr>\n",
       "      <th>2010-03-07</th>\n",
       "      <td>1554806.68</td>\n",
       "    </tr>\n",
       "  </tbody>\n",
       "</table>\n",
       "</div>"
      ],
      "text/plain": [
       "            Weekly_Sales\n",
       "Date                    \n",
       "2010-02-07    1643690.90\n",
       "2010-02-14    1641957.44\n",
       "2010-02-21    1611968.17\n",
       "2010-02-28    1409727.59\n",
       "2010-03-07    1554806.68"
      ]
     },
     "execution_count": 9,
     "metadata": {},
     "output_type": "execute_result"
    }
   ],
   "source": [
    "# Filter to store 1 sales and average over weeks\n",
    "store1_sales = data[data.Store == 1][['Weekly_Sales']].resample('W').sum()\n",
    "store1_sales.head()"
   ]
  },
  {
   "cell_type": "markdown",
   "metadata": {},
   "source": [
    "#### Plot the rolling_mean for `Weekly_Sales`. What general trends do you observe?"
   ]
  },
  {
   "cell_type": "code",
   "execution_count": 12,
   "metadata": {},
   "outputs": [
    {
     "data": {
      "text/plain": [
       "<matplotlib.axes._subplots.AxesSubplot at 0x10b176c90>"
      ]
     },
     "execution_count": 12,
     "metadata": {},
     "output_type": "execute_result"
    },
    {
     "data": {
      "image/png": "[encoded data removed]",
      "text/plain": [
       "<matplotlib.figure.Figure at 0x10b1d2690>"
      ]
     },
     "metadata": {},
     "output_type": "display_data"
    }
   ],
   "source": [
    "store1_sales[['Weekly_Sales']].rolling(window=3).mean().plot()"
   ]
  },
  {
   "cell_type": "markdown",
   "metadata": {
    "collapsed": true
   },
   "source": [
    "#### Compute the 1, 2, 52 autocorrelations for `Weekly_Sales` and/or create an autocorrelation plot."
   ]
  },
  {
   "cell_type": "code",
   "execution_count": 13,
   "metadata": {},
   "outputs": [
    {
     "name": "stdout",
     "output_type": "stream",
     "text": [
      "('Autocorrelation 1: ', 0.30215827941131251)\n",
      "('Autocorrelation 3: ', 0.059799235066717034)\n",
      "('Autocorrelation 52: ', 0.89537602947770079)\n"
     ]
    }
   ],
   "source": [
    "print('Autocorrelation 1: ', store1_sales['Weekly_Sales'].autocorr(1))\n",
    "print('Autocorrelation 3: ', store1_sales['Weekly_Sales'].autocorr(3))\n",
    "print('Autocorrelation 52: ', store1_sales['Weekly_Sales'].autocorr(52))"
   ]
  },
  {
   "cell_type": "code",
   "execution_count": 14,
   "metadata": {},
   "outputs": [
    {
     "data": {
      "text/plain": [
       "<matplotlib.axes._subplots.AxesSubplot at 0x10cb3bfd0>"
      ]
     },
     "execution_count": 14,
     "metadata": {},
     "output_type": "execute_result"
    },
    {
     "data": {
      "image/png": "[encoded data removed]",
      "text/plain": [
       "<matplotlib.figure.Figure at 0x10f60b210>"
      ]
     },
     "metadata": {},
     "output_type": "display_data"
    }
   ],
   "source": [
    "from pandas.plotting import autocorrelation_plot\n",
    "\n",
    "autocorrelation_plot(store1_sales['Weekly_Sales'])"
   ]
  },
  {
   "cell_type": "code",
   "execution_count": 15,
   "metadata": {},
   "outputs": [
    {
     "data": {
      "image/png": "[encoded data removed]",
      "text/plain": [
       "<matplotlib.figure.Figure at 0x10ca6c410>"
      ]
     },
     "execution_count": 15,
     "metadata": {},
     "output_type": "execute_result"
    },
    {
     "data": {
      "image/png": "[encoded data removed]",
      "text/plain": [
       "<matplotlib.figure.Figure at 0x10ca6c410>"
      ]
     },
     "metadata": {},
     "output_type": "display_data"
    }
   ],
   "source": [
    "from statsmodels.graphics.tsaplots import plot_acf\n",
    "\n",
    "plot_acf(store1_sales['Weekly_Sales'], lags=30)\n",
    "\n",
    "# Components 1 and 2 seem particularly useful for autoregression, perhaps up to 4\n",
    "# In the plot above notice, spike at around 52 - implying a yearly pattern as well\n",
    "# No random spikes, probably not much use for a moving average model"
   ]
  },
  {
   "cell_type": "markdown",
   "metadata": {},
   "source": [
    "#### Split the weekly sales data in a training and test set - using 75% of the data for training"
   ]
  },
  {
   "cell_type": "code",
   "execution_count": 16,
   "metadata": {},
   "outputs": [],
   "source": [
    "n = len(store1_sales.Weekly_Sales)\n",
    "\n",
    "train = store1_sales.Weekly_Sales[:int(.75*n)]\n",
    "test = store1_sales.Weekly_Sales[int(.75*n):]"
   ]
  },
  {
   "cell_type": "code",
   "execution_count": 17,
   "metadata": {},
   "outputs": [
    {
     "data": {
      "text/plain": [
       "pandas.core.series.Series"
      ]
     },
     "execution_count": 17,
     "metadata": {},
     "output_type": "execute_result"
    }
   ],
   "source": [
    "type(train)"
   ]
  },
  {
   "cell_type": "markdown",
   "metadata": {},
   "source": [
    "#### Create an AR(1) model on the training data and compute the mean absolute error of the predictions."
   ]
  },
  {
   "cell_type": "code",
   "execution_count": 18,
   "metadata": {},
   "outputs": [],
   "source": [
    "import statsmodels.api as sm\n",
    "from sklearn.metrics import mean_absolute_error"
   ]
  },
  {
   "cell_type": "code",
   "execution_count": 19,
   "metadata": {},
   "outputs": [
    {
     "name": "stdout",
     "output_type": "stream",
     "text": [
      "('Mean absolute error: ', 81839.338631623992)\n"
     ]
    },
    {
     "data": {
      "text/html": [
       "<table class=\"simpletable\">\n",
       "<caption>ARMA Model Results</caption>\n",
       "<tr>\n",
       "  <th>Dep. Variable:</th>   <td>Weekly_Sales</td>   <th>  No. Observations:  </th>     <td>107</td>   \n",
       "</tr>\n",
       "<tr>\n",
       "  <th>Model:</th>            <td>ARMA(1, 0)</td>    <th>  Log Likelihood     </th>  <td>-1434.663</td>\n",
       "</tr>\n",
       "<tr>\n",
       "  <th>Method:</th>             <td>css-mle</td>     <th>  S.D. of innovations</th> <td>160916.939</td>\n",
       "</tr>\n",
       "<tr>\n",
       "  <th>Date:</th>          <td>Wed, 27 Dec 2017</td> <th>  AIC                </th>  <td>2875.327</td> \n",
       "</tr>\n",
       "<tr>\n",
       "  <th>Time:</th>              <td>11:18:18</td>     <th>  BIC                </th>  <td>2883.345</td> \n",
       "</tr>\n",
       "<tr>\n",
       "  <th>Sample:</th>           <td>02-07-2010</td>    <th>  HQIC               </th>  <td>2878.577</td> \n",
       "</tr>\n",
       "<tr>\n",
       "  <th></th>                 <td>- 02-19-2012</td>   <th>                     </th>      <td> </td>    \n",
       "</tr>\n",
       "</table>\n",
       "<table class=\"simpletable\">\n",
       "<tr>\n",
       "           <td></td>             <th>coef</th>     <th>std err</th>      <th>z</th>      <th>P>|z|</th>  <th>[0.025</th>    <th>0.975]</th>  \n",
       "</tr>\n",
       "<tr>\n",
       "  <th>const</th>              <td> 1.544e+06</td> <td> 2.26e+04</td> <td>   68.293</td> <td> 0.000</td> <td>  1.5e+06</td> <td> 1.59e+06</td>\n",
       "</tr>\n",
       "<tr>\n",
       "  <th>ar.L1.Weekly_Sales</th> <td>    0.3147</td> <td>    0.093</td> <td>    3.399</td> <td> 0.001</td> <td>    0.133</td> <td>    0.496</td>\n",
       "</tr>\n",
       "</table>\n",
       "<table class=\"simpletable\">\n",
       "<caption>Roots</caption>\n",
       "<tr>\n",
       "    <td></td>   <th>           Real</th> <th>         Imaginary</th> <th>         Modulus</th> <th>        Frequency</th>\n",
       "</tr>\n",
       "<tr>\n",
       "  <th>AR.1</th>               3.1779                    +0.0000j                    3.1779                    0.0000     \n",
       "</tr>\n",
       "</table>"
      ],
      "text/plain": [
       "<class 'statsmodels.iolib.summary.Summary'>\n",
       "\"\"\"\n",
       "                              ARMA Model Results                              \n",
       "==============================================================================\n",
       "Dep. Variable:           Weekly_Sales   No. Observations:                  107\n",
       "Model:                     ARMA(1, 0)   Log Likelihood               -1434.663\n",
       "Method:                       css-mle   S.D. of innovations         160916.939\n",
       "Date:                Wed, 27 Dec 2017   AIC                           2875.327\n",
       "Time:                        11:18:18   BIC                           2883.345\n",
       "Sample:                    02-07-2010   HQIC                          2878.577\n",
       "                         - 02-19-2012                                         \n",
       "======================================================================================\n",
       "                         coef    std err          z      P>|z|      [0.025      0.975]\n",
       "--------------------------------------------------------------------------------------\n",
       "const               1.544e+06   2.26e+04     68.293      0.000     1.5e+06    1.59e+06\n",
       "ar.L1.Weekly_Sales     0.3147      0.093      3.399      0.001       0.133       0.496\n",
       "                                    Roots                                    \n",
       "=============================================================================\n",
       "                 Real           Imaginary           Modulus         Frequency\n",
       "-----------------------------------------------------------------------------\n",
       "AR.1            3.1779           +0.0000j            3.1779            0.0000\n",
       "-----------------------------------------------------------------------------\n",
       "\"\"\""
      ]
     },
     "execution_count": 19,
     "metadata": {},
     "output_type": "execute_result"
    }
   ],
   "source": [
    "model = sm.tsa.ARIMA(train, (1, 0, 0)).fit()\n",
    "\n",
    "predictions = model.predict(\n",
    "    '2012-02-27',\n",
    "    '2012-10-29',\n",
    "    dynamic=True, \n",
    ")\n",
    "\n",
    "print(\"Mean absolute error: \", mean_absolute_error(test, predictions))\n",
    "model.summary()"
   ]
  },
  {
   "cell_type": "code",
   "execution_count": 21,
   "metadata": {},
   "outputs": [
    {
     "data": {
      "text/plain": [
       "DatetimeIndex(['2012-02-26', '2012-03-04', '2012-03-11', '2012-03-18',\n",
       "               '2012-03-25', '2012-04-01', '2012-04-08', '2012-04-15',\n",
       "               '2012-04-22', '2012-04-29', '2012-05-06', '2012-05-13',\n",
       "               '2012-05-20', '2012-05-27', '2012-06-03', '2012-06-10',\n",
       "               '2012-06-17', '2012-06-24', '2012-07-01', '2012-07-08',\n",
       "               '2012-07-15', '2012-07-22', '2012-07-29', '2012-08-05',\n",
       "               '2012-08-12', '2012-08-19', '2012-08-26', '2012-09-02',\n",
       "               '2012-09-09', '2012-09-16', '2012-09-23', '2012-09-30',\n",
       "               '2012-10-07', '2012-10-14', '2012-10-21', '2012-10-28'],\n",
       "              dtype='datetime64[ns]', name=u'Date', freq='W-SUN')"
      ]
     },
     "execution_count": 21,
     "metadata": {},
     "output_type": "execute_result"
    }
   ],
   "source": [
    "test.keys()"
   ]
  },
  {
   "cell_type": "markdown",
   "metadata": {},
   "source": [
    "#### Plot the residuals - where are their significant errors."
   ]
  },
  {
   "cell_type": "code",
   "execution_count": 22,
   "metadata": {},
   "outputs": [
    {
     "data": {
      "text/plain": [
       "<matplotlib.axes._subplots.AxesSubplot at 0x1c19d0cc90>"
      ]
     },
     "execution_count": 22,
     "metadata": {},
     "output_type": "execute_result"
    },
    {
     "data": {
      "image/png": "[encoded data removed]",
      "text/plain": [
       "<matplotlib.figure.Figure at 0x1c187dbc50>"
      ]
     },
     "metadata": {},
     "output_type": "display_data"
    }
   ],
   "source": [
    "model.resid.plot()"
   ]
  },
  {
   "cell_type": "code",
   "execution_count": 23,
   "metadata": {},
   "outputs": [
    {
     "data": {
      "image/png": "[encoded data removed]",
      "text/plain": [
       "<matplotlib.figure.Figure at 0x1c1a052610>"
      ]
     },
     "execution_count": 23,
     "metadata": {},
     "output_type": "execute_result"
    },
    {
     "data": {
      "image/png": "[encoded data removed]",
      "text/plain": [
       "<matplotlib.figure.Figure at 0x1c1a052610>"
      ]
     },
     "metadata": {},
     "output_type": "display_data"
    }
   ],
   "source": [
    "plot_acf(model.resid, lags=30)"
   ]
  },
  {
   "cell_type": "markdown",
   "metadata": {},
   "source": [
    "#### Compute and AR(2) model and an ARMA(2, 2) model - does this improve your mean absolute error on the held out set."
   ]
  },
  {
   "cell_type": "code",
   "execution_count": 24,
   "metadata": {},
   "outputs": [
    {
     "name": "stdout",
     "output_type": "stream",
     "text": [
      "('Mean absolute error: ', 81203.234625738813)\n"
     ]
    },
    {
     "data": {
      "text/html": [
       "<table class=\"simpletable\">\n",
       "<caption>ARMA Model Results</caption>\n",
       "<tr>\n",
       "  <th>Dep. Variable:</th>   <td>Weekly_Sales</td>   <th>  No. Observations:  </th>     <td>107</td>   \n",
       "</tr>\n",
       "<tr>\n",
       "  <th>Model:</th>            <td>ARMA(2, 0)</td>    <th>  Log Likelihood     </th>  <td>-1434.482</td>\n",
       "</tr>\n",
       "<tr>\n",
       "  <th>Method:</th>             <td>css-mle</td>     <th>  S.D. of innovations</th> <td>160638.038</td>\n",
       "</tr>\n",
       "<tr>\n",
       "  <th>Date:</th>          <td>Wed, 27 Dec 2017</td> <th>  AIC                </th>  <td>2876.963</td> \n",
       "</tr>\n",
       "<tr>\n",
       "  <th>Time:</th>              <td>11:18:41</td>     <th>  BIC                </th>  <td>2887.655</td> \n",
       "</tr>\n",
       "<tr>\n",
       "  <th>Sample:</th>           <td>02-07-2010</td>    <th>  HQIC               </th>  <td>2881.298</td> \n",
       "</tr>\n",
       "<tr>\n",
       "  <th></th>                 <td>- 02-19-2012</td>   <th>                     </th>      <td> </td>    \n",
       "</tr>\n",
       "</table>\n",
       "<table class=\"simpletable\">\n",
       "<tr>\n",
       "           <td></td>             <th>coef</th>     <th>std err</th>      <th>z</th>      <th>P>|z|</th>  <th>[0.025</th>    <th>0.975]</th>  \n",
       "</tr>\n",
       "<tr>\n",
       "  <th>const</th>              <td> 1.544e+06</td> <td>  2.4e+04</td> <td>   64.349</td> <td> 0.000</td> <td>  1.5e+06</td> <td> 1.59e+06</td>\n",
       "</tr>\n",
       "<tr>\n",
       "  <th>ar.L1.Weekly_Sales</th> <td>    0.2974</td> <td>    0.097</td> <td>    3.075</td> <td> 0.003</td> <td>    0.108</td> <td>    0.487</td>\n",
       "</tr>\n",
       "<tr>\n",
       "  <th>ar.L2.Weekly_Sales</th> <td>    0.0589</td> <td>    0.098</td> <td>    0.603</td> <td> 0.548</td> <td>   -0.132</td> <td>    0.250</td>\n",
       "</tr>\n",
       "</table>\n",
       "<table class=\"simpletable\">\n",
       "<caption>Roots</caption>\n",
       "<tr>\n",
       "    <td></td>   <th>           Real</th> <th>         Imaginary</th> <th>         Modulus</th> <th>        Frequency</th>\n",
       "</tr>\n",
       "<tr>\n",
       "  <th>AR.1</th>               2.3080                    +0.0000j                    2.3080                    0.0000     \n",
       "</tr>\n",
       "<tr>\n",
       "  <th>AR.2</th>              -7.3587                    +0.0000j                    7.3587                    0.5000     \n",
       "</tr>\n",
       "</table>"
      ],
      "text/plain": [
       "<class 'statsmodels.iolib.summary.Summary'>\n",
       "\"\"\"\n",
       "                              ARMA Model Results                              \n",
       "==============================================================================\n",
       "Dep. Variable:           Weekly_Sales   No. Observations:                  107\n",
       "Model:                     ARMA(2, 0)   Log Likelihood               -1434.482\n",
       "Method:                       css-mle   S.D. of innovations         160638.038\n",
       "Date:                Wed, 27 Dec 2017   AIC                           2876.963\n",
       "Time:                        11:18:41   BIC                           2887.655\n",
       "Sample:                    02-07-2010   HQIC                          2881.298\n",
       "                         - 02-19-2012                                         \n",
       "======================================================================================\n",
       "                         coef    std err          z      P>|z|      [0.025      0.975]\n",
       "--------------------------------------------------------------------------------------\n",
       "const               1.544e+06    2.4e+04     64.349      0.000     1.5e+06    1.59e+06\n",
       "ar.L1.Weekly_Sales     0.2974      0.097      3.075      0.003       0.108       0.487\n",
       "ar.L2.Weekly_Sales     0.0589      0.098      0.603      0.548      -0.132       0.250\n",
       "                                    Roots                                    \n",
       "=============================================================================\n",
       "                 Real           Imaginary           Modulus         Frequency\n",
       "-----------------------------------------------------------------------------\n",
       "AR.1            2.3080           +0.0000j            2.3080            0.0000\n",
       "AR.2           -7.3587           +0.0000j            7.3587            0.5000\n",
       "-----------------------------------------------------------------------------\n",
       "\"\"\""
      ]
     },
     "execution_count": 24,
     "metadata": {},
     "output_type": "execute_result"
    }
   ],
   "source": [
    "model = sm.tsa.ARIMA(train, (2, 0, 0)).fit()\n",
    "\n",
    "predictions = model.predict(\n",
    "    '2012-02-27',\n",
    "    '2012-10-29',\n",
    "    dynamic=True, \n",
    ")\n",
    "\n",
    "print(\"Mean absolute error: \", mean_absolute_error(test, predictions))\n",
    "model.summary()"
   ]
  },
  {
   "cell_type": "code",
   "execution_count": 25,
   "metadata": {},
   "outputs": [
    {
     "name": "stdout",
     "output_type": "stream",
     "text": [
      "('Mean absolute error: ', 80502.240139467569)\n"
     ]
    },
    {
     "data": {
      "text/html": [
       "<table class=\"simpletable\">\n",
       "<caption>ARMA Model Results</caption>\n",
       "<tr>\n",
       "  <th>Dep. Variable:</th>   <td>Weekly_Sales</td>   <th>  No. Observations:  </th>     <td>107</td>   \n",
       "</tr>\n",
       "<tr>\n",
       "  <th>Model:</th>            <td>ARMA(2, 2)</td>    <th>  Log Likelihood     </th>  <td>-1425.781</td>\n",
       "</tr>\n",
       "<tr>\n",
       "  <th>Method:</th>             <td>css-mle</td>     <th>  S.D. of innovations</th> <td>144117.218</td>\n",
       "</tr>\n",
       "<tr>\n",
       "  <th>Date:</th>          <td>Wed, 27 Dec 2017</td> <th>  AIC                </th>  <td>2863.563</td> \n",
       "</tr>\n",
       "<tr>\n",
       "  <th>Time:</th>              <td>11:18:51</td>     <th>  BIC                </th>  <td>2879.600</td> \n",
       "</tr>\n",
       "<tr>\n",
       "  <th>Sample:</th>           <td>02-07-2010</td>    <th>  HQIC               </th>  <td>2870.064</td> \n",
       "</tr>\n",
       "<tr>\n",
       "  <th></th>                 <td>- 02-19-2012</td>   <th>                     </th>      <td> </td>    \n",
       "</tr>\n",
       "</table>\n",
       "<table class=\"simpletable\">\n",
       "<tr>\n",
       "           <td></td>             <th>coef</th>     <th>std err</th>      <th>z</th>      <th>P>|z|</th>  <th>[0.025</th>    <th>0.975]</th>  \n",
       "</tr>\n",
       "<tr>\n",
       "  <th>const</th>              <td> 1.544e+06</td> <td> 1.92e+04</td> <td>   80.320</td> <td> 0.000</td> <td> 1.51e+06</td> <td> 1.58e+06</td>\n",
       "</tr>\n",
       "<tr>\n",
       "  <th>ar.L1.Weekly_Sales</th> <td>   -1.0398</td> <td>    0.090</td> <td>  -11.583</td> <td> 0.000</td> <td>   -1.216</td> <td>   -0.864</td>\n",
       "</tr>\n",
       "<tr>\n",
       "  <th>ar.L2.Weekly_Sales</th> <td>   -0.4701</td> <td>    0.087</td> <td>   -5.380</td> <td> 0.000</td> <td>   -0.641</td> <td>   -0.299</td>\n",
       "</tr>\n",
       "<tr>\n",
       "  <th>ma.L1.Weekly_Sales</th> <td>    1.4691</td> <td>    0.058</td> <td>   25.341</td> <td> 0.000</td> <td>    1.355</td> <td>    1.583</td>\n",
       "</tr>\n",
       "<tr>\n",
       "  <th>ma.L2.Weekly_Sales</th> <td>    0.9997</td> <td>    0.074</td> <td>   13.533</td> <td> 0.000</td> <td>    0.855</td> <td>    1.145</td>\n",
       "</tr>\n",
       "</table>\n",
       "<table class=\"simpletable\">\n",
       "<caption>Roots</caption>\n",
       "<tr>\n",
       "    <td></td>   <th>           Real</th> <th>         Imaginary</th> <th>         Modulus</th> <th>        Frequency</th>\n",
       "</tr>\n",
       "<tr>\n",
       "  <th>AR.1</th>              -1.1059                    -0.9509j                    1.4585                   -0.3870     \n",
       "</tr>\n",
       "<tr>\n",
       "  <th>AR.2</th>              -1.1059                    +0.9509j                    1.4585                    0.3870     \n",
       "</tr>\n",
       "<tr>\n",
       "  <th>MA.1</th>              -0.7347                    -0.6785j                    1.0001                   -0.3813     \n",
       "</tr>\n",
       "<tr>\n",
       "  <th>MA.2</th>              -0.7347                    +0.6785j                    1.0001                    0.3813     \n",
       "</tr>\n",
       "</table>"
      ],
      "text/plain": [
       "<class 'statsmodels.iolib.summary.Summary'>\n",
       "\"\"\"\n",
       "                              ARMA Model Results                              \n",
       "==============================================================================\n",
       "Dep. Variable:           Weekly_Sales   No. Observations:                  107\n",
       "Model:                     ARMA(2, 2)   Log Likelihood               -1425.781\n",
       "Method:                       css-mle   S.D. of innovations         144117.218\n",
       "Date:                Wed, 27 Dec 2017   AIC                           2863.563\n",
       "Time:                        11:18:51   BIC                           2879.600\n",
       "Sample:                    02-07-2010   HQIC                          2870.064\n",
       "                         - 02-19-2012                                         \n",
       "======================================================================================\n",
       "                         coef    std err          z      P>|z|      [0.025      0.975]\n",
       "--------------------------------------------------------------------------------------\n",
       "const               1.544e+06   1.92e+04     80.320      0.000    1.51e+06    1.58e+06\n",
       "ar.L1.Weekly_Sales    -1.0398      0.090    -11.583      0.000      -1.216      -0.864\n",
       "ar.L2.Weekly_Sales    -0.4701      0.087     -5.380      0.000      -0.641      -0.299\n",
       "ma.L1.Weekly_Sales     1.4691      0.058     25.341      0.000       1.355       1.583\n",
       "ma.L2.Weekly_Sales     0.9997      0.074     13.533      0.000       0.855       1.145\n",
       "                                    Roots                                    \n",
       "=============================================================================\n",
       "                 Real           Imaginary           Modulus         Frequency\n",
       "-----------------------------------------------------------------------------\n",
       "AR.1           -1.1059           -0.9509j            1.4585           -0.3870\n",
       "AR.2           -1.1059           +0.9509j            1.4585            0.3870\n",
       "MA.1           -0.7347           -0.6785j            1.0001           -0.3813\n",
       "MA.2           -0.7347           +0.6785j            1.0001            0.3813\n",
       "-----------------------------------------------------------------------------\n",
       "\"\"\""
      ]
     },
     "execution_count": 25,
     "metadata": {},
     "output_type": "execute_result"
    }
   ],
   "source": [
    "model = sm.tsa.ARIMA(train, (2, 0, 2)).fit()\n",
    "\n",
    "predictions = model.predict(\n",
    "    '2012-02-27',\n",
    "    '2012-10-29',\n",
    "    dynamic=True, \n",
    ")\n",
    "\n",
    "print(\"Mean absolute error: \", mean_absolute_error(test, predictions))\n",
    "model.summary()"
   ]
  },
  {
   "cell_type": "markdown",
   "metadata": {},
   "source": [
    "#### Finally, compute an ARIMA model to improve your prediction error - iterate on the p, q, and parameters comparing the model's performance."
   ]
  },
  {
   "cell_type": "code",
   "execution_count": 26,
   "metadata": {},
   "outputs": [
    {
     "name": "stdout",
     "output_type": "stream",
     "text": [
      "('Mean absolute error: ', 77715.144893794612)\n"
     ]
    },
    {
     "name": "stderr",
     "output_type": "stream",
     "text": [
      "/Users/naumz/anaconda/lib/python2.7/site-packages/statsmodels/base/model.py:473: HessianInversionWarning: Inverting hessian failed, no bse or cov_params available\n",
      "  'available', HessianInversionWarning)\n",
      "/Users/naumz/anaconda/lib/python2.7/site-packages/statsmodels/base/model.py:496: ConvergenceWarning: Maximum Likelihood optimization failed to converge. Check mle_retvals\n",
      "  \"Check mle_retvals\", ConvergenceWarning)\n"
     ]
    },
    {
     "data": {
      "text/html": [
       "<table class=\"simpletable\">\n",
       "<caption>ARIMA Model Results</caption>\n",
       "<tr>\n",
       "  <th>Dep. Variable:</th>  <td>D.Weekly_Sales</td>  <th>  No. Observations:  </th>     <td>106</td>   \n",
       "</tr>\n",
       "<tr>\n",
       "  <th>Model:</th>          <td>ARIMA(2, 1, 3)</td>  <th>  Log Likelihood     </th>  <td>-1413.663</td>\n",
       "</tr>\n",
       "<tr>\n",
       "  <th>Method:</th>             <td>css-mle</td>     <th>  S.D. of innovations</th> <td>142989.041</td>\n",
       "</tr>\n",
       "<tr>\n",
       "  <th>Date:</th>          <td>Wed, 27 Dec 2017</td> <th>  AIC                </th>  <td>2841.325</td> \n",
       "</tr>\n",
       "<tr>\n",
       "  <th>Time:</th>              <td>11:18:58</td>     <th>  BIC                </th>  <td>2859.969</td> \n",
       "</tr>\n",
       "<tr>\n",
       "  <th>Sample:</th>           <td>02-14-2010</td>    <th>  HQIC               </th>  <td>2848.882</td> \n",
       "</tr>\n",
       "<tr>\n",
       "  <th></th>                 <td>- 02-19-2012</td>   <th>                     </th>      <td> </td>    \n",
       "</tr>\n",
       "</table>\n",
       "<table class=\"simpletable\">\n",
       "<tr>\n",
       "            <td></td>              <th>coef</th>     <th>std err</th>      <th>z</th>      <th>P>|z|</th>  <th>[0.025</th>    <th>0.975]</th>  \n",
       "</tr>\n",
       "<tr>\n",
       "  <th>const</th>                <td>  553.2547</td> <td>  623.172</td> <td>    0.888</td> <td> 0.377</td> <td> -668.140</td> <td> 1774.649</td>\n",
       "</tr>\n",
       "<tr>\n",
       "  <th>ar.L1.D.Weekly_Sales</th> <td>   -1.0481</td> <td>    0.090</td> <td>  -11.600</td> <td> 0.000</td> <td>   -1.225</td> <td>   -0.871</td>\n",
       "</tr>\n",
       "<tr>\n",
       "  <th>ar.L2.D.Weekly_Sales</th> <td>   -0.4783</td> <td>    0.088</td> <td>   -5.443</td> <td> 0.000</td> <td>   -0.651</td> <td>   -0.306</td>\n",
       "</tr>\n",
       "<tr>\n",
       "  <th>ma.L1.D.Weekly_Sales</th> <td>    0.4694</td> <td>    0.357</td> <td>    1.316</td> <td> 0.191</td> <td>   -0.230</td> <td>    1.169</td>\n",
       "</tr>\n",
       "<tr>\n",
       "  <th>ma.L2.D.Weekly_Sales</th> <td>   -0.4693</td> <td>    0.519</td> <td>   -0.905</td> <td> 0.368</td> <td>   -1.486</td> <td>    0.547</td>\n",
       "</tr>\n",
       "<tr>\n",
       "  <th>ma.L3.D.Weekly_Sales</th> <td>   -0.9999</td> <td>    0.359</td> <td>   -2.783</td> <td> 0.006</td> <td>   -1.704</td> <td>   -0.296</td>\n",
       "</tr>\n",
       "</table>\n",
       "<table class=\"simpletable\">\n",
       "<caption>Roots</caption>\n",
       "<tr>\n",
       "    <td></td>   <th>           Real</th> <th>         Imaginary</th> <th>         Modulus</th> <th>        Frequency</th>\n",
       "</tr>\n",
       "<tr>\n",
       "  <th>AR.1</th>              -1.0956                    -0.9435j                    1.4459                   -0.3869     \n",
       "</tr>\n",
       "<tr>\n",
       "  <th>AR.2</th>              -1.0956                    +0.9435j                    1.4459                    0.3869     \n",
       "</tr>\n",
       "<tr>\n",
       "  <th>MA.1</th>               1.0000                    -0.0000j                    1.0000                   -0.0000     \n",
       "</tr>\n",
       "<tr>\n",
       "  <th>MA.2</th>              -0.7347                    -0.6784j                    1.0000                   -0.3813     \n",
       "</tr>\n",
       "<tr>\n",
       "  <th>MA.3</th>              -0.7347                    +0.6784j                    1.0000                    0.3813     \n",
       "</tr>\n",
       "</table>"
      ],
      "text/plain": [
       "<class 'statsmodels.iolib.summary.Summary'>\n",
       "\"\"\"\n",
       "                             ARIMA Model Results                              \n",
       "==============================================================================\n",
       "Dep. Variable:         D.Weekly_Sales   No. Observations:                  106\n",
       "Model:                 ARIMA(2, 1, 3)   Log Likelihood               -1413.663\n",
       "Method:                       css-mle   S.D. of innovations         142989.041\n",
       "Date:                Wed, 27 Dec 2017   AIC                           2841.325\n",
       "Time:                        11:18:58   BIC                           2859.969\n",
       "Sample:                    02-14-2010   HQIC                          2848.882\n",
       "                         - 02-19-2012                                         \n",
       "========================================================================================\n",
       "                           coef    std err          z      P>|z|      [0.025      0.975]\n",
       "----------------------------------------------------------------------------------------\n",
       "const                  553.2547    623.172      0.888      0.377    -668.140    1774.649\n",
       "ar.L1.D.Weekly_Sales    -1.0481      0.090    -11.600      0.000      -1.225      -0.871\n",
       "ar.L2.D.Weekly_Sales    -0.4783      0.088     -5.443      0.000      -0.651      -0.306\n",
       "ma.L1.D.Weekly_Sales     0.4694      0.357      1.316      0.191      -0.230       1.169\n",
       "ma.L2.D.Weekly_Sales    -0.4693      0.519     -0.905      0.368      -1.486       0.547\n",
       "ma.L3.D.Weekly_Sales    -0.9999      0.359     -2.783      0.006      -1.704      -0.296\n",
       "                                    Roots                                    \n",
       "=============================================================================\n",
       "                 Real           Imaginary           Modulus         Frequency\n",
       "-----------------------------------------------------------------------------\n",
       "AR.1           -1.0956           -0.9435j            1.4459           -0.3869\n",
       "AR.2           -1.0956           +0.9435j            1.4459            0.3869\n",
       "MA.1            1.0000           -0.0000j            1.0000           -0.0000\n",
       "MA.2           -0.7347           -0.6784j            1.0000           -0.3813\n",
       "MA.3           -0.7347           +0.6784j            1.0000            0.3813\n",
       "-----------------------------------------------------------------------------\n",
       "\"\"\""
      ]
     },
     "execution_count": 26,
     "metadata": {},
     "output_type": "execute_result"
    }
   ],
   "source": [
    "model = sm.tsa.ARIMA(train, (2, 1, 3)).fit()\n",
    "\n",
    "predictions = model.predict(\n",
    "    '2012-02-27',\n",
    "    '2012-10-29',\n",
    "    dynamic=False, \n",
    "    typ='levels'\n",
    ")\n",
    "\n",
    "print(\"Mean absolute error: \", mean_absolute_error(test, predictions))\n",
    "model.summary()"
   ]
  },
  {
   "cell_type": "code",
   "execution_count": null,
   "metadata": {
    "collapsed": true
   },
   "outputs": [],
   "source": []
  }
 ],
 "metadata": {
  "kernelspec": {
   "display_name": "Python 2",
   "language": "python",
   "name": "python2"
  },
  "language_info": {
   "codemirror_mode": {
    "name": "ipython",
    "version": 2
   },
   "file_extension": ".py",
   "mimetype": "text/x-python",
   "name": "python",
   "nbconvert_exporter": "python",
   "pygments_lexer": "ipython2",
   "version": "2.7.14"
  }
 },
 "nbformat": 4,
 "nbformat_minor": 1
}
