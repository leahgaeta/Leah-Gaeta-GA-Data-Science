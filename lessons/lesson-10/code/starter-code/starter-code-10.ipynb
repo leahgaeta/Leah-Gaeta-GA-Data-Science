{
 "cells": [
  {
   "cell_type": "markdown",
   "metadata": {},
   "source": [
    "### Cost Benefit Questions\n",
    "\n",
    "1. How would you rephrase the business problem if your model was optimizing toward _precision_? i.e., How might the model behave differently, and what effect would it have?\n",
    "2. How would you rephrase the business problem if your model was optimizing toward _recall_?\n",
    "3. What would the most ideal model look like in this case?\n"
   ]
  },
  {
   "cell_type": "markdown",
   "metadata": {},
   "source": [
    "### Visualizing models over variables"
   ]
  },
  {
   "cell_type": "code",
   "execution_count": 1,
   "metadata": {
    "collapsed": true
   },
   "outputs": [],
   "source": [
    "%matplotlib inline"
   ]
  },
  {
   "cell_type": "code",
   "execution_count": 2,
   "metadata": {},
   "outputs": [],
   "source": [
    "import pandas as pd\n",
    "import sklearn.linear_model as lm\n",
    "import matplotlib.pyplot as plt\n",
    "import seaborn as sns\n",
    "\n",
    "df = pd.read_csv('../dataset/flight_delays.csv')\n",
    "df = df.loc[df.DEP_DEL15.notnull()].copy()"
   ]
  },
  {
   "cell_type": "code",
   "execution_count": 3,
   "metadata": {},
   "outputs": [
    {
     "data": {
      "text/html": [
       "<div>\n",
       "<style>\n",
       "    .dataframe thead tr:only-child th {\n",
       "        text-align: right;\n",
       "    }\n",
       "\n",
       "    .dataframe thead th {\n",
       "        text-align: left;\n",
       "    }\n",
       "\n",
       "    .dataframe tbody tr th {\n",
       "        vertical-align: top;\n",
       "    }\n",
       "</style>\n",
       "<table border=\"1\" class=\"dataframe\">\n",
       "  <thead>\n",
       "    <tr style=\"text-align: right;\">\n",
       "      <th></th>\n",
       "      <th>DAY_OF_MONTH</th>\n",
       "      <th>DAY_OF_WEEK</th>\n",
       "      <th>FL_DATE</th>\n",
       "      <th>UNIQUE_CARRIER</th>\n",
       "      <th>AIRLINE_ID</th>\n",
       "      <th>CARRIER</th>\n",
       "      <th>ORIGIN_AIRPORT_ID</th>\n",
       "      <th>ORIGIN_AIRPORT_SEQ_ID</th>\n",
       "      <th>ORIGIN_CITY_MARKET_ID</th>\n",
       "      <th>DEST_AIRPORT_ID</th>\n",
       "      <th>DEST_AIRPORT_SEQ_ID</th>\n",
       "      <th>DEST_CITY_MARKET_ID</th>\n",
       "      <th>CRS_DEP_TIME</th>\n",
       "      <th>DEP_TIME</th>\n",
       "      <th>DEP_DEL15</th>\n",
       "      <th>Unnamed: 15</th>\n",
       "    </tr>\n",
       "  </thead>\n",
       "  <tbody>\n",
       "    <tr>\n",
       "      <th>0</th>\n",
       "      <td>1</td>\n",
       "      <td>4</td>\n",
       "      <td>2015-01-01</td>\n",
       "      <td>AA</td>\n",
       "      <td>19805</td>\n",
       "      <td>AA</td>\n",
       "      <td>12478</td>\n",
       "      <td>1247802</td>\n",
       "      <td>31703</td>\n",
       "      <td>12892</td>\n",
       "      <td>1289203</td>\n",
       "      <td>32575</td>\n",
       "      <td>900</td>\n",
       "      <td>855.0</td>\n",
       "      <td>0.0</td>\n",
       "      <td>NaN</td>\n",
       "    </tr>\n",
       "    <tr>\n",
       "      <th>1</th>\n",
       "      <td>1</td>\n",
       "      <td>4</td>\n",
       "      <td>2015-01-01</td>\n",
       "      <td>AA</td>\n",
       "      <td>19805</td>\n",
       "      <td>AA</td>\n",
       "      <td>12892</td>\n",
       "      <td>1289203</td>\n",
       "      <td>32575</td>\n",
       "      <td>12478</td>\n",
       "      <td>1247802</td>\n",
       "      <td>31703</td>\n",
       "      <td>900</td>\n",
       "      <td>856.0</td>\n",
       "      <td>0.0</td>\n",
       "      <td>NaN</td>\n",
       "    </tr>\n",
       "    <tr>\n",
       "      <th>2</th>\n",
       "      <td>1</td>\n",
       "      <td>4</td>\n",
       "      <td>2015-01-01</td>\n",
       "      <td>AA</td>\n",
       "      <td>19805</td>\n",
       "      <td>AA</td>\n",
       "      <td>12478</td>\n",
       "      <td>1247802</td>\n",
       "      <td>31703</td>\n",
       "      <td>12892</td>\n",
       "      <td>1289203</td>\n",
       "      <td>32575</td>\n",
       "      <td>1230</td>\n",
       "      <td>1226.0</td>\n",
       "      <td>0.0</td>\n",
       "      <td>NaN</td>\n",
       "    </tr>\n",
       "    <tr>\n",
       "      <th>3</th>\n",
       "      <td>1</td>\n",
       "      <td>4</td>\n",
       "      <td>2015-01-01</td>\n",
       "      <td>AA</td>\n",
       "      <td>19805</td>\n",
       "      <td>AA</td>\n",
       "      <td>12892</td>\n",
       "      <td>1289203</td>\n",
       "      <td>32575</td>\n",
       "      <td>12478</td>\n",
       "      <td>1247802</td>\n",
       "      <td>31703</td>\n",
       "      <td>1220</td>\n",
       "      <td>1214.0</td>\n",
       "      <td>0.0</td>\n",
       "      <td>NaN</td>\n",
       "    </tr>\n",
       "    <tr>\n",
       "      <th>4</th>\n",
       "      <td>1</td>\n",
       "      <td>4</td>\n",
       "      <td>2015-01-01</td>\n",
       "      <td>AA</td>\n",
       "      <td>19805</td>\n",
       "      <td>AA</td>\n",
       "      <td>11298</td>\n",
       "      <td>1129803</td>\n",
       "      <td>30194</td>\n",
       "      <td>12173</td>\n",
       "      <td>1217302</td>\n",
       "      <td>32134</td>\n",
       "      <td>1305</td>\n",
       "      <td>1754.0</td>\n",
       "      <td>1.0</td>\n",
       "      <td>NaN</td>\n",
       "    </tr>\n",
       "  </tbody>\n",
       "</table>\n",
       "</div>"
      ],
      "text/plain": [
       "   DAY_OF_MONTH  DAY_OF_WEEK     FL_DATE UNIQUE_CARRIER  AIRLINE_ID CARRIER  \\\n",
       "0             1            4  2015-01-01             AA       19805      AA   \n",
       "1             1            4  2015-01-01             AA       19805      AA   \n",
       "2             1            4  2015-01-01             AA       19805      AA   \n",
       "3             1            4  2015-01-01             AA       19805      AA   \n",
       "4             1            4  2015-01-01             AA       19805      AA   \n",
       "\n",
       "   ORIGIN_AIRPORT_ID  ORIGIN_AIRPORT_SEQ_ID  ORIGIN_CITY_MARKET_ID  \\\n",
       "0              12478                1247802                  31703   \n",
       "1              12892                1289203                  32575   \n",
       "2              12478                1247802                  31703   \n",
       "3              12892                1289203                  32575   \n",
       "4              11298                1129803                  30194   \n",
       "\n",
       "   DEST_AIRPORT_ID  DEST_AIRPORT_SEQ_ID  DEST_CITY_MARKET_ID  CRS_DEP_TIME  \\\n",
       "0            12892              1289203                32575           900   \n",
       "1            12478              1247802                31703           900   \n",
       "2            12892              1289203                32575          1230   \n",
       "3            12478              1247802                31703          1220   \n",
       "4            12173              1217302                32134          1305   \n",
       "\n",
       "   DEP_TIME  DEP_DEL15  Unnamed: 15  \n",
       "0     855.0        0.0          NaN  \n",
       "1     856.0        0.0          NaN  \n",
       "2    1226.0        0.0          NaN  \n",
       "3    1214.0        0.0          NaN  \n",
       "4    1754.0        1.0          NaN  "
      ]
     },
     "execution_count": 3,
     "metadata": {},
     "output_type": "execute_result"
    }
   ],
   "source": [
    "df.head()"
   ]
  },
  {
   "cell_type": "code",
   "execution_count": 4,
   "metadata": {},
   "outputs": [],
   "source": [
    "df = df[df.DEP_DEL15.notnull()]\n",
    "df = df.join(pd.get_dummies(df['CARRIER'], prefix='carrier'))\n",
    "df = df.join(pd.get_dummies(df['DAY_OF_WEEK'], prefix='dow'))\n",
    "model = lm.LogisticRegression()\n"
   ]
  },
  {
   "cell_type": "code",
   "execution_count": 5,
   "metadata": {},
   "outputs": [
    {
     "name": "stdout",
     "output_type": "stream",
     "text": [
      "['dow_1', 'dow_2', 'dow_3', 'dow_4', 'dow_5', 'dow_6', 'dow_7', 'CRS_DEP_TIME']\n"
     ]
    }
   ],
   "source": [
    "features = [i for i in df.columns if 'dow_' in i]\n",
    "features += ['CRS_DEP_TIME']\n",
    "print features\n",
    "model.fit(df[features[1:]], df['DEP_DEL15'])\n",
    "df['probability'] = model.predict_proba(df[features[1:]]).T[1]"
   ]
  },
  {
   "cell_type": "code",
   "execution_count": 6,
   "metadata": {},
   "outputs": [
    {
     "data": {
      "text/plain": [
       "[<matplotlib.text.Text at 0x10e2e0f50>]"
      ]
     },
     "execution_count": 6,
     "metadata": {},
     "output_type": "execute_result"
    },
    {
     "data": {
      "image/png": "[encoded data removed]",
      "text/plain": [
       "<matplotlib.figure.Figure at 0x11b752210>"
      ]
     },
     "metadata": {},
     "output_type": "display_data"
    }
   ],
   "source": [
    "ax = plt.subplot(111)\n",
    "colors = ['blue', 'green', 'red', 'purple', 'orange', 'brown']\n",
    "for e, c in enumerate(colors):\n",
    "    df[df[features[e]] == 1].plot(x='CRS_DEP_TIME', y='probability', kind='scatter', color = c, ax=ax)\n",
    "\n",
    "ax.set(title='Probability of Delay\\n Based on Day of Week and Time of Day')\n"
   ]
  },
  {
   "cell_type": "markdown",
   "metadata": {},
   "source": [
    "### Other Answers: visualizing Airline or the inverse"
   ]
  },
  {
   "cell_type": "code",
   "execution_count": 17,
   "metadata": {},
   "outputs": [
    {
     "name": "stdout",
     "output_type": "stream",
     "text": [
      "['carrier_AA', 'carrier_AS', 'carrier_B6', 'carrier_DL', 'carrier_EV', 'carrier_F9', 'carrier_HA', 'carrier_MQ', 'carrier_NK', 'carrier_OO', 'carrier_UA', 'carrier_US', 'carrier_VX', 'carrier_WN', 'CRS_DEP_TIME']\n"
     ]
    }
   ],
   "source": [
    "features = [i for i in df.columns if 'carrier_' in i]\n",
    "features += ['CRS_DEP_TIME']\n",
    "print features"
   ]
  },
  {
   "cell_type": "code",
   "execution_count": null,
   "metadata": {},
   "outputs": [],
   "source": []
  },
  {
   "cell_type": "markdown",
   "metadata": {},
   "source": [
    "### Visualizing Performance Against Baseline"
   ]
  },
  {
   "cell_type": "markdown",
   "metadata": {},
   "source": [
    "#### Visualizing AUC and comparing Models"
   ]
  },
  {
   "cell_type": "code",
   "execution_count": 7,
   "metadata": {
    "collapsed": true
   },
   "outputs": [],
   "source": [
    "from sklearn import dummy, metrics"
   ]
  },
  {
   "cell_type": "code",
   "execution_count": 8,
   "metadata": {},
   "outputs": [],
   "source": [
    "model0 = dummy.DummyClassifier()\n",
    "model0.fit(df[features[1:]], df['DEP_DEL15'])\n",
    "df['probability_0'] = model0.predict_proba(df[features[1:]]).T[1]\n",
    "\n",
    "model1 = lm.LogisticRegression()\n",
    "model.fit(df[features[1:]], df['DEP_DEL15'])\n",
    "df['probability_1'] = model.predict_proba(df[features[1:]]).T[1]\n"
   ]
  },
  {
   "cell_type": "code",
   "execution_count": 9,
   "metadata": {},
   "outputs": [
    {
     "data": {
      "text/plain": [
       "(458311, 40)"
      ]
     },
     "execution_count": 9,
     "metadata": {},
     "output_type": "execute_result"
    }
   ],
   "source": [
    "df.shape"
   ]
  },
  {
   "cell_type": "code",
   "execution_count": 10,
   "metadata": {},
   "outputs": [
    {
     "data": {
      "text/plain": [
       "[(0, 1),\n",
       " <matplotlib.text.Text at 0x11b752150>,\n",
       " (0, 1),\n",
       " <matplotlib.text.Text at 0x11a3b30d0>,\n",
       " <matplotlib.text.Text at 0x11b348bd0>]"
      ]
     },
     "execution_count": 10,
     "metadata": {},
     "output_type": "execute_result"
    },
    {
     "data": {
      "image/png": "[encoded data removed]",
      "text/plain": [
       "<matplotlib.figure.Figure at 0x11b748510>"
      ]
     },
     "metadata": {},
     "output_type": "display_data"
    }
   ],
   "source": [
    "ax = plt.subplot(111)\n",
    "vals = metrics.roc_curve(df.DEP_DEL15, df.probability_0)\n",
    "ax.plot(vals[0], vals[1])\n",
    "vals = metrics.roc_curve(df.DEP_DEL15, df.probability_1)\n",
    "ax.plot(vals[0], vals[1])\n",
    "\n",
    "ax.set(title='Area Under the Curve for prediction delayed=1', ylabel='', xlabel='', xlim=(0, 1), ylim=(0, 1))"
   ]
  },
  {
   "cell_type": "markdown",
   "metadata": {},
   "source": [
    "#### Visualizing Precision / Recall"
   ]
  },
  {
   "cell_type": "code",
   "execution_count": 12,
   "metadata": {},
   "outputs": [
    {
     "data": {
      "text/plain": [
       "[(0, 1),\n",
       " <matplotlib.text.Text at 0x113b18410>,\n",
       " (0, 1),\n",
       " <matplotlib.text.Text at 0x11b52bed0>,\n",
       " <matplotlib.text.Text at 0x1196ca7d0>]"
      ]
     },
     "execution_count": 12,
     "metadata": {},
     "output_type": "execute_result"
    },
    {
     "data": {
      "image/png": "[encoded data removed]",
      "text/plain": [
       "<matplotlib.figure.Figure at 0x113cb8050>"
      ]
     },
     "metadata": {},
     "output_type": "display_data"
    }
   ],
   "source": [
    "ax = plt.subplot(111)\n",
    "vals = metrics.precision_recall_curve(df.DEP_DEL15, df.probability_0)\n",
    "ax.plot(vals[0], vals[1])\n",
    "vals = metrics.precision_recall_curve(df.DEP_DEL15, df.probability_1)\n",
    "ax.plot(vals[0], vals[1])\n",
    "\n",
    "ax.set(title='Precision-Recall Curve for prediction delayed=1', ylabel='', xlabel='', xlim=(0, 1), ylim=(0, 1))"
   ]
  },
  {
   "cell_type": "code",
   "execution_count": null,
   "metadata": {
    "collapsed": true
   },
   "outputs": [],
   "source": []
  }
 ],
 "metadata": {
  "kernelspec": {
   "display_name": "Python 2",
   "language": "python",
   "name": "python2"
  },
  "language_info": {
   "codemirror_mode": {
    "name": "ipython",
    "version": 2
   },
   "file_extension": ".py",
   "mimetype": "text/x-python",
   "name": "python",
   "nbconvert_exporter": "python",
   "pygments_lexer": "ipython2",
   "version": "2.7.13"
  }
 },
 "nbformat": 4,
 "nbformat_minor": 1
}
