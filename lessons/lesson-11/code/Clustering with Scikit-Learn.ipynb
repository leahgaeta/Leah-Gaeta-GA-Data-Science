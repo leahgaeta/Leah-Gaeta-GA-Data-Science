{
 "cells": [
  {
   "cell_type": "markdown",
   "metadata": {},
   "source": [
    "# Clustering with Sklearn\n",
    "\n",
    "In this notebook we'll practice clustering algorithms with Scikit-Learn."
   ]
  },
  {
   "cell_type": "markdown",
   "metadata": {},
   "source": [
    "## Data sets\n",
    "\n",
    "We'll use the following datasets:\n",
    "* Some sample data\n",
    "* [Iris](http://archive.ics.uci.edu/ml/datasets/Iris)\n",
    "* [Old Faithful eruption data](http://www.stat.cmu.edu/~larry/all-of-statistics/=data/faithful.dat): eruption times and wait times between eruptions\n",
    "\n",
    "There are many [clustering data sets](https://archive.ics.uci.edu/ml/datasets.html?format=&task=clu&att=&area=&numAtt=&numIns=&type=&sort=nameUp&view=table) you can use for practice!\n"
   ]
  },
  {
   "cell_type": "code",
   "execution_count": null,
   "metadata": {},
   "outputs": [],
   "source": [
    "%matplotlib inline\n",
    "from collections import Counter\n",
    "import random\n",
    "\n",
    "import numpy as np\n",
    "from scipy import stats\n",
    "import matplotlib.pyplot as plt\n",
    "import pandas as pd\n",
    "import seaborn as sns\n",
    "from sklearn.cluster import KMeans, DBSCAN"
   ]
  },
  {
   "cell_type": "code",
   "execution_count": null,
   "metadata": {},
   "outputs": [],
   "source": [
    "## Create some synthetic data\n",
    "\n",
    "from scipy.stats import multivariate_normal\n",
    "data = []\n",
    "dist = multivariate_normal(mean=[0,0], cov=[[1,0],[0,1]])\n",
    "for i in range(150):\n",
    "    data.append(dist.rvs())\n",
    "dist = multivariate_normal(mean=[5,5], cov=[[1,0.5],[0.2,1]])\n",
    "for i in range(150):\n",
    "    data.append(dist.rvs())\n",
    "dist = multivariate_normal(mean=[9,9], cov=[[1,0.5],[0.2,1]])\n",
    "for i in range(150):\n",
    "    data.append(dist.rvs())\n",
    "dist = multivariate_normal(mean=[-10,5], cov=[[3,0.5],[0.2,2]])\n",
    "for i in range(150):\n",
    "    data.append(dist.rvs())    \n",
    "    \n",
    "df = pd.DataFrame(data, columns=[\"x\", \"y\"])\n",
    "df.head()\n",
    "plt.scatter(df['x'], df['y'])\n",
    "plt.show()"
   ]
  },
  {
   "cell_type": "code",
   "execution_count": null,
   "metadata": {},
   "outputs": [],
   "source": [
    "def annulus(inner_radius, outer_radius, n=30, color='b'):\n",
    "    \"\"\"Generate n points with class `color` between the inner radius and the outer radius.\"\"\"\n",
    "    data = []\n",
    "    diff = outer_radius - inner_radius\n",
    "    for _ in range(n):\n",
    "        # Pick an angle and radius\n",
    "        angle = 2 * np.pi * random.random()\n",
    "        r = inner_radius + diff * random.random()\n",
    "        x = r * np.cos(angle)\n",
    "        y = r * np.sin(angle)\n",
    "        data.append((x, y))\n",
    "    # Return a data frame for convenience\n",
    "    xs, ys = zip(*data)\n",
    "    df = pd.DataFrame()\n",
    "    df[\"x\"] = xs\n",
    "    df[\"y\"] = ys\n",
    "    df[\"color\"] = color\n",
    "    return df\n",
    "\n",
    "df1 = annulus(2, 6, 200, color='r')\n",
    "df2 = annulus(8, 10, 300, color='b')\n",
    "df_circ = pd.concat([df1, df2])"
   ]
  },
  {
   "cell_type": "code",
   "execution_count": null,
   "metadata": {},
   "outputs": [],
   "source": [
    "plt.scatter(df_circ['x'], df_circ['y'], c=df_circ['color'])\n",
    "plt.show()"
   ]
  },
  {
   "cell_type": "markdown",
   "metadata": {},
   "source": [
    "## K-Means with sklearn"
   ]
  },
  {
   "cell_type": "code",
   "execution_count": null,
   "metadata": {},
   "outputs": [],
   "source": [
    "# Fit a k-means estimator\n",
    "estimator = KMeans(n_clusters=2)\n",
    "X = df[[\"x\", \"y\"]]\n",
    "estimator.fit(X)\n",
    "# Clusters are given in the labels_ attribute\n",
    "labels = estimator.labels_\n",
    "print labels"
   ]
  },
  {
   "cell_type": "code",
   "execution_count": null,
   "metadata": {},
   "outputs": [],
   "source": [
    "# Plot the data\n",
    "\n",
    "def set_colors(labels, colors='rgbykcm'):\n",
    "    colored_labels = []\n",
    "    for label in labels:\n",
    "        colored_labels.append(colors[label])\n",
    "    return colored_labels\n",
    "\n",
    "colors = set_colors(labels)\n",
    "plt.scatter(df['x'], df['y'], c=colors)\n",
    "plt.xlabel(\"x\")\n",
    "plt.ylabel(\"y\")\n",
    "plt.show()"
   ]
  },
  {
   "cell_type": "markdown",
   "metadata": {},
   "source": [
    "Let's try it with `k=4` this time."
   ]
  },
  {
   "cell_type": "code",
   "execution_count": null,
   "metadata": {},
   "outputs": [],
   "source": [
    "estimator = KMeans(n_clusters=4)\n",
    "X = df[[\"x\", \"y\"]]\n",
    "estimator.fit(X)\n",
    "# Clusters are given in the labels_ attribute\n",
    "labels = estimator.labels_\n",
    "print Counter(labels)\n",
    "\n",
    "colors = set_colors(labels)\n",
    "plt.scatter(df['x'], df['y'], c=colors)\n",
    "plt.xlabel(\"x\")\n",
    "plt.ylabel(\"y\")\n",
    "plt.show()\n"
   ]
  },
  {
   "cell_type": "markdown",
   "metadata": {},
   "source": [
    "Let's try the circular data."
   ]
  },
  {
   "cell_type": "code",
   "execution_count": null,
   "metadata": {},
   "outputs": [],
   "source": [
    "estimator = KMeans(n_clusters=2)\n",
    "X = df_circ[[\"x\", \"y\"]]\n",
    "estimator.fit(X)\n",
    "# Clusters are given in the labels_ attribute\n",
    "labels = estimator.labels_\n",
    "print Counter(labels)\n",
    "\n",
    "colors = set_colors(labels)\n",
    "plt.scatter(df_circ['x'], df_circ['y'], c=colors)\n",
    "plt.xlabel(\"x\")\n",
    "plt.ylabel(\"y\")\n",
    "plt.show()\n"
   ]
  },
  {
   "cell_type": "markdown",
   "metadata": {},
   "source": [
    "Ouch! No so great on this dataset. Now let's try some real data."
   ]
  },
  {
   "cell_type": "code",
   "execution_count": null,
   "metadata": {},
   "outputs": [],
   "source": [
    "of_df = pd.read_csv(\"./datasets/old-faithful.csv\")\n",
    "of_df.head()"
   ]
  },
  {
   "cell_type": "code",
   "execution_count": null,
   "metadata": {},
   "outputs": [],
   "source": [
    "of_df.plot.scatter(x=\"eruption_time\", y=\"wait_time\")\n",
    "plt.show()"
   ]
  },
  {
   "cell_type": "code",
   "execution_count": null,
   "metadata": {},
   "outputs": [],
   "source": [
    "# Fit a k-means estimator\n",
    "estimator = KMeans(n_clusters=2)\n",
    "X = of_df[[\"eruption_time\", \"wait_time\"]]\n",
    "estimator.fit(X)\n",
    "# Clusters are given in the labels_ attribute\n",
    "labels = estimator.labels_\n",
    "print Counter(labels)"
   ]
  },
  {
   "cell_type": "code",
   "execution_count": null,
   "metadata": {},
   "outputs": [],
   "source": [
    "# Plot the data\n",
    "\n",
    "colors = set_colors(labels)\n",
    "plt.scatter(of_df[\"eruption_time\"], of_df[\"wait_time\"], c=colors)\n",
    "plt.xlabel(\"eruption_time\")\n",
    "plt.ylabel(\"wait_time\")\n",
    "plt.show()"
   ]
  },
  {
   "cell_type": "markdown",
   "metadata": {},
   "source": [
    "## Exercise: k-means\n",
    "\n",
    "For the Iris dataset, fit and plot k-means models to:\n",
    "* sepal_length and petal_length, for k=2 and k=3\n",
    "* sepal_width and petal_width, for k=2 and k=3\n",
    "\n",
    "Bonus: [Compare](http://scikit-learn.org/stable/modules/clustering.html#adjusted-rand-index) your classifications to the known species. How well do the labels match up?\n",
    "\n",
    "After: Check out the 3D-example [here](http://scikit-learn.org/stable/auto_examples/cluster/plot_cluster_iris.html)"
   ]
  },
  {
   "cell_type": "code",
   "execution_count": null,
   "metadata": {},
   "outputs": [],
   "source": [
    "iris = pd.read_csv(\"./datasets/iris.data\")\n",
    "iris\n",
    "sns.pairplot(iris, hue=\"species\")\n",
    "plt.show()"
   ]
  },
  {
   "cell_type": "code",
   "execution_count": null,
   "metadata": {
    "scrolled": true
   },
   "outputs": [],
   "source": [
    "# sepal_length and petal_length, for k=2 and k=3"
   ]
  },
  {
   "cell_type": "code",
   "execution_count": null,
   "metadata": {
    "collapsed": true
   },
   "outputs": [],
   "source": [
    "# sepal_width and petal_width, for k=2 and k=3"
   ]
  },
  {
   "cell_type": "code",
   "execution_count": null,
   "metadata": {},
   "outputs": [],
   "source": [
    "# evaluate clusters with actual species\n",
    "# print stats.mode(labels[0:50]).mode\n",
    "# print stats.mode(labels[50:100]).mode\n",
    "# print stats.mode(labels[100:]).mode\n",
    "\n",
    "label_map = {}\n",
    "true_labels = iris.species.map(label_map).values\n",
    "number_correct = 0\n",
    "for t, l in zip(true_labels, labels):\n",
    "    if t == l:\n",
    "        number_correct += 1\n",
    "print number_correct / float(len(iris))"
   ]
  },
  {
   "cell_type": "markdown",
   "metadata": {},
   "source": [
    "## DBSCAN"
   ]
  },
  {
   "cell_type": "code",
   "execution_count": null,
   "metadata": {},
   "outputs": [],
   "source": [
    "# Fit a DBSCAN estimator\n",
    "estimator = DBSCAN(eps=1, min_samples=10)\n",
    "X = df[[\"x\", \"y\"]]\n",
    "estimator.fit(X)\n",
    "# Clusters are given in the labels_ attribute\n",
    "labels = estimator.labels_\n",
    "print Counter(labels)\n",
    "\n",
    "colors = set_colors(labels)\n",
    "plt.scatter(df['x'], df['y'], c=colors)\n",
    "plt.xlabel(\"x\")\n",
    "plt.ylabel(\"y\")\n",
    "plt.show()"
   ]
  },
  {
   "cell_type": "code",
   "execution_count": null,
   "metadata": {},
   "outputs": [],
   "source": [
    "# Fit a DBSCAN estimator\n",
    "estimator = DBSCAN(eps=0.8, min_samples=10)\n",
    "X = df[[\"x\", \"y\"]]\n",
    "estimator.fit(X)\n",
    "# Clusters are given in the labels_ attribute\n",
    "labels = estimator.labels_\n",
    "print Counter(labels)\n",
    "\n",
    "colors = set_colors(labels)\n",
    "plt.scatter(df['x'], df['y'], c=colors)\n",
    "plt.xlabel(\"x\")\n",
    "plt.ylabel(\"y\")\n",
    "plt.show()"
   ]
  },
  {
   "cell_type": "code",
   "execution_count": null,
   "metadata": {},
   "outputs": [],
   "source": [
    "# Fit a DBSCAN estimator\n",
    "estimator = DBSCAN(eps=2, min_samples=10)\n",
    "X = df_circ[[\"x\", \"y\"]]\n",
    "estimator.fit(X)\n",
    "# Clusters are given in the labels_ attribute\n",
    "labels = estimator.labels_\n",
    "print Counter(labels)\n",
    "\n",
    "colors = set_colors(labels)\n",
    "plt.scatter(df_circ['x'], df_circ['y'], c=colors)\n",
    "plt.xlabel(\"x\")\n",
    "plt.ylabel(\"y\")\n",
    "plt.show()"
   ]
  },
  {
   "cell_type": "markdown",
   "metadata": {},
   "source": [
    "Much better than k-means on this dataset! Let's try to cook up something that DBSCAN doesn't work as well on."
   ]
  },
  {
   "cell_type": "code",
   "execution_count": null,
   "metadata": {},
   "outputs": [],
   "source": [
    "## Create some synthetic data\n",
    "\n",
    "data = []\n",
    "dist = multivariate_normal(mean=[0,0], cov=[[6,12],[1,6]])\n",
    "for i in range(50):\n",
    "    data.append(dist.rvs())\n",
    "dist = multivariate_normal(mean=[10,10], cov=[[1,1.1],[0.2,0.6]])\n",
    "for i in range(400):\n",
    "    data.append(dist.rvs())    \n",
    "    \n",
    "df2 = pd.DataFrame(data, columns=[\"x\", \"y\"])\n",
    "df2.head()\n",
    "plt.scatter(df2['x'], df2['y'])\n",
    "plt.show()"
   ]
  },
  {
   "cell_type": "code",
   "execution_count": null,
   "metadata": {},
   "outputs": [],
   "source": [
    "# Fit a DBSCAN estimator\n",
    "estimator = DBSCAN(eps=0.5, min_samples=10)\n",
    "X = df2[[\"x\", \"y\"]]\n",
    "estimator.fit(X)\n",
    "# Clusters are given in the labels_ attribute\n",
    "labels = estimator.labels_\n",
    "print Counter(labels)\n",
    "\n",
    "colors = set_colors(labels)\n",
    "plt.scatter(df2['x'], df2['y'], c=colors)\n",
    "plt.xlabel(\"x\")\n",
    "plt.ylabel(\"y\")\n",
    "plt.show()"
   ]
  },
  {
   "cell_type": "markdown",
   "metadata": {},
   "source": [
    "## Exercise: DBSCAN\n",
    "\n",
    "For the Iris dataset, fit and plot dbscan models to:\n",
    "* sepal_length and petal_length\n",
    "* sepal_width and petal_width\n",
    "\n",
    "Bonus: [Compare](http://scikit-learn.org/stable/modules/clustering.html#adjusted-rand-index) your classifications to the known species. How well do the labels match up?"
   ]
  },
  {
   "cell_type": "code",
   "execution_count": null,
   "metadata": {
    "collapsed": true
   },
   "outputs": [],
   "source": [
    "# sepal_length and petal_length"
   ]
  },
  {
   "cell_type": "code",
   "execution_count": null,
   "metadata": {
    "collapsed": true
   },
   "outputs": [],
   "source": [
    "# sepal_width and petal_width"
   ]
  },
  {
   "cell_type": "code",
   "execution_count": null,
   "metadata": {
    "collapsed": true
   },
   "outputs": [],
   "source": [
    "# compare performance to true species values"
   ]
  },
  {
   "cell_type": "markdown",
   "metadata": {},
   "source": [
    "## Hierarchical Clustering"
   ]
  },
  {
   "cell_type": "code",
   "execution_count": null,
   "metadata": {},
   "outputs": [],
   "source": [
    "# Hierarchical: Agglomerative Clustering\n",
    "from sklearn.cluster import AgglomerativeClustering\n",
    "\n",
    "# Fit an estimator\n",
    "estimator = AgglomerativeClustering(n_clusters=4)\n",
    "X = df[[\"x\", \"y\"]]\n",
    "estimator.fit(X)\n",
    "# Clusters are given in the labels_ attribute\n",
    "labels = estimator.labels_\n",
    "print Counter(labels)\n",
    "\n",
    "colors = set_colors(labels)\n",
    "plt.scatter(df['x'], df['y'], c=colors)\n",
    "plt.xlabel(\"x\")\n",
    "plt.ylabel(\"y\")\n",
    "plt.show()"
   ]
  },
  {
   "cell_type": "code",
   "execution_count": null,
   "metadata": {},
   "outputs": [],
   "source": [
    "# Hierarchical: Agglomerative Clustering\n",
    "from sklearn.cluster import AgglomerativeClustering\n",
    "\n",
    "# Fit an estimator\n",
    "estimator = AgglomerativeClustering(n_clusters=2)\n",
    "X = df_circ[[\"x\", \"y\"]]\n",
    "estimator.fit(X)\n",
    "# Clusters are given in the labels_ attribute\n",
    "labels = estimator.labels_\n",
    "print Counter(labels)\n",
    "\n",
    "colors = set_colors(labels)\n",
    "plt.scatter(df_circ['x'], df_circ['y'], c=colors)\n",
    "plt.xlabel(\"x\")\n",
    "plt.ylabel(\"y\")\n",
    "plt.show()"
   ]
  },
  {
   "cell_type": "code",
   "execution_count": null,
   "metadata": {},
   "outputs": [],
   "source": [
    "## Silhouette Coefficient\n",
    "\n",
    "from sklearn import metrics\n",
    "\n",
    "estimator = KMeans(n_clusters=4)\n",
    "X = df[[\"x\", \"y\"]]\n",
    "estimator.fit(X)\n",
    "# Clusters are given in the labels_ attribute\n",
    "labels = estimator.labels_\n",
    "print Counter(labels)\n",
    "\n",
    "print metrics.silhouette_score(X, labels, metric='euclidean')\n"
   ]
  },
  {
   "cell_type": "code",
   "execution_count": null,
   "metadata": {},
   "outputs": [],
   "source": [
    "estimator = DBSCAN(eps=0.8, min_samples=10)\n",
    "X = df[[\"x\", \"y\"]]\n",
    "estimator.fit(X)\n",
    "# Clusters are given in the labels_ attribute\n",
    "labels = estimator.labels_\n",
    "print Counter(labels)\n",
    "print metrics.silhouette_score(X, labels, metric='euclidean')"
   ]
  },
  {
   "cell_type": "markdown",
   "metadata": {},
   "source": [
    "Bigger is better, so k-means was a better clustering algorithm on this data set."
   ]
  },
  {
   "cell_type": "code",
   "execution_count": null,
   "metadata": {
    "collapsed": true
   },
   "outputs": [],
   "source": []
  }
 ],
 "metadata": {
  "kernelspec": {
   "display_name": "Python 2",
   "language": "python",
   "name": "python2"
  },
  "language_info": {
   "codemirror_mode": {
    "name": "ipython",
    "version": 2
   },
   "file_extension": ".py",
   "mimetype": "text/x-python",
   "name": "python",
   "nbconvert_exporter": "python",
   "pygments_lexer": "ipython2",
   "version": "2.7.13"
  }
 },
 "nbformat": 4,
 "nbformat_minor": 1
}
